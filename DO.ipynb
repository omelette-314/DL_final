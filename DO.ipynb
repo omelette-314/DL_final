{
 "cells": [
  {
   "cell_type": "code",
   "execution_count": 1,
   "metadata": {},
   "outputs": [
    {
     "name": "stderr",
     "output_type": "stream",
     "text": [
      "Using TensorFlow backend.\n"
     ]
    }
   ],
   "source": [
    "import sys, os, re, csv, codecs, numpy as np, pandas as pd\n",
    "import matplotlib.pyplot as plt\n",
    "import matplotlib\n",
    "#matplotlib.use('Agg')\n",
    "from keras.preprocessing.text import Tokenizer\n",
    "from keras.preprocessing.sequence import pad_sequences\n",
    "from gensim import models\n",
    "from tqdm.notebook import tqdm"
   ]
  },
  {
   "cell_type": "code",
   "execution_count": 2,
   "metadata": {},
   "outputs": [],
   "source": [
    "#embed_size = 50 # how big is each word vector\n",
    "max_features = 20000 # how many unique words to use (i.e num rows in embedding vector)\n",
    "maxlen = 100 # max number of words in a comment to use\n",
    "train = pd.read_csv(\"train_stance_pre.csv\")\n",
    "train_body = pd.read_csv(\"train_body_pre.csv\")\n",
    "list_sentences_train = train[\"Headline\"].fillna(\"_na_\").values\n",
    "list_sentences_body = train_body[\"articleBody\"]\n",
    "#subm = pd.read_csv(\"sample_submission.csv\")\n",
    "#cat = pd.read_json(\"categories.json\")\n",
    "list_classes = [\"agree\",\"disagree\",\"discuss\",\"unrelated\"]\n",
    "#list_classes = [\"toxic\", \"severe_toxic\", \"obscene\", \"threat\", \"insult\", \"identity_hate\"]\n",
    "y = train[list_classes].values\n",
    "tokenizer = Tokenizer(num_words=max_features)\n",
    "tokenizer.fit_on_texts(list(list_sentences_train))\n",
    "tokenizer.fit_on_texts(list(list_sentences_body))\n",
    "list_tokenized_train = tokenizer.texts_to_sequences(list_sentences_train)\n",
    "list_tokenized_test = tokenizer.texts_to_sequences(list_sentences_body)\n",
    "X_t = pad_sequences(list_tokenized_train, maxlen=maxlen)\n",
    "#print(X_t[0])\n",
    "#print(len(X_t))\n",
    "X_te = pad_sequences(list_tokenized_test, maxlen=300)"
   ]
  },
  {
   "cell_type": "code",
   "execution_count": 3,
   "metadata": {},
   "outputs": [
    {
     "data": {
      "text/html": [
       "<div>\n",
       "<style scoped>\n",
       "    .dataframe tbody tr th:only-of-type {\n",
       "        vertical-align: middle;\n",
       "    }\n",
       "\n",
       "    .dataframe tbody tr th {\n",
       "        vertical-align: top;\n",
       "    }\n",
       "\n",
       "    .dataframe thead th {\n",
       "        text-align: right;\n",
       "    }\n",
       "</style>\n",
       "<table border=\"1\" class=\"dataframe\">\n",
       "  <thead>\n",
       "    <tr style=\"text-align: right;\">\n",
       "      <th></th>\n",
       "      <th>Body ID</th>\n",
       "      <th>Headline</th>\n",
       "      <th>agree</th>\n",
       "      <th>disagree</th>\n",
       "      <th>discuss</th>\n",
       "      <th>unrelated</th>\n",
       "    </tr>\n",
       "  </thead>\n",
       "  <tbody>\n",
       "    <tr>\n",
       "      <th>0</th>\n",
       "      <td>712</td>\n",
       "      <td>police find mass grave with at least ' bodies'...</td>\n",
       "      <td>0.0</td>\n",
       "      <td>0.0</td>\n",
       "      <td>0.0</td>\n",
       "      <td>1.0</td>\n",
       "    </tr>\n",
       "    <tr>\n",
       "      <th>1</th>\n",
       "      <td>158</td>\n",
       "      <td>hundred of palestinian flee flood in gaza a is...</td>\n",
       "      <td>1.0</td>\n",
       "      <td>0.0</td>\n",
       "      <td>0.0</td>\n",
       "      <td>0.0</td>\n",
       "    </tr>\n",
       "    <tr>\n",
       "      <th>2</th>\n",
       "      <td>137</td>\n",
       "      <td>christian bale pas on role of steve job actor ...</td>\n",
       "      <td>0.0</td>\n",
       "      <td>0.0</td>\n",
       "      <td>0.0</td>\n",
       "      <td>1.0</td>\n",
       "    </tr>\n",
       "    <tr>\n",
       "      <th>3</th>\n",
       "      <td>1034</td>\n",
       "      <td>hbo and apple in talk for month apple tv strea...</td>\n",
       "      <td>0.0</td>\n",
       "      <td>0.0</td>\n",
       "      <td>0.0</td>\n",
       "      <td>1.0</td>\n",
       "    </tr>\n",
       "    <tr>\n",
       "      <th>4</th>\n",
       "      <td>1923</td>\n",
       "      <td>spider burrow through tourist's stomach and up...</td>\n",
       "      <td>0.0</td>\n",
       "      <td>1.0</td>\n",
       "      <td>0.0</td>\n",
       "      <td>0.0</td>\n",
       "    </tr>\n",
       "  </tbody>\n",
       "</table>\n",
       "</div>"
      ],
      "text/plain": [
       "   Body ID                                           Headline  agree  \\\n",
       "0      712  police find mass grave with at least ' bodies'...    0.0   \n",
       "1      158  hundred of palestinian flee flood in gaza a is...    1.0   \n",
       "2      137  christian bale pas on role of steve job actor ...    0.0   \n",
       "3     1034  hbo and apple in talk for month apple tv strea...    0.0   \n",
       "4     1923  spider burrow through tourist's stomach and up...    0.0   \n",
       "\n",
       "   disagree  discuss  unrelated  \n",
       "0       0.0      0.0        1.0  \n",
       "1       0.0      0.0        0.0  \n",
       "2       0.0      0.0        1.0  \n",
       "3       0.0      0.0        1.0  \n",
       "4       1.0      0.0        0.0  "
      ]
     },
     "execution_count": 3,
     "metadata": {},
     "output_type": "execute_result"
    }
   ],
   "source": [
    "train.head()"
   ]
  },
  {
   "cell_type": "code",
   "execution_count": 4,
   "metadata": {},
   "outputs": [],
   "source": [
    "X_tte = np.zeros((len(X_t),300),dtype = np.int32)\n",
    "for i in range(len(train['Body ID'])):\n",
    "    X_tte[i] = X_te[train_body['Body ID']==train['Body ID'][i]]"
   ]
  },
  {
   "cell_type": "code",
   "execution_count": 5,
   "metadata": {},
   "outputs": [
    {
     "data": {
      "text/plain": [
       "\"train_body['articleBody'][train_body['Body ID']==712]\\n w = models.KeyedVectors.load_word2vec_format(\\n    './GoogleNews-vectors-negative300.bin', binary=True)\\nw['be']\\nembedding_matrix[tokenizer.word_index['be']]\""
      ]
     },
     "execution_count": 5,
     "metadata": {},
     "output_type": "execute_result"
    }
   ],
   "source": [
    "'''train_body['articleBody'][train_body['Body ID']==712]\n",
    " w = models.KeyedVectors.load_word2vec_format(\n",
    "    './GoogleNews-vectors-negative300.bin', binary=True)\n",
    "w['be']\n",
    "embedding_matrix[tokenizer.word_index['be']]'''"
   ]
  },
  {
   "cell_type": "code",
   "execution_count": 6,
   "metadata": {},
   "outputs": [
    {
     "data": {
      "text/plain": [
       "49972"
      ]
     },
     "execution_count": 6,
     "metadata": {},
     "output_type": "execute_result"
    }
   ],
   "source": [
    "len(np.where(y==1)[1])"
   ]
  },
  {
   "cell_type": "code",
   "execution_count": 7,
   "metadata": {},
   "outputs": [],
   "source": [
    "embed_size = 300 # how big is each word vector\n",
    "#max_features = 20000 # how many unique words to use (i.e num rows in embedding vector)\n",
    "max_features = min(len(tokenizer.word_index),20000)\n",
    "maxlen = 100 # max number of words in a comment to use\n",
    "def create_emb_layer(weights_matrix, non_trainable=False):\n",
    "    num_embeddings, embedding_dim = weights_matrix.shape\n",
    "    emb_layer = nn.Embedding(max_features, embed_dim)\n",
    "    emb_layer.load_state_dict({'weight': weights_matrix})\n",
    "    if non_trainable:\n",
    "        emb_layer.weight.requires_grad = False\n",
    "\n",
    "    return emb_layer, num_embeddings, embedding_dim\n",
    "def loadGloveModel():\n",
    "    print(\"Loading Glove Model\")\n",
    "\n",
    "    f = open('glove.6B.100d.txt','r')\n",
    "    gloveModel = {}\n",
    "    for line in f:\n",
    "        splitLines = line.split()\n",
    "        word = splitLines[0]\n",
    "        wordEmbedding = np.array([float(value) for value in splitLines[1:]])\n",
    "        gloveModel[word] = wordEmbedding\n",
    "    print(len(gloveModel),\" words loaded!\")\n",
    "    return gloveModel\n",
    "def loadGoogleModel():\n",
    "    w = models.KeyedVectors.load_word2vec_format(\n",
    "    './GoogleNews-vectors-negative300.bin', binary=True)\n",
    "    return w\n",
    "def get_embed(word_idx,max_features,embed_dim):\n",
    "    #glove = loadGloveModel()\n",
    "    glove = loadGoogleModel()\n",
    "    #all_embs = np.stack(glove.to_numpy())\n",
    "    #all_embs = np.stack(glove.values())\n",
    "    #emb_mean,emb_std = all_embs.mean(), all_embs.std()\n",
    "    emb_mean = 0\n",
    "    emb_std = 0.6\n",
    "    word_index = word_idx\n",
    "    embedding_matrix = np.random.normal(emb_mean, emb_std, (max_features, embed_dim))\n",
    "    #print(\"go into model\")\n",
    "    for word, i in word_index.items():\n",
    "        if i >= max_features: continue\n",
    "        try: \n",
    "            embedding_vector = glove[word]\n",
    "        except:\n",
    "            None\n",
    "            #print('skip')\n",
    "            #embedding_vector = np.random.normal(scale=0.6, size=(100, ))\n",
    "        if embedding_vector is not None: \n",
    "            embedding_matrix[i] = embedding_vector\n",
    "    return embedding_matrix\n",
    "embedding_matrix = get_embed(tokenizer.word_index,max_features,embed_size)"
   ]
  },
  {
   "cell_type": "code",
   "execution_count": 8,
   "metadata": {},
   "outputs": [],
   "source": [
    "from torch.utils.data import Dataset\n",
    "class LoadDataset(Dataset):\n",
    "    def __init__(self, train_body,train_stance,y):\n",
    "        self.body = train_body\n",
    "        self.sentence = train_stance\n",
    "        self.label = y\n",
    "        #self.labels = train_label_lt\n",
    "    def __getitem__(self, idx):\n",
    "        body = self.body[idx]\n",
    "        sentence = self.sentence[idx]\n",
    "        y = self.label[idx]    \n",
    "        #label = self.labels[idx]\n",
    "        #filename = self.imgs[idx]\n",
    "        return body,sentence,y\n",
    "    def __len__(self):\n",
    "        return len(self.sentence)"
   ]
  },
  {
   "cell_type": "code",
   "execution_count": 9,
   "metadata": {},
   "outputs": [],
   "source": [
    "import torch\n",
    "import torch.nn as nn\n",
    "from torch.autograd import Variable\n",
    "from torch import autograd\n",
    "from torch.utils.data import DataLoader\n",
    "from torch.utils.data import SubsetRandomSampler\n",
    "from torch.utils.data import SequentialSampler\n",
    "from torch.utils.data import Sampler\n",
    "import random"
   ]
  },
  {
   "cell_type": "code",
   "execution_count": 5,
   "metadata": {},
   "outputs": [
    {
     "name": "stdout",
     "output_type": "stream",
     "text": [
      "840\n"
     ]
    }
   ],
   "source": [
    "label_3_idx = sum([np.where(y==1)[1] == 3])\n",
    "label_2_idx = sum([np.where(y==1)[1] == 2])\n",
    "label_1_idx = sum([np.where(y==1)[1] == 1])\n",
    "label_0_idx = sum([np.where(y==1)[1] == 0])\n",
    "print(sum(label_1_idx))\n",
    "label_0_idx = [idx  for idx,t in enumerate(label_0_idx) if t == 1]\n",
    "label_1_idx = [idx  for idx,t in enumerate(label_1_idx) if t == 1]\n",
    "label_2_idx = [idx  for idx,t in enumerate(label_2_idx) if t == 1]\n",
    "label_3_idx = [idx  for idx,t in enumerate(label_3_idx) if t == 1]"
   ]
  },
  {
   "cell_type": "code",
   "execution_count": 11,
   "metadata": {},
   "outputs": [
    {
     "data": {
      "text/plain": [
       "'class IISampler(Sampler):\\n    def __init__(self, y_,index0,index1,index2,index3,batch_size,drop_last):\\n        self.batch_size = batch_size\\n        self.sampler = y_\\n        self.drop_last = drop_last\\n        self.indence = index0\\n        self.indence1 = index1\\n        self.indence2 = index2\\n        self.indence3 = index3\\n    def __iter__(self):\\n        batch = []\\n        #for j in range(4):\\n        #batch.append(random.sample(self.indence,16))\\n        #batch.append(random.sample(self.indence1,16))\\n        #batch.append(random.sample(self.indence2,16))\\n        #batch.append(random.sample(self.indence3,16))\\n        idx = random.sample(self.indence,16)\\n        idx1 = random.sample(self.indence1,16)\\n        idx2 = random.sample(self.indence2,16)\\n        idx3 = random.sample(self.indence3,16)\\n        batch.append(idx)\\n        batch.append(idx1)\\n        batch.append(idx2)\\n        batch.append(idx3)\\n        batch = np.array(batch).reshape(self.batch_size)\\n        np.random.shuffle(batch)\\n        #print(batch)\\n        if len(batch) == self.batch_size:\\n            #return batch\\n            yield batch\\n            #batch = []\\n        #return batch\\n        #return batch\\n        #return (self.indices[i] for i in torch.randperm(len(self.indices)))\\n\\n    def __len__(self):\\n        if self.drop_last:\\n            return len(self.sampler) // self.batch_size\\n        else:\\n            return (len(self.sampler) + self.batch_size - 1) // self.batch_size\\n\\nprint(len(a))\\na=np.array([4,2,3,1])\\nremove_ixs=np.where(a>1)[0]\\nprint(remove_ixs)\\nb=np.delete(a,remove_ixs)\\nprint(b)'"
      ]
     },
     "execution_count": 11,
     "metadata": {},
     "output_type": "execute_result"
    }
   ],
   "source": [
    "'''class IISampler(Sampler):\n",
    "    def __init__(self, y_,index0,index1,index2,index3,batch_size,drop_last):\n",
    "        self.batch_size = batch_size\n",
    "        self.sampler = y_\n",
    "        self.drop_last = drop_last\n",
    "        self.indence = index0\n",
    "        self.indence1 = index1\n",
    "        self.indence2 = index2\n",
    "        self.indence3 = index3\n",
    "    def __iter__(self):\n",
    "        batch = []\n",
    "        #for j in range(4):\n",
    "        #batch.append(random.sample(self.indence,16))\n",
    "        #batch.append(random.sample(self.indence1,16))\n",
    "        #batch.append(random.sample(self.indence2,16))\n",
    "        #batch.append(random.sample(self.indence3,16))\n",
    "        idx = random.sample(self.indence,16)\n",
    "        idx1 = random.sample(self.indence1,16)\n",
    "        idx2 = random.sample(self.indence2,16)\n",
    "        idx3 = random.sample(self.indence3,16)\n",
    "        batch.append(idx)\n",
    "        batch.append(idx1)\n",
    "        batch.append(idx2)\n",
    "        batch.append(idx3)\n",
    "        batch = np.array(batch).reshape(self.batch_size)\n",
    "        np.random.shuffle(batch)\n",
    "        #print(batch)\n",
    "        if len(batch) == self.batch_size:\n",
    "            #return batch\n",
    "            yield batch\n",
    "            #batch = []\n",
    "        #return batch\n",
    "        #return batch\n",
    "        #return (self.indices[i] for i in torch.randperm(len(self.indices)))\n",
    "\n",
    "    def __len__(self):\n",
    "        if self.drop_last:\n",
    "            return len(self.sampler) // self.batch_size\n",
    "        else:\n",
    "            return (len(self.sampler) + self.batch_size - 1) // self.batch_size\n",
    "\n",
    "print(len(a))\n",
    "a=np.array([4,2,3,1])\n",
    "remove_ixs=np.where(a>1)[0]\n",
    "print(remove_ixs)\n",
    "b=np.delete(a,remove_ixs)\n",
    "print(b)'''"
   ]
  },
  {
   "cell_type": "code",
   "execution_count": 12,
   "metadata": {},
   "outputs": [],
   "source": [
    "#label_3_idx[0]\n",
    "x3 = np.array(label_3_idx)\n",
    "np.random.shuffle(x3)\n",
    "a = x3[8001::]"
   ]
  },
  {
   "cell_type": "code",
   "execution_count": 13,
   "metadata": {},
   "outputs": [],
   "source": [
    "batch_size = 64\n",
    "X_ts = np.delete(X_t,a,axis=0)\n",
    "X_ttes = np.delete(X_tte,a,axis=0)\n",
    "train_X_sentence = torch.from_numpy(X_t)\n",
    "train_X_sentence = train_X_sentence.view(-1, 100).type(torch.FloatTensor)\n",
    "train_X_body = torch.from_numpy(X_tte)\n",
    "train_X_body = train_X_body.view(-1, 300).type(torch.FloatTensor)\n",
    "temp = np.where(y==1)[1]\n",
    "#temp2 = np.delete(temp,a,axis=0)\n",
    "y_ = torch.from_numpy(temp)\n",
    "#ampler = IISampler(y_,label_0_idx,label_1_idx, label_2_idx ,label_3_idx,64,drop_last=True)\n",
    "#test_dataset = Data.TensorDataset()\n",
    "train_dataset = LoadDataset(train_X_body,train_X_sentence,y_)\n",
    "train_loader = DataLoader(\n",
    "    dataset = train_dataset,      \n",
    "    batch_size = batch_size,      # mini batch size\n",
    "    shuffle = True,           \n",
    "    #sampler=ampler\n",
    "    #num_workers=2,              \n",
    ")"
   ]
  },
  {
   "cell_type": "code",
   "execution_count": 14,
   "metadata": {},
   "outputs": [],
   "source": [
    "n_vocab = max_features\n",
    "embedding_dim = 300\n",
    "hidden_size = 256\n",
    "num_class = 4\n",
    "class DCNN(nn.Module):\n",
    "    def __init__(self, weights_matrix):\n",
    "        super(DCNN,self).__init__()\n",
    "        weight = torch.FloatTensor(weights_matrix)\n",
    "        #print(type(weight))\n",
    "        self.embedding1 = nn.Embedding.from_pretrained(weight.cuda()) #\n",
    "        self.embedding2 = nn.Embedding.from_pretrained(weight.cuda()) #.\n",
    "        self.embedding1.weight.requires_grad = False\n",
    "        self.embedding2.weight.requires_grad = False\n",
    "        #self.embedding1 = nn.Embedding(n_vocab, embedding_dim)\n",
    "        #self.embedding2 = nn.Embedding(n_vocab, embedding_dim)\n",
    "        #self.embedding, num_embeddings, embedding_dim = create_emb_layer(weights_matrix, True)\n",
    "        self.hidden_size = hidden_size\n",
    "        self.embedding_dim = embedding_dim\n",
    "        #self.num_layers = num_layers\n",
    "        #self.gru = nn.GRU(embed_dim, self.hidden_size, num_layers=self.num_layers, batch_first=True,bidirectional=False)\n",
    "        #self.conv1 = nn.Sequential(nn.Conv1d(in_channels= enbedding_dim,out_channels=))\n",
    "        #self.conv1 = nn.Conv1d(self.hidden_size,64)\n",
    "        #self.gru = nn.GRU(embedding_dim, self.hidden_size, num_layers, batch_first=True)\n",
    "        self.conv0 = nn.Sequential(nn.Conv1d(in_channels=self.embedding_dim, \n",
    "                                        out_channels=self.hidden_size, \n",
    "                                        kernel_size=3,padding=3),\n",
    "#                              nn.BatchNorm1d(num_features=config.feature_size), \n",
    "                              nn.ReLU(0.1),\n",
    "                              nn.Dropout(0.5),\n",
    "                              nn.MaxPool1d(kernel_size=2),\n",
    "                              )\n",
    "        self.conv1 = nn.Sequential(nn.Conv1d(in_channels=self.hidden_size, \n",
    "                                   out_channels=self.hidden_size, \n",
    "                                   kernel_size=3,padding=3), \n",
    "                                   nn.ReLU(0.1),\n",
    "                                   nn.Dropout(0.5),\n",
    "                                   nn.MaxPool1d(kernel_size=2),)\n",
    "        self.conv2 = nn.Sequential(nn.Conv1d(in_channels=self.hidden_size, \n",
    "                                   out_channels=self.hidden_size*2, \n",
    "                                   kernel_size=3,padding=3), \n",
    "                                   nn.ReLU(0.1),\n",
    "                                   nn.Dropout(0.5),\n",
    "                                   nn.MaxPool1d(kernel_size=2),)\n",
    "        self.conv3 = nn.Sequential(nn.Conv1d(in_channels=self.hidden_size*2, \n",
    "                                   out_channels=self.hidden_size*2, \n",
    "                                   kernel_size=3,padding=1), \n",
    "                                   nn.ReLU(0.1),\n",
    "                                   nn.Dropout(0.5),\n",
    "                                   #nn.MaxPool1d(kernel_size=2),\n",
    "                                  )\n",
    "        self.conv4 = nn.Sequential(nn.Conv1d(in_channels=self.hidden_size*2, \n",
    "                                   out_channels=self.hidden_size*3, \n",
    "                                   kernel_size=3,padding=1), \n",
    "                                   nn.ReLU(0.1),\n",
    "                                   nn.Dropout(0.5),\n",
    "                                   #nn.MaxPool1d(kernel_size=2),\n",
    "                                  )\n",
    "        self.conv0_1 = nn.Sequential(nn.Conv1d(in_channels=self.embedding_dim, \n",
    "                                        out_channels=self.hidden_size, \n",
    "                                        kernel_size=3,padding=3),\n",
    "#                              nn.BatchNorm1d(num_features=config.feature_size), \n",
    "                              nn.ReLU(0.1),\n",
    "                              nn.Dropout(0.5),\n",
    "                              nn.MaxPool1d(kernel_size=2),\n",
    "                              )\n",
    "        self.conv1_1 = nn.Sequential(nn.Conv1d(in_channels=self.hidden_size, \n",
    "                                   out_channels=self.hidden_size, \n",
    "                                   kernel_size=3,padding=3), \n",
    "                                   nn.ReLU(0.1),\n",
    "                                   nn.Dropout(0.5),\n",
    "                                   nn.MaxPool1d(kernel_size=2),)\n",
    "        self.conv2_1 = nn.Sequential(nn.Conv1d(in_channels=self.hidden_size, \n",
    "                                   out_channels=self.hidden_size*2, \n",
    "                                   kernel_size=3,padding=3), \n",
    "                                   nn.ReLU(0.1),\n",
    "                                   nn.Dropout(0.5),\n",
    "                                   nn.MaxPool1d(kernel_size=2),)\n",
    "        self.conv3_1 = nn.Sequential(nn.Conv1d(in_channels=self.hidden_size*2, \n",
    "                                   out_channels=self.hidden_size*2, \n",
    "                                   kernel_size=3,padding=1), \n",
    "                                   nn.ReLU(0.1),\n",
    "                                   nn.Dropout(0.5),\n",
    "                                   #nn.MaxPool1d(kernel_size=2),\n",
    "                                  )\n",
    "        self.conv4_1 = nn.Sequential(nn.Conv1d(in_channels=self.hidden_size*2, \n",
    "                                   out_channels=self.hidden_size*3, \n",
    "                                   kernel_size=3,padding=1), \n",
    "                                   nn.ReLU(0.1),\n",
    "                                   nn.Dropout(0.5),\n",
    "                                   #nn.MaxPool1d(kernel_size=2),\n",
    "                                  )\n",
    "        self.final = nn.Sequential(nn.Linear(600,1024),\n",
    "                                  #nn.Linear(1024,1024),\n",
    "                                  nn.Linear(1024,num_class))\n",
    "        self.final1  = nn.Sequential(#nn.Linear(43776,1024),\n",
    "                                  nn.Linear(57,1024),\n",
    "                                  #nn.Linear(1024,1024),\n",
    "                                  nn.Linear(1024,num_class))\n",
    "        self.body_lin = nn.Linear(41,200)\n",
    "        self.head_lin = nn.Linear(16,200)\n",
    "        self.body_k = nn.Linear(200,100)\n",
    "        self.body_q = nn.Linear(200,100)\n",
    "        self.head_k = nn.Linear(200,100)\n",
    "        self.head_q = nn.Linear(200,100)\n",
    "        self.softmax = nn.Softmax(dim=1)\n",
    "        self.sigmoid = nn.Sigmoid()\n",
    "    def forward(self,x,x1):\n",
    "        bs= x.shape[0]\n",
    "        embed_x = self.embedding1(x)\n",
    "        #x , x1 = x\n",
    "        #outputs = self.conv0(x)\n",
    "        outputs = self.conv0(embed_x.permute(0, 2, 1))\n",
    "        outputs = self.conv1(outputs)\n",
    "        outputs = self.conv2(outputs)\n",
    "        outputs = self.conv3(outputs)\n",
    "        outputs = self.conv4(outputs)\n",
    "        embed_x_1 = self.embedding2(x1)\n",
    "        #outputs_1 = self.conv0_1(x1)\n",
    "        outputs_1 = self.conv0_1(embed_x_1.permute(0, 2, 1))\n",
    "        outputs_1 = self.conv1_1(outputs_1)\n",
    "        outputs_1 = self.conv2_1(outputs_1)\n",
    "        outputs_1 = self.conv3_1(outputs_1)\n",
    "        outputs_1 = self.conv4_1(outputs_1)\n",
    "        #outputs = self.final(outputs[:,-1])\n",
    "        #head_vec = outputs_1.view(bs,-1)\n",
    "        #body_vec = outputs.view(bs,-1)\n",
    "        head_vec = self.max_over_time(outputs_1)\n",
    "        body_vec = self.max_over_time(outputs)\n",
    "        #feature_vec = torch.cat([head_vec,body_vec],1).view(bs,-1)\n",
    "        #outputs = self.final1(feature_vec)\n",
    "        #return self.softmax(outputs)\n",
    "    \n",
    "        head_vec1 = self.head_lin(head_vec).view(-1,1,200)\n",
    "        body_vec1 = self.body_lin(body_vec).view(-1,1,200)\n",
    "        head_vec2 = self.head_lin(head_vec).view(-1,1,200)\n",
    "        body_vec2 = self.body_lin(body_vec).view(-1,1,200)\n",
    "        body_vec3 = self.body_lin(body_vec).view(-1,1,200)\n",
    "        head_vec3 = self.head_lin(head_vec).view(-1,1,200)\n",
    "        v_vec = self.atten_vec(bs,3,200)\n",
    "        #body_vec = body_vec1\n",
    "        #head_vec = head_vec1\n",
    "        body_vec = torch.cat([body_vec1,body_vec2,body_vec3],1)\n",
    "        head_vec = torch.cat([head_vec1,head_vec2,head_vec3],1)\n",
    "        score = torch.matmul(head_vec,body_vec.transpose(1,2))\n",
    "        #body_k = self.body_k(body_vec).view(-1,1,100)\n",
    "        #body_q = self.body_q(body_vec).view(-1,1,100)\n",
    "        #head_k = self.head_k(head_vec).view(-1,1,100)\n",
    "        #head_q = self.head_q(head_vec).view(-1,1,100)\n",
    "        #score2 = torch.matmul(body_q,head_k.permute(0,2,1)).view(-1,1)\n",
    "        #score1 = torch.matmul(head_q,body_k.permute(0,2,1)).view(-1,1)\n",
    "        #scores = torch.cat([score1,score2],1)#([head_vec*scores[0],body_vec*scores[1]],1)\n",
    "        \n",
    "        scores = self.softmax(score)\n",
    "        scores = torch.matmul(score,v_vec)\n",
    "        #print(scores.shape)\n",
    "        #feature_vec = torch.cat([head_vec,body_vec],1)\n",
    "        feature_vec = scores.view(bs,-1)\n",
    "        #print(feature_vec.shape)\n",
    "        outputs = self.final(feature_vec)\n",
    "        \n",
    "        #outputs = self.softmax(outputs)\n",
    "        outputs = self.sigmoid(outputs)\n",
    "        #print(outputs.shape)\n",
    "        return outputs\n",
    "    def atten_vec(self,bs,head=3,size = 200):\n",
    "        return autograd.Variable(torch.randn(bs,head,size)).to(device)\n",
    "    def max_over_time(self,output):\n",
    "        m = output.max(axis=1)[0]\n",
    "        return m.reshape(m.shape[0],m.shape[1])"
   ]
  },
  {
   "cell_type": "code",
   "execution_count": 15,
   "metadata": {},
   "outputs": [],
   "source": [
    "class Main_model():\n",
    "    def __init__(self,model,train_loader,test_loader,LR,epoch,weight_decay,device): #,test_loader\n",
    "        self.LR =LR\n",
    "        self.epochs = epoch\n",
    "        #print(device)\n",
    "        self.model = model.to(device)\n",
    "        self.weight_decay = weight_decay\n",
    "        #self.optimizer = torch.optim.Adam(self.model.parameters(), lr = LR,weight_decay=self.weight_decay)\n",
    "        self.optimizer = torch.optim.Adam(self.model.parameters(), lr = LR)\n",
    "        #self.optimizer = torch.optim.Adam(self.model.parameters(), lr=LR, betas=(0.9, 0.99))\n",
    "        self.criterion = nn.CrossEntropyLoss()\n",
    "        #self. criterion = nn.BCELoss()\n",
    "        #self.criterion = nn.MSELoss()\n",
    "        self.train_loader = train_loader\n",
    "        self.ans = []\n",
    "        #self.test_loader = test_loader\n",
    "    def forward(self):\n",
    "        history_loss = []\n",
    "        history_train_acc = []\n",
    "        self.ans = []\n",
    "        #history_test_acc = []\n",
    "        for epoch in tqdm(range(self.epochs)):\n",
    "            train_loss, train_acc = self.train(epoch)\n",
    "            #test_loss, test_acc = self.test(epoch)\n",
    "            history_loss.append(train_loss)\n",
    "            history_train_acc.append(train_acc)\n",
    "            #history_test_acc.append(test_acc)\n",
    "            print(np.argmax(self.ans[-1],axis=1))\n",
    "        return history_loss, history_train_acc, #history_test_acc\n",
    "    def train(self,epoch):\n",
    "        self.model.train()\n",
    "        correct = 0\n",
    "        train_loss = 0\n",
    "        total = 0\n",
    "        acc = 0\n",
    "        #ans = []\n",
    "        #mts=[]\n",
    "        #k=0\n",
    "        #for tzs in tqdm(range(50)):\n",
    "        for idx,(body_data,sentence_data, target) in tqdm(enumerate(self.train_loader)): \n",
    "            if device!='cpu':\n",
    "                #data = torch.LongTensor(data)\n",
    "\n",
    "                body_data = body_data.type(torch.LongTensor).squeeze()\n",
    "                sentence_data = sentence_data.type(torch.LongTensor).squeeze()\n",
    "                target = target.type(torch.LongTensor).squeeze()\n",
    "                body_data,sentence_data, target = body_data.to(device), sentence_data.to(device),target.to(device)\n",
    "            self.optimizer.zero_grad()\n",
    "            output = self.model(body_data,sentence_data)\n",
    "            #print(output)\n",
    "            #print(target)\n",
    "            loss = self.criterion(output,target)\n",
    "            loss.backward()\n",
    "            self.optimizer.step() \n",
    "            train_loss +=loss\n",
    "\n",
    "            pred = output.argmax(dim=1, keepdim=True)\n",
    "            bs = body_data.shape[0]\n",
    "            for i in range(bs):\n",
    "                #corre = corr/k\n",
    "\n",
    "                self.ans.append(output.detach().cpu().numpy())\n",
    "                #print(output[i])\n",
    "                #print(target[i])\n",
    "                #if pred[i].item() == target[i].item(): #torch.max(target, 1)[1][i].item():\n",
    "                if pred[i].item() == target[i].item():\n",
    "                    correct+=1\n",
    "        #correct1 = acc/total\n",
    "        correct /= len(self.train_loader.dataset)\n",
    "        train_loss /= len(self.train_loader)\n",
    "        print('Epoch:', epoch,'|train loss:%.4f'%train_loss,'|train accuracy: %.4f'%correct)\n",
    "        #mts.append([epoch,train_loss.item(),correct])\n",
    "        return train_loss,correct"
   ]
  },
  {
   "cell_type": "code",
   "execution_count": null,
   "metadata": {},
   "outputs": [
    {
     "data": {
      "application/vnd.jupyter.widget-view+json": {
       "model_id": "84cb880fac1e466ab6d8f4c6ef2a0125",
       "version_major": 2,
       "version_minor": 0
      },
      "text/plain": [
       "HBox(children=(FloatProgress(value=0.0, max=500.0), HTML(value='')))"
      ]
     },
     "metadata": {},
     "output_type": "display_data"
    },
    {
     "data": {
      "application/vnd.jupyter.widget-view+json": {
       "model_id": "d0ab5e2e9745496abce14b3190336bf2",
       "version_major": 2,
       "version_minor": 0
      },
      "text/plain": [
       "HBox(children=(FloatProgress(value=1.0, bar_style='info', max=1.0), HTML(value='')))"
      ]
     },
     "metadata": {},
     "output_type": "display_data"
    },
    {
     "name": "stdout",
     "output_type": "stream",
     "text": [
      "\n",
      "Epoch: 0 |train loss:1.4903 |train accuracy: 0.4405\n",
      "[0 1 3 1 0 1 0 0 1 0 0 1 0 0 1 0 0 2 0 2 0 0 0 3 0 0 1 1 0 1 0 0 0 1 3 0 0\n",
      " 2 0 2 3 2 1 1 0 1 0 0 1 0 0 2]\n"
     ]
    },
    {
     "data": {
      "application/vnd.jupyter.widget-view+json": {
       "model_id": "ae46b95c22de45f5bb4c66cb8365c4af",
       "version_major": 2,
       "version_minor": 0
      },
      "text/plain": [
       "HBox(children=(FloatProgress(value=1.0, bar_style='info', max=1.0), HTML(value='')))"
      ]
     },
     "metadata": {},
     "output_type": "display_data"
    },
    {
     "name": "stdout",
     "output_type": "stream",
     "text": [
      "\n",
      "Epoch: 1 |train loss:1.4881 |train accuracy: 0.4426\n",
      "[2 1 0 1 3 1 3 0 1 0 2 0 0 1 0 2 0 1 0 1 0 1 0 1 0 0 0 1 1 1 0 0 1 1 2 0 0\n",
      " 0 2 0 2 2 1 0 2 0 0 0 1 0 3 0]\n"
     ]
    },
    {
     "data": {
      "application/vnd.jupyter.widget-view+json": {
       "model_id": "f43c31099422426186d59b267e897370",
       "version_major": 2,
       "version_minor": 0
      },
      "text/plain": [
       "HBox(children=(FloatProgress(value=1.0, bar_style='info', max=1.0), HTML(value='')))"
      ]
     },
     "metadata": {},
     "output_type": "display_data"
    },
    {
     "name": "stdout",
     "output_type": "stream",
     "text": [
      "\n",
      "Epoch: 2 |train loss:1.4912 |train accuracy: 0.4415\n",
      "[3 0 0 1 0 0 0 1 1 0 2 0 0 0 1 2 1 0 0 0 0 3 1 1 0 0 2 1 0 0 0 0 0 0 1 1 0\n",
      " 1 0 0 0 1 0 0 0 3 2 0 2 0 2 1]\n"
     ]
    },
    {
     "data": {
      "application/vnd.jupyter.widget-view+json": {
       "model_id": "2ad125c58fab476fbd67eb000a1287ae",
       "version_major": 2,
       "version_minor": 0
      },
      "text/plain": [
       "HBox(children=(FloatProgress(value=1.0, bar_style='info', max=1.0), HTML(value='')))"
      ]
     },
     "metadata": {},
     "output_type": "display_data"
    },
    {
     "name": "stdout",
     "output_type": "stream",
     "text": [
      "\n",
      "Epoch: 3 |train loss:1.4902 |train accuracy: 0.4392\n",
      "[0 1 0 1 0 1 0 0 0 0 2 1 1 1 3 0 0 0 0 0 3 3 1 1 1 2 0 0 1 0 0 2 0 1 0 0 0\n",
      " 1 2 0 1 1 0 1 1 0 0 3 0 0 1 2]\n"
     ]
    },
    {
     "data": {
      "application/vnd.jupyter.widget-view+json": {
       "model_id": "3d4c84bdcf034300bea206b785c7564a",
       "version_major": 2,
       "version_minor": 0
      },
      "text/plain": [
       "HBox(children=(FloatProgress(value=1.0, bar_style='info', max=1.0), HTML(value='')))"
      ]
     },
     "metadata": {},
     "output_type": "display_data"
    },
    {
     "name": "stdout",
     "output_type": "stream",
     "text": [
      "\n",
      "Epoch: 4 |train loss:1.4900 |train accuracy: 0.4397\n",
      "[1 2 0 2 1 0 1 0 3 2 0 0 3 2 1 0 0 1 1 1 0 2 0 1 0 0 0 0 2 0 0 2 0 1 3 0 2\n",
      " 0 2 2 0 3 1 1 0 1 1 0 0 0 0 2]\n"
     ]
    },
    {
     "data": {
      "application/vnd.jupyter.widget-view+json": {
       "model_id": "5cc9f691b96b4e729ff596a5da736caa",
       "version_major": 2,
       "version_minor": 0
      },
      "text/plain": [
       "HBox(children=(FloatProgress(value=1.0, bar_style='info', max=1.0), HTML(value='')))"
      ]
     },
     "metadata": {},
     "output_type": "display_data"
    },
    {
     "name": "stdout",
     "output_type": "stream",
     "text": [
      "\n",
      "Epoch: 5 |train loss:1.4927 |train accuracy: 0.4389\n",
      "[0 0 1 1 0 1 3 0 0 0 2 0 0 0 0 1 0 3 2 2 0 0 1 3 0 1 0 0 2 0 0 1 0 2 0 0 1\n",
      " 0 0 0 0 2 0 1 1 0 0 0 0 0 1 0]\n"
     ]
    },
    {
     "data": {
      "application/vnd.jupyter.widget-view+json": {
       "model_id": "f0eb3928e639462099a8ff198d210f65",
       "version_major": 2,
       "version_minor": 0
      },
      "text/plain": [
       "HBox(children=(FloatProgress(value=1.0, bar_style='info', max=1.0), HTML(value='')))"
      ]
     },
     "metadata": {},
     "output_type": "display_data"
    },
    {
     "name": "stdout",
     "output_type": "stream",
     "text": [
      "\n",
      "Epoch: 6 |train loss:1.4888 |train accuracy: 0.4434\n",
      "[0 1 0 1 1 1 0 0 1 0 0 1 1 0 0 1 0 0 0 3 1 0 3 0 3 2 1 0 0 1 2 0 2 0 1 0 2\n",
      " 0 0 1 0 0 1 1 2 2 0 3 0 0 1 2]\n"
     ]
    },
    {
     "data": {
      "application/vnd.jupyter.widget-view+json": {
       "model_id": "1914117b7d3d4c428867e68c7d4cf45c",
       "version_major": 2,
       "version_minor": 0
      },
      "text/plain": [
       "HBox(children=(FloatProgress(value=1.0, bar_style='info', max=1.0), HTML(value='')))"
      ]
     },
     "metadata": {},
     "output_type": "display_data"
    },
    {
     "name": "stdout",
     "output_type": "stream",
     "text": [
      "\n",
      "Epoch: 7 |train loss:1.4883 |train accuracy: 0.4421\n",
      "[1 2 0 1 0 0 0 0 1 0 0 0 0 3 1 1 2 1 1 0 1 2 0 1 2 1 2 0 0 1 2 1 1 3 0 2 0\n",
      " 0 2 1 0 1 0 0 0 0 1 0 3 1 0 3]\n"
     ]
    },
    {
     "data": {
      "application/vnd.jupyter.widget-view+json": {
       "model_id": "71eebe7eb1c6484cb5c9db79c8752d37",
       "version_major": 2,
       "version_minor": 0
      },
      "text/plain": [
       "HBox(children=(FloatProgress(value=1.0, bar_style='info', max=1.0), HTML(value='')))"
      ]
     },
     "metadata": {},
     "output_type": "display_data"
    },
    {
     "name": "stdout",
     "output_type": "stream",
     "text": [
      "\n",
      "Epoch: 8 |train loss:1.4910 |train accuracy: 0.4406\n",
      "[0 0 0 2 0 1 1 1 0 0 2 0 0 1 0 0 0 1 0 0 0 0 0 0 3 1 2 2 2 1 1 0 1 0 0 0 3\n",
      " 3 1 2 3 1 2 0 0 0 3 0 2 0 1 0]\n"
     ]
    },
    {
     "data": {
      "application/vnd.jupyter.widget-view+json": {
       "model_id": "bab7e7ebf9c84236a9964ae47d33b7ba",
       "version_major": 2,
       "version_minor": 0
      },
      "text/plain": [
       "HBox(children=(FloatProgress(value=1.0, bar_style='info', max=1.0), HTML(value='')))"
      ]
     },
     "metadata": {},
     "output_type": "display_data"
    },
    {
     "name": "stdout",
     "output_type": "stream",
     "text": [
      "\n",
      "Epoch: 9 |train loss:1.4895 |train accuracy: 0.4439\n",
      "[2 0 0 0 0 0 3 2 1 0 1 2 1 0 0 0 0 2 2 1 0 0 0 3 0 1 0 1 0 2 0 0 0 1 0 1 2\n",
      " 1 0 0 0 0 1 2 1 0 0 1 0 1 0 2]\n"
     ]
    },
    {
     "data": {
      "application/vnd.jupyter.widget-view+json": {
       "model_id": "7d940242e5f94fb089cd34ee57fca03a",
       "version_major": 2,
       "version_minor": 0
      },
      "text/plain": [
       "HBox(children=(FloatProgress(value=1.0, bar_style='info', max=1.0), HTML(value='')))"
      ]
     },
     "metadata": {},
     "output_type": "display_data"
    },
    {
     "name": "stdout",
     "output_type": "stream",
     "text": [
      "\n",
      "Epoch: 10 |train loss:1.4920 |train accuracy: 0.4392\n",
      "[0 0 0 0 0 1 1 1 0 0 1 1 2 1 3 0 3 1 0 1 1 0 0 0 0 1 3 1 2 1 1 1 0 3 1 0 3\n",
      " 0 0 1 1 1 3 0 0 0 1 3 0 1 0 0]\n"
     ]
    },
    {
     "data": {
      "application/vnd.jupyter.widget-view+json": {
       "model_id": "dfe468146fa649b6a11a0b2041869c10",
       "version_major": 2,
       "version_minor": 0
      },
      "text/plain": [
       "HBox(children=(FloatProgress(value=1.0, bar_style='info', max=1.0), HTML(value='')))"
      ]
     },
     "metadata": {},
     "output_type": "display_data"
    },
    {
     "name": "stdout",
     "output_type": "stream",
     "text": [
      "\n",
      "Epoch: 11 |train loss:1.4849 |train accuracy: 0.4454\n",
      "[0 1 1 1 0 1 0 0 3 2 1 1 3 1 0 1 0 0 2 1 0 0 2 2 2 0 0 2 2 0 1 0 0 1 0 0 1\n",
      " 0 2 3 1 0 2 2 2 0 1 0 1 0 0 1]\n"
     ]
    },
    {
     "data": {
      "application/vnd.jupyter.widget-view+json": {
       "model_id": "6e3462f129104ce29d04c120e8acbe56",
       "version_major": 2,
       "version_minor": 0
      },
      "text/plain": [
       "HBox(children=(FloatProgress(value=1.0, bar_style='info', max=1.0), HTML(value='')))"
      ]
     },
     "metadata": {},
     "output_type": "display_data"
    },
    {
     "name": "stdout",
     "output_type": "stream",
     "text": [
      "\n",
      "Epoch: 12 |train loss:1.4906 |train accuracy: 0.4405\n",
      "[1 3 3 1 0 1 2 0 0 0 2 2 0 0 1 0 0 1 0 0 1 0 1 0 0 2 0 1 0 3 0 0 3 1 1 1 0\n",
      " 0 3 1 3 1 3 3 0 1 2 0 3 0 1 0]\n"
     ]
    },
    {
     "data": {
      "application/vnd.jupyter.widget-view+json": {
       "model_id": "8390047f0d2b4effb52c01f96d707d44",
       "version_major": 2,
       "version_minor": 0
      },
      "text/plain": [
       "HBox(children=(FloatProgress(value=1.0, bar_style='info', max=1.0), HTML(value='')))"
      ]
     },
     "metadata": {},
     "output_type": "display_data"
    },
    {
     "name": "stdout",
     "output_type": "stream",
     "text": [
      "\n",
      "Epoch: 13 |train loss:1.4890 |train accuracy: 0.4424\n",
      "[0 1 1 0 0 0 0 0 0 0 1 0 0 0 0 1 0 1 3 2 0 2 0 0 0 0 2 1 0 3 0 2 0 1 3 0 0\n",
      " 0 0 2 3 3 0 2 0 1 1 0 2 0 3 0]\n"
     ]
    },
    {
     "data": {
      "application/vnd.jupyter.widget-view+json": {
       "model_id": "473489d07be447f1b123ad9ba26809cd",
       "version_major": 2,
       "version_minor": 0
      },
      "text/plain": [
       "HBox(children=(FloatProgress(value=1.0, bar_style='info', max=1.0), HTML(value='')))"
      ]
     },
     "metadata": {},
     "output_type": "display_data"
    },
    {
     "name": "stdout",
     "output_type": "stream",
     "text": [
      "\n",
      "Epoch: 14 |train loss:1.4897 |train accuracy: 0.4395\n",
      "[0 1 2 0 0 2 1 1 1 1 2 0 0 3 3 0 2 0 2 0 0 0 0 0 0 0 0 0 2 0 1 0 2 2 1 3 2\n",
      " 2 1 2 0 0 2 3 0 1 2 1 0 2 2 0]\n"
     ]
    },
    {
     "data": {
      "application/vnd.jupyter.widget-view+json": {
       "model_id": "c90f082d70ae4ef29799a9e89238e060",
       "version_major": 2,
       "version_minor": 0
      },
      "text/plain": [
       "HBox(children=(FloatProgress(value=1.0, bar_style='info', max=1.0), HTML(value='')))"
      ]
     },
     "metadata": {},
     "output_type": "display_data"
    },
    {
     "name": "stdout",
     "output_type": "stream",
     "text": [
      "\n",
      "Epoch: 15 |train loss:1.4903 |train accuracy: 0.4413\n",
      "[3 0 1 0 1 2 0 1 0 1 0 0 1 1 0 0 0 1 0 1 0 0 2 3 0 1 0 1 1 0 2 3 1 3 1 0 0\n",
      " 1 0 1 0 1 2 0 1 1 1 0 1 1 1 0]\n"
     ]
    },
    {
     "data": {
      "application/vnd.jupyter.widget-view+json": {
       "model_id": "320aed8cc44a4680b5f0da50c5573256",
       "version_major": 2,
       "version_minor": 0
      },
      "text/plain": [
       "HBox(children=(FloatProgress(value=1.0, bar_style='info', max=1.0), HTML(value='')))"
      ]
     },
     "metadata": {},
     "output_type": "display_data"
    },
    {
     "name": "stdout",
     "output_type": "stream",
     "text": [
      "\n",
      "Epoch: 16 |train loss:1.4895 |train accuracy: 0.4401\n",
      "[0 1 2 0 0 0 0 1 0 0 0 3 1 0 1 0 3 2 0 1 3 0 3 0 0 0 0 1 2 0 1 3 0 1 1 0 2\n",
      " 0 1 0 0 0 2 1 1 1 0 0 0 0 1 0]\n"
     ]
    },
    {
     "data": {
      "application/vnd.jupyter.widget-view+json": {
       "model_id": "ee46c86fa4b14dbdbd6cb20d2347fe83",
       "version_major": 2,
       "version_minor": 0
      },
      "text/plain": [
       "HBox(children=(FloatProgress(value=1.0, bar_style='info', max=1.0), HTML(value='')))"
      ]
     },
     "metadata": {},
     "output_type": "display_data"
    },
    {
     "name": "stdout",
     "output_type": "stream",
     "text": [
      "\n",
      "Epoch: 17 |train loss:1.4924 |train accuracy: 0.4387\n",
      "[0 0 0 3 2 0 0 0 2 0 1 0 0 0 3 3 2 0 1 0 0 0 1 2 1 1 2 1 2 0 1 0 0 0 0 0 1\n",
      " 0 0 1 0 1 0 2 0 0 0 3 3 0 0 3]\n"
     ]
    },
    {
     "data": {
      "application/vnd.jupyter.widget-view+json": {
       "model_id": "40b38870fdee46259675db25eb5dbd60",
       "version_major": 2,
       "version_minor": 0
      },
      "text/plain": [
       "HBox(children=(FloatProgress(value=1.0, bar_style='info', max=1.0), HTML(value='')))"
      ]
     },
     "metadata": {},
     "output_type": "display_data"
    },
    {
     "name": "stdout",
     "output_type": "stream",
     "text": [
      "\n",
      "Epoch: 18 |train loss:1.4894 |train accuracy: 0.4412\n",
      "[1 0 0 0 2 1 0 0 2 1 1 0 0 1 0 0 0 2 1 2 0 2 2 1 1 2 0 3 0 0 0 0 2 1 0 1 0\n",
      " 0 0 3 2 0 0 2 0 0 0 0 0 1 0 0]\n"
     ]
    },
    {
     "data": {
      "application/vnd.jupyter.widget-view+json": {
       "model_id": "6617e4a6e1b24bf4912bd1039fd8436e",
       "version_major": 2,
       "version_minor": 0
      },
      "text/plain": [
       "HBox(children=(FloatProgress(value=1.0, bar_style='info', max=1.0), HTML(value='')))"
      ]
     },
     "metadata": {},
     "output_type": "display_data"
    },
    {
     "name": "stdout",
     "output_type": "stream",
     "text": [
      "\n",
      "Epoch: 19 |train loss:1.4896 |train accuracy: 0.4410\n",
      "[0 1 1 3 1 2 1 0 0 1 1 1 3 0 0 0 0 0 1 3 0 1 0 0 0 0 0 1 3 1 3 0 1 0 2 0 0\n",
      " 0 1 0 2 1 1 1 0 3 1 0 0 1 0 0]\n"
     ]
    },
    {
     "data": {
      "application/vnd.jupyter.widget-view+json": {
       "model_id": "768cf25cdbb5477cb5bf216c0a8c522d",
       "version_major": 2,
       "version_minor": 0
      },
      "text/plain": [
       "HBox(children=(FloatProgress(value=1.0, bar_style='info', max=1.0), HTML(value='')))"
      ]
     },
     "metadata": {},
     "output_type": "display_data"
    },
    {
     "name": "stdout",
     "output_type": "stream",
     "text": [
      "\n",
      "Epoch: 20 |train loss:1.4861 |train accuracy: 0.4447\n",
      "[1 3 0 0 0 0 2 0 0 1 1 0 0 0 0 0 0 0 0 0 0 0 0 0 0 1 0 0 1 3 0 2 2 0 0 0 3\n",
      " 1 3 0 0 1 0 0 0 2 2 1 1 0 0 0]\n"
     ]
    },
    {
     "data": {
      "application/vnd.jupyter.widget-view+json": {
       "model_id": "f189824fc87748a0968ea009427eb9be",
       "version_major": 2,
       "version_minor": 0
      },
      "text/plain": [
       "HBox(children=(FloatProgress(value=1.0, bar_style='info', max=1.0), HTML(value='')))"
      ]
     },
     "metadata": {},
     "output_type": "display_data"
    },
    {
     "name": "stdout",
     "output_type": "stream",
     "text": [
      "\n",
      "Epoch: 21 |train loss:1.4858 |train accuracy: 0.4444\n",
      "[0 3 0 1 0 0 0 2 1 0 1 1 1 1 0 0 0 1 1 0 0 3 3 0 1 3 0 1 1 2 0 1 0 1 1 0 3\n",
      " 0 1 1 0 1 0 0 1 1 0 1 2 0 0 0]\n"
     ]
    },
    {
     "data": {
      "application/vnd.jupyter.widget-view+json": {
       "model_id": "1b7621af71624efc9e7f6ea09e560474",
       "version_major": 2,
       "version_minor": 0
      },
      "text/plain": [
       "HBox(children=(FloatProgress(value=1.0, bar_style='info', max=1.0), HTML(value='')))"
      ]
     },
     "metadata": {},
     "output_type": "display_data"
    },
    {
     "name": "stdout",
     "output_type": "stream",
     "text": [
      "\n",
      "Epoch: 22 |train loss:1.4870 |train accuracy: 0.4423\n",
      "[0 1 1 0 0 0 1 0 0 0 2 1 3 3 3 2 2 0 0 3 1 1 0 0 0 3 1 2 0 0 2 0 0 0 0 1 0\n",
      " 1 1 2 1 0 1 1 0 0 1 0 1 2 2 0]\n"
     ]
    },
    {
     "data": {
      "application/vnd.jupyter.widget-view+json": {
       "model_id": "871990dc95bf473ea6496faf5ad9b240",
       "version_major": 2,
       "version_minor": 0
      },
      "text/plain": [
       "HBox(children=(FloatProgress(value=1.0, bar_style='info', max=1.0), HTML(value='')))"
      ]
     },
     "metadata": {},
     "output_type": "display_data"
    },
    {
     "name": "stdout",
     "output_type": "stream",
     "text": [
      "\n",
      "Epoch: 23 |train loss:1.4909 |train accuracy: 0.4411\n",
      "[2 0 2 0 0 0 1 1 2 1 1 1 2 0 1 1 0 3 0 0 0 0 1 2 2 1 3 0 1 1 0 0 3 0 0 1 0\n",
      " 0 0 0 0 1 1 2 0 1 0 1 1 0 0 3]\n"
     ]
    },
    {
     "data": {
      "application/vnd.jupyter.widget-view+json": {
       "model_id": "4d49c27b30d241ef849e28c2b77b3e3a",
       "version_major": 2,
       "version_minor": 0
      },
      "text/plain": [
       "HBox(children=(FloatProgress(value=1.0, bar_style='info', max=1.0), HTML(value='')))"
      ]
     },
     "metadata": {},
     "output_type": "display_data"
    },
    {
     "name": "stdout",
     "output_type": "stream",
     "text": [
      "\n",
      "Epoch: 24 |train loss:1.4911 |train accuracy: 0.4414\n",
      "[0 0 0 1 0 3 1 0 0 0 0 0 0 0 3 0 1 0 2 1 0 2 0 0 1 0 0 1 1 0 0 2 0 0 0 1 0\n",
      " 1 0 1 0 1 3 2 0 0 0 1 3 1 0 0]\n"
     ]
    },
    {
     "data": {
      "application/vnd.jupyter.widget-view+json": {
       "model_id": "cdbe7a99d5d444a98cf36fde9ca60de3",
       "version_major": 2,
       "version_minor": 0
      },
      "text/plain": [
       "HBox(children=(FloatProgress(value=1.0, bar_style='info', max=1.0), HTML(value='')))"
      ]
     },
     "metadata": {},
     "output_type": "display_data"
    },
    {
     "name": "stdout",
     "output_type": "stream",
     "text": [
      "\n",
      "Epoch: 25 |train loss:1.4916 |train accuracy: 0.4410\n",
      "[2 1 0 1 0 3 2 1 1 0 2 0 3 0 0 1 0 0 1 0 0 0 0 2 0 3 0 0 1 1 0 1 0 0 1 1 1\n",
      " 1 0 0 0 0 1 2 1 0 0 0 0 0 0 1]\n"
     ]
    },
    {
     "data": {
      "application/vnd.jupyter.widget-view+json": {
       "model_id": "3e9389937ad94c0596ba6b7fd6e2a8c3",
       "version_major": 2,
       "version_minor": 0
      },
      "text/plain": [
       "HBox(children=(FloatProgress(value=1.0, bar_style='info', max=1.0), HTML(value='')))"
      ]
     },
     "metadata": {},
     "output_type": "display_data"
    },
    {
     "name": "stdout",
     "output_type": "stream",
     "text": [
      "\n",
      "Epoch: 26 |train loss:1.4886 |train accuracy: 0.4432\n",
      "[0 1 0 0 0 0 1 0 2 1 1 0 0 1 3 2 2 3 1 1 1 2 0 0 0 0 0 1 1 2 0 0 2 0 0 2 0\n",
      " 1 0 0 3 2 1 1 0 0 1 1 1 1 1 0]\n"
     ]
    },
    {
     "data": {
      "application/vnd.jupyter.widget-view+json": {
       "model_id": "c48c68e5f5194663b32d87e2e3a42b19",
       "version_major": 2,
       "version_minor": 0
      },
      "text/plain": [
       "HBox(children=(FloatProgress(value=1.0, bar_style='info', max=1.0), HTML(value='')))"
      ]
     },
     "metadata": {},
     "output_type": "display_data"
    },
    {
     "name": "stdout",
     "output_type": "stream",
     "text": [
      "\n",
      "Epoch: 27 |train loss:1.4914 |train accuracy: 0.4381\n",
      "[0 1 2 1 0 1 3 1 0 2 2 2 1 0 1 1 1 1 1 0 1 2 2 0 2 0 1 1 1 0 1 0 0 0 2 1 0\n",
      " 0 0 0 1 0 1 0 0 1 0 0 1 1 0 0]\n"
     ]
    },
    {
     "data": {
      "application/vnd.jupyter.widget-view+json": {
       "model_id": "02b0e3cf75894abea7e3b23bdd8409db",
       "version_major": 2,
       "version_minor": 0
      },
      "text/plain": [
       "HBox(children=(FloatProgress(value=1.0, bar_style='info', max=1.0), HTML(value='')))"
      ]
     },
     "metadata": {},
     "output_type": "display_data"
    },
    {
     "name": "stdout",
     "output_type": "stream",
     "text": [
      "\n",
      "Epoch: 28 |train loss:1.4885 |train accuracy: 0.4430\n",
      "[0 0 0 0 0 2 0 0 3 0 0 0 0 0 0 0 1 1 0 0 1 3 1 0 0 0 1 0 0 0 2 0 2 0 1 0 1\n",
      " 0 0 3 0 0 1 0 1 1 0 2 0 0 0 0]\n"
     ]
    },
    {
     "data": {
      "application/vnd.jupyter.widget-view+json": {
       "model_id": "4812599d89d5425b8b70ec6a474cad54",
       "version_major": 2,
       "version_minor": 0
      },
      "text/plain": [
       "HBox(children=(FloatProgress(value=1.0, bar_style='info', max=1.0), HTML(value='')))"
      ]
     },
     "metadata": {},
     "output_type": "display_data"
    },
    {
     "name": "stdout",
     "output_type": "stream",
     "text": [
      "\n",
      "Epoch: 29 |train loss:1.4887 |train accuracy: 0.4427\n",
      "[1 3 1 1 1 1 3 0 1 1 1 0 0 0 3 0 3 0 0 0 1 1 1 1 0 0 1 0 0 1 2 1 1 1 1 0 3\n",
      " 1 1 2 0 0 2 0 0 0 1 1 0 1 1 2]\n"
     ]
    },
    {
     "data": {
      "application/vnd.jupyter.widget-view+json": {
       "model_id": "e51b088b9a544e9da99d0f2b8ae05d8b",
       "version_major": 2,
       "version_minor": 0
      },
      "text/plain": [
       "HBox(children=(FloatProgress(value=1.0, bar_style='info', max=1.0), HTML(value='')))"
      ]
     },
     "metadata": {},
     "output_type": "display_data"
    },
    {
     "name": "stdout",
     "output_type": "stream",
     "text": [
      "\n",
      "Epoch: 30 |train loss:1.4885 |train accuracy: 0.4428\n",
      "[0 0 1 2 0 1 1 0 1 2 1 1 0 2 1 0 0 0 0 2 0 1 3 0 0 0 1 3 0 0 1 2 1 0 0 0 1\n",
      " 1 0 0 0 1 0 1 1 0 1 0 0 0 0 0]\n"
     ]
    },
    {
     "data": {
      "application/vnd.jupyter.widget-view+json": {
       "model_id": "a8a1a92118ee46e5b3ad207efba2abfc",
       "version_major": 2,
       "version_minor": 0
      },
      "text/plain": [
       "HBox(children=(FloatProgress(value=1.0, bar_style='info', max=1.0), HTML(value='')))"
      ]
     },
     "metadata": {},
     "output_type": "display_data"
    },
    {
     "name": "stdout",
     "output_type": "stream",
     "text": [
      "\n",
      "Epoch: 31 |train loss:1.4922 |train accuracy: 0.4384\n",
      "[0 0 0 1 0 1 0 0 1 0 0 0 3 0 0 3 2 1 1 0 1 0 0 0 1 3 0 0 0 0 0 2 0 0 0 2 0\n",
      " 0 1 0 1 3 2 0 2 1 1 0 1 0 1 0]\n"
     ]
    },
    {
     "data": {
      "application/vnd.jupyter.widget-view+json": {
       "model_id": "73a64b56684d482e9b72b4a168428cd2",
       "version_major": 2,
       "version_minor": 0
      },
      "text/plain": [
       "HBox(children=(FloatProgress(value=1.0, bar_style='info', max=1.0), HTML(value='')))"
      ]
     },
     "metadata": {},
     "output_type": "display_data"
    },
    {
     "name": "stdout",
     "output_type": "stream",
     "text": [
      "\n",
      "Epoch: 32 |train loss:1.4881 |train accuracy: 0.4434\n",
      "[0 1 0 1 1 0 1 1 1 1 3 0 0 1 1 0 0 2 0 2 0 0 0 0 0 0 0 0 0 0 0 0 0 0 0 0 0\n",
      " 0 0 0 1 2 0 1 2 0 0 0 1 0 0 0]\n"
     ]
    },
    {
     "data": {
      "application/vnd.jupyter.widget-view+json": {
       "model_id": "e7b12b0d7ec64df997788e8d30f05442",
       "version_major": 2,
       "version_minor": 0
      },
      "text/plain": [
       "HBox(children=(FloatProgress(value=1.0, bar_style='info', max=1.0), HTML(value='')))"
      ]
     },
     "metadata": {},
     "output_type": "display_data"
    },
    {
     "name": "stdout",
     "output_type": "stream",
     "text": [
      "\n",
      "Epoch: 33 |train loss:1.4877 |train accuracy: 0.4432\n",
      "[0 0 0 2 2 1 0 1 0 2 0 1 2 0 1 0 1 0 3 0 0 0 0 1 0 0 1 3 0 0 3 0 1 0 3 0 0\n",
      " 3 1 1 0 0 1 0 0 2 0 0 2 0 0 0]\n"
     ]
    },
    {
     "data": {
      "application/vnd.jupyter.widget-view+json": {
       "model_id": "1ddc68af94aa4bd0ad014ddd1680f723",
       "version_major": 2,
       "version_minor": 0
      },
      "text/plain": [
       "HBox(children=(FloatProgress(value=1.0, bar_style='info', max=1.0), HTML(value='')))"
      ]
     },
     "metadata": {},
     "output_type": "display_data"
    },
    {
     "name": "stdout",
     "output_type": "stream",
     "text": [
      "\n",
      "Epoch: 34 |train loss:1.4862 |train accuracy: 0.4433\n",
      "[1 2 1 0 1 3 1 0 1 0 0 0 3 0 1 2 1 0 0 1 0 0 2 3 0 1 0 2 0 0 0 3 1 3 1 0 1\n",
      " 0 1 1 3 0 2 1 0 0 0 2 1 0 0 0]\n"
     ]
    },
    {
     "data": {
      "application/vnd.jupyter.widget-view+json": {
       "model_id": "adb4ad96416f4b6d93205896df3ffbb0",
       "version_major": 2,
       "version_minor": 0
      },
      "text/plain": [
       "HBox(children=(FloatProgress(value=1.0, bar_style='info', max=1.0), HTML(value='')))"
      ]
     },
     "metadata": {},
     "output_type": "display_data"
    },
    {
     "name": "stdout",
     "output_type": "stream",
     "text": [
      "\n",
      "Epoch: 35 |train loss:1.4865 |train accuracy: 0.4430\n",
      "[0 1 2 0 2 1 1 1 0 0 1 1 2 1 3 0 0 0 2 0 1 0 0 1 3 0 2 2 0 0 0 2 0 1 1 3 0\n",
      " 0 0 0 1 0 2 0 1 0 0 1 2 0 1 1]\n"
     ]
    },
    {
     "data": {
      "application/vnd.jupyter.widget-view+json": {
       "model_id": "5e3891d115d14f6c90d9f4682681fc74",
       "version_major": 2,
       "version_minor": 0
      },
      "text/plain": [
       "HBox(children=(FloatProgress(value=1.0, bar_style='info', max=1.0), HTML(value='')))"
      ]
     },
     "metadata": {},
     "output_type": "display_data"
    },
    {
     "name": "stdout",
     "output_type": "stream",
     "text": [
      "\n",
      "Epoch: 36 |train loss:1.4910 |train accuracy: 0.4418\n",
      "[3 0 0 1 1 1 2 1 0 0 2 0 0 1 0 3 0 1 0 2 0 0 0 0 1 0 0 1 0 2 1 2 1 1 0 1 2\n",
      " 2 0 0 1 0 0 2 0 1 2 0 0 0 0 0]\n"
     ]
    },
    {
     "data": {
      "application/vnd.jupyter.widget-view+json": {
       "model_id": "75380cecd602470480e43112c1c8c6da",
       "version_major": 2,
       "version_minor": 0
      },
      "text/plain": [
       "HBox(children=(FloatProgress(value=1.0, bar_style='info', max=1.0), HTML(value='')))"
      ]
     },
     "metadata": {},
     "output_type": "display_data"
    },
    {
     "name": "stdout",
     "output_type": "stream",
     "text": [
      "\n",
      "Epoch: 37 |train loss:1.4901 |train accuracy: 0.4412\n",
      "[2 0 0 0 1 0 3 0 1 1 0 1 1 2 0 0 1 0 0 3 1 0 1 1 3 2 0 0 1 1 0 2 2 1 3 2 1\n",
      " 0 1 1 0 1 0 0 0 0 0 0 0 1 2 0]\n"
     ]
    },
    {
     "data": {
      "application/vnd.jupyter.widget-view+json": {
       "model_id": "0be6e50d11b74d7496068e92ccbeff3c",
       "version_major": 2,
       "version_minor": 0
      },
      "text/plain": [
       "HBox(children=(FloatProgress(value=1.0, bar_style='info', max=1.0), HTML(value='')))"
      ]
     },
     "metadata": {},
     "output_type": "display_data"
    },
    {
     "name": "stdout",
     "output_type": "stream",
     "text": [
      "\n",
      "Epoch: 38 |train loss:1.4903 |train accuracy: 0.4407\n",
      "[1 0 0 0 1 1 1 1 3 1 1 0 3 0 0 0 2 0 0 1 3 1 1 2 0 0 2 1 1 1 2 1 1 1 1 0 2\n",
      " 1 1 2 2 1 1 0 1 1 0 2 0 1 0 2]\n"
     ]
    },
    {
     "data": {
      "application/vnd.jupyter.widget-view+json": {
       "model_id": "6529c7b2a33148dab5aa4ec6e582aa70",
       "version_major": 2,
       "version_minor": 0
      },
      "text/plain": [
       "HBox(children=(FloatProgress(value=1.0, bar_style='info', max=1.0), HTML(value='')))"
      ]
     },
     "metadata": {},
     "output_type": "display_data"
    },
    {
     "name": "stdout",
     "output_type": "stream",
     "text": [
      "\n",
      "Epoch: 39 |train loss:1.4877 |train accuracy: 0.4447\n",
      "[0 1 0 1 1 1 0 0 2 0 1 2 0 3 1 2 1 0 3 0 0 0 0 2 0 1 1 3 0 0 1 0 0 0 2 1 2\n",
      " 1 2 2 0 1 0 1 1 0 0 3 0 0 2 0]\n"
     ]
    },
    {
     "data": {
      "application/vnd.jupyter.widget-view+json": {
       "model_id": "af4fe891137944799d01af6b07af4d38",
       "version_major": 2,
       "version_minor": 0
      },
      "text/plain": [
       "HBox(children=(FloatProgress(value=1.0, bar_style='info', max=1.0), HTML(value='')))"
      ]
     },
     "metadata": {},
     "output_type": "display_data"
    },
    {
     "name": "stdout",
     "output_type": "stream",
     "text": [
      "\n",
      "Epoch: 40 |train loss:1.4878 |train accuracy: 0.4425\n",
      "[0 2 0 0 2 1 3 1 0 1 0 0 1 0 1 1 0 1 2 0 0 0 1 0 0 0 0 3 0 2 3 0 1 1 0 0 0\n",
      " 0 0 0 0 0 1 0 2 0 2 0 1 1 1 1]\n"
     ]
    },
    {
     "data": {
      "application/vnd.jupyter.widget-view+json": {
       "model_id": "acf4c89ca74e4513bbb8c57e04bda3b8",
       "version_major": 2,
       "version_minor": 0
      },
      "text/plain": [
       "HBox(children=(FloatProgress(value=1.0, bar_style='info', max=1.0), HTML(value='')))"
      ]
     },
     "metadata": {},
     "output_type": "display_data"
    },
    {
     "name": "stdout",
     "output_type": "stream",
     "text": [
      "\n",
      "Epoch: 41 |train loss:1.4901 |train accuracy: 0.4393\n",
      "[3 2 1 0 1 0 0 0 1 3 0 0 1 0 0 0 1 1 1 0 0 1 1 1 0 0 0 0 1 0 0 1 0 0 0 3 3\n",
      " 0 1 0 0 3 1 0 0 1 3 0 1 1 1 1]\n"
     ]
    },
    {
     "data": {
      "application/vnd.jupyter.widget-view+json": {
       "model_id": "896da282e62d4b0c86be54d9bc88ba3e",
       "version_major": 2,
       "version_minor": 0
      },
      "text/plain": [
       "HBox(children=(FloatProgress(value=1.0, bar_style='info', max=1.0), HTML(value='')))"
      ]
     },
     "metadata": {},
     "output_type": "display_data"
    },
    {
     "name": "stdout",
     "output_type": "stream",
     "text": [
      "\n",
      "Epoch: 42 |train loss:1.4898 |train accuracy: 0.4426\n",
      "[0 2 1 1 0 0 0 1 0 1 1 0 1 1 3 1 3 0 0 0 3 2 3 2 2 1 0 1 2 0 1 2 0 1 0 1 2\n",
      " 1 3 0 1 0 1 1 2 0 0 0 0 1 0 1]\n"
     ]
    },
    {
     "data": {
      "application/vnd.jupyter.widget-view+json": {
       "model_id": "1e1619a6d79a47a4a9ed519c80ad3f19",
       "version_major": 2,
       "version_minor": 0
      },
      "text/plain": [
       "HBox(children=(FloatProgress(value=1.0, bar_style='info', max=1.0), HTML(value='')))"
      ]
     },
     "metadata": {},
     "output_type": "display_data"
    },
    {
     "name": "stdout",
     "output_type": "stream",
     "text": [
      "\n",
      "Epoch: 43 |train loss:1.4909 |train accuracy: 0.4404\n",
      "[2 0 1 0 0 0 0 0 3 0 1 0 3 0 0 2 0 0 1 0 3 0 0 0 2 0 2 1 0 0 0 0 0 1 0 1 0\n",
      " 0 3 0 1 2 1 0 0 0 0 0 0 0 1 1]\n"
     ]
    },
    {
     "data": {
      "application/vnd.jupyter.widget-view+json": {
       "model_id": "3fe6da1355074438a5b4d4f9ed802a43",
       "version_major": 2,
       "version_minor": 0
      },
      "text/plain": [
       "HBox(children=(FloatProgress(value=1.0, bar_style='info', max=1.0), HTML(value='')))"
      ]
     },
     "metadata": {},
     "output_type": "display_data"
    },
    {
     "name": "stdout",
     "output_type": "stream",
     "text": [
      "\n",
      "Epoch: 44 |train loss:1.4896 |train accuracy: 0.4402\n",
      "[1 3 2 0 0 2 0 2 0 2 1 0 2 1 1 2 0 0 0 3 1 0 1 3 0 1 0 0 0 0 1 1 0 0 0 0 0\n",
      " 1 0 0 1 1 0 0 0 1 0 0 0 0 0 0]\n"
     ]
    },
    {
     "data": {
      "application/vnd.jupyter.widget-view+json": {
       "model_id": "1fae6700967247dc9362836f30b29c49",
       "version_major": 2,
       "version_minor": 0
      },
      "text/plain": [
       "HBox(children=(FloatProgress(value=1.0, bar_style='info', max=1.0), HTML(value='')))"
      ]
     },
     "metadata": {},
     "output_type": "display_data"
    },
    {
     "name": "stdout",
     "output_type": "stream",
     "text": [
      "\n",
      "Epoch: 45 |train loss:1.4922 |train accuracy: 0.4400\n",
      "[0 1 0 0 2 2 2 3 1 0 0 0 2 2 0 0 0 1 1 0 0 1 0 1 1 0 1 3 1 0 0 0 3 0 0 0 0\n",
      " 2 0 0 0 0 0 2 0 2 1 0 1 3 0 3]\n"
     ]
    },
    {
     "data": {
      "application/vnd.jupyter.widget-view+json": {
       "model_id": "0777ed1ed9b04cdab399ce7b2e3bda6c",
       "version_major": 2,
       "version_minor": 0
      },
      "text/plain": [
       "HBox(children=(FloatProgress(value=1.0, bar_style='info', max=1.0), HTML(value='')))"
      ]
     },
     "metadata": {},
     "output_type": "display_data"
    },
    {
     "name": "stdout",
     "output_type": "stream",
     "text": [
      "\n",
      "Epoch: 46 |train loss:1.4871 |train accuracy: 0.4428\n",
      "[0 0 0 0 2 0 3 2 3 0 0 2 2 3 0 0 0 0 0 2 1 0 0 0 1 2 0 0 1 2 1 1 0 3 0 0 0\n",
      " 1 0 1 0 1 2 0 1 1 1 1 0 1 0 0]\n"
     ]
    },
    {
     "data": {
      "application/vnd.jupyter.widget-view+json": {
       "model_id": "4ec49ac4f5f148b2a2e51e335f792591",
       "version_major": 2,
       "version_minor": 0
      },
      "text/plain": [
       "HBox(children=(FloatProgress(value=1.0, bar_style='info', max=1.0), HTML(value='')))"
      ]
     },
     "metadata": {},
     "output_type": "display_data"
    },
    {
     "name": "stdout",
     "output_type": "stream",
     "text": [
      "\n",
      "Epoch: 47 |train loss:1.4861 |train accuracy: 0.4453\n",
      "[1 1 1 1 1 0 0 0 0 2 1 1 0 2 0 2 0 3 0 2 0 1 0 0 0 1 3 1 1 1 2 0 0 0 1 0 0\n",
      " 2 1 1 0 2 2 2 2 1 0 1 2 2 1 1]\n"
     ]
    },
    {
     "data": {
      "application/vnd.jupyter.widget-view+json": {
       "model_id": "7af041f593b84714b029f8ee6a4f4665",
       "version_major": 2,
       "version_minor": 0
      },
      "text/plain": [
       "HBox(children=(FloatProgress(value=1.0, bar_style='info', max=1.0), HTML(value='')))"
      ]
     },
     "metadata": {},
     "output_type": "display_data"
    },
    {
     "name": "stdout",
     "output_type": "stream",
     "text": [
      "\n",
      "Epoch: 48 |train loss:1.4903 |train accuracy: 0.4388\n",
      "[0 0 1 1 0 0 0 0 1 0 2 1 0 1 2 1 2 0 2 0 1 1 3 1 1 3 2 1 1 0 0 0 0 0 0 0 3\n",
      " 1 0 0 0 0 2 0 1 1 1 1 0 1 2 0]\n"
     ]
    },
    {
     "data": {
      "application/vnd.jupyter.widget-view+json": {
       "model_id": "ad8a4959e3ac471f8d11a3c206cb26ff",
       "version_major": 2,
       "version_minor": 0
      },
      "text/plain": [
       "HBox(children=(FloatProgress(value=1.0, bar_style='info', max=1.0), HTML(value='')))"
      ]
     },
     "metadata": {},
     "output_type": "display_data"
    },
    {
     "name": "stdout",
     "output_type": "stream",
     "text": [
      "\n",
      "Epoch: 49 |train loss:1.4860 |train accuracy: 0.4439\n",
      "[0 0 1 0 0 0 1 0 1 0 0 1 1 0 1 0 3 0 0 1 0 0 0 0 0 1 0 1 0 1 0 0 0 3 2 0 0\n",
      " 1 3 2 1 3 2 1 0 0 2 0 0 1 0 0]\n"
     ]
    },
    {
     "data": {
      "application/vnd.jupyter.widget-view+json": {
       "model_id": "a479b745e4934404ac1f2318c33243ee",
       "version_major": 2,
       "version_minor": 0
      },
      "text/plain": [
       "HBox(children=(FloatProgress(value=1.0, bar_style='info', max=1.0), HTML(value='')))"
      ]
     },
     "metadata": {},
     "output_type": "display_data"
    },
    {
     "name": "stdout",
     "output_type": "stream",
     "text": [
      "\n",
      "Epoch: 50 |train loss:1.4886 |train accuracy: 0.4437\n",
      "[2 1 1 0 0 1 2 0 1 0 0 3 0 0 0 2 0 1 0 0 3 0 0 0 2 2 1 3 3 1 0 0 0 0 0 2 1\n",
      " 0 0 1 2 0 1 0 0 1 0 1 0 3 1 0]\n"
     ]
    },
    {
     "data": {
      "application/vnd.jupyter.widget-view+json": {
       "model_id": "33716699f6df4b499120f427c1e2b39d",
       "version_major": 2,
       "version_minor": 0
      },
      "text/plain": [
       "HBox(children=(FloatProgress(value=1.0, bar_style='info', max=1.0), HTML(value='')))"
      ]
     },
     "metadata": {},
     "output_type": "display_data"
    },
    {
     "name": "stdout",
     "output_type": "stream",
     "text": [
      "\n",
      "Epoch: 51 |train loss:1.4900 |train accuracy: 0.4412\n",
      "[1 0 0 1 0 0 0 0 0 0 2 1 1 0 1 0 0 2 0 0 0 0 1 1 0 1 0 1 1 0 0 0 0 0 2 1 1\n",
      " 0 0 0 2 0 0 0 0 0 0 1 0 1 0 1]\n"
     ]
    },
    {
     "data": {
      "application/vnd.jupyter.widget-view+json": {
       "model_id": "82026593576e4236b0a4483d218d1ff2",
       "version_major": 2,
       "version_minor": 0
      },
      "text/plain": [
       "HBox(children=(FloatProgress(value=1.0, bar_style='info', max=1.0), HTML(value='')))"
      ]
     },
     "metadata": {},
     "output_type": "display_data"
    },
    {
     "name": "stdout",
     "output_type": "stream",
     "text": [
      "\n",
      "Epoch: 52 |train loss:1.4906 |train accuracy: 0.4401\n",
      "[0 0 0 0 0 0 0 0 0 0 3 0 0 1 3 3 0 0 0 0 1 1 0 0 1 3 0 0 1 0 1 1 1 3 1 0 0\n",
      " 1 0 0 0 0 2 0 0 0 0 0 2 0 0 3]\n"
     ]
    },
    {
     "data": {
      "application/vnd.jupyter.widget-view+json": {
       "model_id": "1f5258393724442984d090c90aee59f6",
       "version_major": 2,
       "version_minor": 0
      },
      "text/plain": [
       "HBox(children=(FloatProgress(value=1.0, bar_style='info', max=1.0), HTML(value='')))"
      ]
     },
     "metadata": {},
     "output_type": "display_data"
    },
    {
     "name": "stdout",
     "output_type": "stream",
     "text": [
      "\n",
      "Epoch: 53 |train loss:1.4903 |train accuracy: 0.4410\n",
      "[1 1 0 0 1 0 1 0 0 1 1 0 0 3 1 0 3 2 3 0 1 3 1 0 2 2 0 2 0 0 1 0 0 0 1 0 0\n",
      " 0 0 3 0 0 1 0 0 0 0 3 1 2 0 3]\n"
     ]
    },
    {
     "data": {
      "application/vnd.jupyter.widget-view+json": {
       "model_id": "39b93c98e655480a9dbd6f674d419cc1",
       "version_major": 2,
       "version_minor": 0
      },
      "text/plain": [
       "HBox(children=(FloatProgress(value=1.0, bar_style='info', max=1.0), HTML(value='')))"
      ]
     },
     "metadata": {},
     "output_type": "display_data"
    },
    {
     "name": "stdout",
     "output_type": "stream",
     "text": [
      "\n",
      "Epoch: 54 |train loss:1.4868 |train accuracy: 0.4450\n",
      "[2 2 0 0 1 0 1 0 1 1 0 2 2 0 3 2 1 0 1 0 0 0 2 0 3 2 0 0 1 0 0 0 0 1 1 0 0\n",
      " 0 0 3 0 0 0 0 2 0 0 0 0 3 3 0]\n"
     ]
    },
    {
     "data": {
      "application/vnd.jupyter.widget-view+json": {
       "model_id": "26e7763222d447659aac501dec8a023a",
       "version_major": 2,
       "version_minor": 0
      },
      "text/plain": [
       "HBox(children=(FloatProgress(value=1.0, bar_style='info', max=1.0), HTML(value='')))"
      ]
     },
     "metadata": {},
     "output_type": "display_data"
    },
    {
     "name": "stdout",
     "output_type": "stream",
     "text": [
      "\n",
      "Epoch: 55 |train loss:1.4867 |train accuracy: 0.4443\n",
      "[3 0 0 0 1 0 0 0 0 3 0 0 1 0 1 0 0 1 0 0 0 0 0 0 1 1 1 0 1 0 1 0 0 1 0 2 1\n",
      " 1 1 1 0 1 1 0 1 0 0 0 1 1 0 0]\n"
     ]
    },
    {
     "data": {
      "application/vnd.jupyter.widget-view+json": {
       "model_id": "c8b52ced2e79464c943aa10a2b86d0d9",
       "version_major": 2,
       "version_minor": 0
      },
      "text/plain": [
       "HBox(children=(FloatProgress(value=1.0, bar_style='info', max=1.0), HTML(value='')))"
      ]
     },
     "metadata": {},
     "output_type": "display_data"
    },
    {
     "name": "stdout",
     "output_type": "stream",
     "text": [
      "\n",
      "Epoch: 56 |train loss:1.4857 |train accuracy: 0.4460\n",
      "[2 3 0 0 1 0 0 1 1 1 0 0 0 0 0 1 0 1 3 1 0 0 2 1 2 0 1 2 0 1 1 0 1 1 1 0 2\n",
      " 1 0 0 0 1 3 0 0 3 0 3 0 2 0 0]\n"
     ]
    },
    {
     "data": {
      "application/vnd.jupyter.widget-view+json": {
       "model_id": "8464790f4c4d4f29bc4f5ff50ac0d6eb",
       "version_major": 2,
       "version_minor": 0
      },
      "text/plain": [
       "HBox(children=(FloatProgress(value=1.0, bar_style='info', max=1.0), HTML(value='')))"
      ]
     },
     "metadata": {},
     "output_type": "display_data"
    },
    {
     "name": "stdout",
     "output_type": "stream",
     "text": [
      "\n",
      "Epoch: 57 |train loss:1.4882 |train accuracy: 0.4423\n",
      "[0 0 0 0 1 0 2 2 3 3 0 0 3 2 1 0 1 1 1 1 2 0 1 1 2 1 0 0 1 1 0 1 1 0 0 1 1\n",
      " 1 1 1 0 1 3 0 0 0 0 0 2 1 1 0]\n"
     ]
    },
    {
     "data": {
      "application/vnd.jupyter.widget-view+json": {
       "model_id": "ceaed7a6483449f1899d2eb50cff460d",
       "version_major": 2,
       "version_minor": 0
      },
      "text/plain": [
       "HBox(children=(FloatProgress(value=1.0, bar_style='info', max=1.0), HTML(value='')))"
      ]
     },
     "metadata": {},
     "output_type": "display_data"
    },
    {
     "name": "stdout",
     "output_type": "stream",
     "text": [
      "\n",
      "Epoch: 58 |train loss:1.4887 |train accuracy: 0.4419\n",
      "[0 0 1 2 1 1 1 1 0 1 1 0 0 0 0 1 0 0 2 1 1 1 1 0 0 1 0 0 0 2 1 1 2 0 2 0 0\n",
      " 1 1 0 0 1 0 0 3 0 0 3 2 0 1 0]\n"
     ]
    },
    {
     "data": {
      "application/vnd.jupyter.widget-view+json": {
       "model_id": "c21753733db14a5f9ad285b81c6d1acc",
       "version_major": 2,
       "version_minor": 0
      },
      "text/plain": [
       "HBox(children=(FloatProgress(value=1.0, bar_style='info', max=1.0), HTML(value='')))"
      ]
     },
     "metadata": {},
     "output_type": "display_data"
    },
    {
     "name": "stdout",
     "output_type": "stream",
     "text": [
      "\n",
      "Epoch: 59 |train loss:1.4876 |train accuracy: 0.4433\n",
      "[3 0 2 3 0 0 0 2 3 3 0 0 1 2 0 0 3 1 1 3 0 0 1 0 1 2 0 0 0 0 1 3 0 3 0 0 2\n",
      " 1 1 2 0 3 0 1 2 2 0 0 0 1 0 0]\n"
     ]
    },
    {
     "data": {
      "application/vnd.jupyter.widget-view+json": {
       "model_id": "b9b9a79e391b4fe1bcda867c768ffed1",
       "version_major": 2,
       "version_minor": 0
      },
      "text/plain": [
       "HBox(children=(FloatProgress(value=1.0, bar_style='info', max=1.0), HTML(value='')))"
      ]
     },
     "metadata": {},
     "output_type": "display_data"
    },
    {
     "name": "stdout",
     "output_type": "stream",
     "text": [
      "\n",
      "Epoch: 60 |train loss:1.4876 |train accuracy: 0.4422\n",
      "[0 0 0 0 0 0 0 0 0 3 2 0 1 0 1 0 1 0 0 0 0 2 1 0 2 0 2 0 0 1 1 0 2 0 2 1 1\n",
      " 1 2 0 0 0 1 1 0 2 1 0 0 0 2 0]\n"
     ]
    },
    {
     "data": {
      "application/vnd.jupyter.widget-view+json": {
       "model_id": "5c503e3e618340ed9e0c5be70abfbdaf",
       "version_major": 2,
       "version_minor": 0
      },
      "text/plain": [
       "HBox(children=(FloatProgress(value=1.0, bar_style='info', max=1.0), HTML(value='')))"
      ]
     },
     "metadata": {},
     "output_type": "display_data"
    },
    {
     "name": "stdout",
     "output_type": "stream",
     "text": [
      "\n",
      "Epoch: 61 |train loss:1.4886 |train accuracy: 0.4433\n",
      "[2 0 1 0 1 2 1 0 1 1 0 0 0 3 2 2 1 2 1 1 1 0 0 0 0 1 1 1 0 1 1 0 1 0 2 2 0\n",
      " 0 1 1 0 2 1 0 1 0 0 1 0 0 0 3]\n"
     ]
    },
    {
     "data": {
      "application/vnd.jupyter.widget-view+json": {
       "model_id": "57e7eee79da04aaf9276691b78dbfb5b",
       "version_major": 2,
       "version_minor": 0
      },
      "text/plain": [
       "HBox(children=(FloatProgress(value=1.0, bar_style='info', max=1.0), HTML(value='')))"
      ]
     },
     "metadata": {},
     "output_type": "display_data"
    },
    {
     "name": "stdout",
     "output_type": "stream",
     "text": [
      "\n",
      "Epoch: 62 |train loss:1.4897 |train accuracy: 0.4395\n",
      "[2 3 2 1 1 0 3 1 0 1 0 0 3 0 1 0 2 3 0 1 0 2 2 3 0 2 3 0 3 2 3 0 0 0 0 1 0\n",
      " 0 0 1 1 1 3 1 1 3 1 0 0 2 1 3]\n"
     ]
    },
    {
     "data": {
      "application/vnd.jupyter.widget-view+json": {
       "model_id": "0e0f10eee36c4712a3af1006a0807fbb",
       "version_major": 2,
       "version_minor": 0
      },
      "text/plain": [
       "HBox(children=(FloatProgress(value=1.0, bar_style='info', max=1.0), HTML(value='')))"
      ]
     },
     "metadata": {},
     "output_type": "display_data"
    },
    {
     "name": "stdout",
     "output_type": "stream",
     "text": [
      "\n",
      "Epoch: 63 |train loss:1.4909 |train accuracy: 0.4416\n",
      "[1 0 0 2 0 1 2 0 0 0 1 2 1 0 0 2 1 0 0 0 1 1 1 0 1 2 0 0 1 3 2 0 1 0 0 0 1\n",
      " 0 2 1 0 0 3 0 0 2 1 1 1 0 2 3]\n"
     ]
    },
    {
     "data": {
      "application/vnd.jupyter.widget-view+json": {
       "model_id": "cd59736837e14c90b72632796c7fcb51",
       "version_major": 2,
       "version_minor": 0
      },
      "text/plain": [
       "HBox(children=(FloatProgress(value=1.0, bar_style='info', max=1.0), HTML(value='')))"
      ]
     },
     "metadata": {},
     "output_type": "display_data"
    },
    {
     "name": "stdout",
     "output_type": "stream",
     "text": [
      "\n",
      "Epoch: 64 |train loss:1.4901 |train accuracy: 0.4394\n",
      "[0 1 1 2 1 0 0 0 0 0 0 0 2 1 3 1 0 1 0 0 0 0 1 2 2 0 1 0 0 0 0 0 1 0 0 1 1\n",
      " 0 1 0 1 0 3 0 1 0 2 2 3 3 0 0]\n"
     ]
    },
    {
     "data": {
      "application/vnd.jupyter.widget-view+json": {
       "model_id": "6977a47ad9dc429db60e4890077b9f5c",
       "version_major": 2,
       "version_minor": 0
      },
      "text/plain": [
       "HBox(children=(FloatProgress(value=1.0, bar_style='info', max=1.0), HTML(value='')))"
      ]
     },
     "metadata": {},
     "output_type": "display_data"
    },
    {
     "name": "stdout",
     "output_type": "stream",
     "text": [
      "\n",
      "Epoch: 65 |train loss:1.4903 |train accuracy: 0.4415\n",
      "[2 0 2 0 0 0 0 1 0 0 2 2 0 0 0 0 1 0 1 0 0 1 0 0 1 1 3 0 1 0 0 2 0 3 1 1 1\n",
      " 0 1 0 0 0 1 0 0 1 2 0 1 1 3 0]\n"
     ]
    },
    {
     "data": {
      "application/vnd.jupyter.widget-view+json": {
       "model_id": "26d1c5a3369f4fd2bd901d05ebc13316",
       "version_major": 2,
       "version_minor": 0
      },
      "text/plain": [
       "HBox(children=(FloatProgress(value=1.0, bar_style='info', max=1.0), HTML(value='')))"
      ]
     },
     "metadata": {},
     "output_type": "display_data"
    },
    {
     "name": "stdout",
     "output_type": "stream",
     "text": [
      "\n",
      "Epoch: 66 |train loss:1.4860 |train accuracy: 0.4447\n",
      "[3 2 0 0 0 1 1 0 0 0 0 1 2 1 1 0 0 3 0 2 1 2 0 0 0 2 0 1 1 0 1 1 0 0 0 1 1\n",
      " 3 1 0 0 2 0 1 2 1 0 2 3 0 0 3]\n"
     ]
    },
    {
     "data": {
      "application/vnd.jupyter.widget-view+json": {
       "model_id": "7b355810117f47a3ab8271be53c45cd6",
       "version_major": 2,
       "version_minor": 0
      },
      "text/plain": [
       "HBox(children=(FloatProgress(value=1.0, bar_style='info', max=1.0), HTML(value='')))"
      ]
     },
     "metadata": {},
     "output_type": "display_data"
    },
    {
     "name": "stdout",
     "output_type": "stream",
     "text": [
      "\n",
      "Epoch: 67 |train loss:1.4883 |train accuracy: 0.4432\n",
      "[0 1 0 0 2 0 2 1 1 1 0 3 0 1 0 2 0 0 0 0 0 0 1 1 0 0 0 0 1 0 3 1 0 1 3 0 1\n",
      " 0 0 0 0 1 2 1 1 0 0 1 3 1 0 1]\n"
     ]
    },
    {
     "data": {
      "application/vnd.jupyter.widget-view+json": {
       "model_id": "4e22bc3c20d7468aa8af6474cfe1151c",
       "version_major": 2,
       "version_minor": 0
      },
      "text/plain": [
       "HBox(children=(FloatProgress(value=1.0, bar_style='info', max=1.0), HTML(value='')))"
      ]
     },
     "metadata": {},
     "output_type": "display_data"
    },
    {
     "name": "stdout",
     "output_type": "stream",
     "text": [
      "\n",
      "Epoch: 68 |train loss:1.4868 |train accuracy: 0.4428\n",
      "[0 0 1 3 1 0 1 0 1 1 0 0 1 0 0 0 0 1 0 0 0 0 0 2 1 0 0 2 2 0 0 0 0 0 1 3 0\n",
      " 3 3 2 3 3 0 0 0 0 3 0 0 0 0 1]\n"
     ]
    },
    {
     "data": {
      "application/vnd.jupyter.widget-view+json": {
       "model_id": "7bd360f3c73e404da89de77db7d35032",
       "version_major": 2,
       "version_minor": 0
      },
      "text/plain": [
       "HBox(children=(FloatProgress(value=1.0, bar_style='info', max=1.0), HTML(value='')))"
      ]
     },
     "metadata": {},
     "output_type": "display_data"
    },
    {
     "name": "stdout",
     "output_type": "stream",
     "text": [
      "\n",
      "Epoch: 69 |train loss:1.4900 |train accuracy: 0.4413\n",
      "[0 0 2 1 0 1 1 0 1 0 2 0 0 3 0 0 1 2 0 2 3 1 0 1 3 0 1 1 1 3 2 0 1 0 0 1 1\n",
      " 0 1 1 0 0 0 0 0 1 1 1 0 0 0 0]\n"
     ]
    },
    {
     "data": {
      "application/vnd.jupyter.widget-view+json": {
       "model_id": "50ab1c02cf014fd49417f1915829739f",
       "version_major": 2,
       "version_minor": 0
      },
      "text/plain": [
       "HBox(children=(FloatProgress(value=1.0, bar_style='info', max=1.0), HTML(value='')))"
      ]
     },
     "metadata": {},
     "output_type": "display_data"
    },
    {
     "name": "stdout",
     "output_type": "stream",
     "text": [
      "\n",
      "Epoch: 70 |train loss:1.4914 |train accuracy: 0.4420\n",
      "[1 1 0 0 0 0 3 0 1 0 0 0 0 0 0 0 1 0 0 0 1 3 0 2 1 3 1 0 0 3 0 0 1 0 1 0 1\n",
      " 0 0 0 1 0 0 0 1 0 0 3 0 0 1 0]\n"
     ]
    },
    {
     "data": {
      "application/vnd.jupyter.widget-view+json": {
       "model_id": "822b7154b9314429bd4fb6f4c2bdd881",
       "version_major": 2,
       "version_minor": 0
      },
      "text/plain": [
       "HBox(children=(FloatProgress(value=1.0, bar_style='info', max=1.0), HTML(value='')))"
      ]
     },
     "metadata": {},
     "output_type": "display_data"
    },
    {
     "name": "stdout",
     "output_type": "stream",
     "text": [
      "\n",
      "Epoch: 71 |train loss:1.4906 |train accuracy: 0.4410\n",
      "[1 0 2 1 2 0 0 0 0 0 1 1 1 3 0 0 0 0 1 0 2 0 0 0 0 0 3 0 0 0 0 1 1 1 0 1 2\n",
      " 2 1 1 2 1 1 2 0 1 0 0 1 1 0 2]\n"
     ]
    },
    {
     "data": {
      "application/vnd.jupyter.widget-view+json": {
       "model_id": "8da77563b7c7479d83b4760e74c8c657",
       "version_major": 2,
       "version_minor": 0
      },
      "text/plain": [
       "HBox(children=(FloatProgress(value=1.0, bar_style='info', max=1.0), HTML(value='')))"
      ]
     },
     "metadata": {},
     "output_type": "display_data"
    },
    {
     "name": "stdout",
     "output_type": "stream",
     "text": [
      "\n",
      "Epoch: 72 |train loss:1.4896 |train accuracy: 0.4408\n",
      "[1 0 1 0 1 2 0 1 0 0 1 3 0 1 2 0 0 0 1 1 0 1 0 0 0 0 1 0 2 1 2 0 1 0 1 1 0\n",
      " 1 1 1 0 0 0 0 0 0 2 1 0 0 0 1]\n"
     ]
    },
    {
     "data": {
      "application/vnd.jupyter.widget-view+json": {
       "model_id": "0db2cbb46c8e40b2a765bda46555b7eb",
       "version_major": 2,
       "version_minor": 0
      },
      "text/plain": [
       "HBox(children=(FloatProgress(value=1.0, bar_style='info', max=1.0), HTML(value='')))"
      ]
     },
     "metadata": {},
     "output_type": "display_data"
    },
    {
     "name": "stdout",
     "output_type": "stream",
     "text": [
      "\n",
      "Epoch: 73 |train loss:1.4890 |train accuracy: 0.4420\n",
      "[0 1 1 2 3 1 0 0 0 0 0 1 3 0 2 3 1 0 0 0 0 0 1 1 0 0 0 2 0 0 1 1 2 0 0 1 1\n",
      " 0 1 0 0 1 0 0 2 0 2 0 0 0 1 0]\n"
     ]
    },
    {
     "data": {
      "application/vnd.jupyter.widget-view+json": {
       "model_id": "2b99febb43d34c868b70beb11ae1f0dd",
       "version_major": 2,
       "version_minor": 0
      },
      "text/plain": [
       "HBox(children=(FloatProgress(value=1.0, bar_style='info', max=1.0), HTML(value='')))"
      ]
     },
     "metadata": {},
     "output_type": "display_data"
    },
    {
     "name": "stdout",
     "output_type": "stream",
     "text": [
      "\n",
      "Epoch: 74 |train loss:1.4861 |train accuracy: 0.4435\n",
      "[1 0 0 1 0 2 0 1 0 0 2 0 3 2 0 0 0 3 1 0 1 0 3 0 3 0 0 0 0 0 2 1 1 0 1 1 0\n",
      " 1 0 0 2 0 0 0 1 1 0 0 0 0 1 0]\n"
     ]
    },
    {
     "data": {
      "application/vnd.jupyter.widget-view+json": {
       "model_id": "09b90d6518fe45f99867c6a676273b35",
       "version_major": 2,
       "version_minor": 0
      },
      "text/plain": [
       "HBox(children=(FloatProgress(value=1.0, bar_style='info', max=1.0), HTML(value='')))"
      ]
     },
     "metadata": {},
     "output_type": "display_data"
    },
    {
     "name": "stdout",
     "output_type": "stream",
     "text": [
      "\n",
      "Epoch: 75 |train loss:1.4915 |train accuracy: 0.4401\n",
      "[0 3 3 0 0 0 1 0 0 1 1 0 2 0 0 0 0 0 1 2 0 1 0 0 1 3 1 3 0 0 1 1 0 3 1 2 0\n",
      " 0 0 0 0 2 1 0 3 2 2 0 2 0 0 0]\n"
     ]
    },
    {
     "data": {
      "application/vnd.jupyter.widget-view+json": {
       "model_id": "b3b7fe6e3c2c40e6b0eb70b147c056b6",
       "version_major": 2,
       "version_minor": 0
      },
      "text/plain": [
       "HBox(children=(FloatProgress(value=1.0, bar_style='info', max=1.0), HTML(value='')))"
      ]
     },
     "metadata": {},
     "output_type": "display_data"
    },
    {
     "name": "stdout",
     "output_type": "stream",
     "text": [
      "\n",
      "Epoch: 76 |train loss:1.4901 |train accuracy: 0.4411\n",
      "[0 1 0 0 0 3 3 1 1 3 2 3 0 2 0 0 0 0 0 1 0 0 0 3 0 0 1 3 0 1 0 2 0 0 2 3 2\n",
      " 0 0 0 2 1 3 1 1 0 1 0 0 0 1 0]\n"
     ]
    },
    {
     "data": {
      "application/vnd.jupyter.widget-view+json": {
       "model_id": "b72ba0ec206c458a8f191a82e264bb7f",
       "version_major": 2,
       "version_minor": 0
      },
      "text/plain": [
       "HBox(children=(FloatProgress(value=1.0, bar_style='info', max=1.0), HTML(value='')))"
      ]
     },
     "metadata": {},
     "output_type": "display_data"
    },
    {
     "name": "stdout",
     "output_type": "stream",
     "text": [
      "\n",
      "Epoch: 77 |train loss:1.4904 |train accuracy: 0.4395\n",
      "[0 2 3 0 0 1 0 3 0 0 0 1 0 2 1 0 0 2 1 0 1 0 0 0 1 2 1 0 0 2 2 0 0 0 0 3 0\n",
      " 1 0 0 0 1 0 0 1 0 2 0 2 2 0 3]\n"
     ]
    },
    {
     "data": {
      "application/vnd.jupyter.widget-view+json": {
       "model_id": "542c4673638d43dc96efa6119f074745",
       "version_major": 2,
       "version_minor": 0
      },
      "text/plain": [
       "HBox(children=(FloatProgress(value=1.0, bar_style='info', max=1.0), HTML(value='')))"
      ]
     },
     "metadata": {},
     "output_type": "display_data"
    },
    {
     "name": "stdout",
     "output_type": "stream",
     "text": [
      "\n",
      "Epoch: 78 |train loss:1.4884 |train accuracy: 0.4442\n",
      "[2 0 0 0 1 0 0 0 1 1 1 1 0 2 2 2 3 0 0 0 0 3 1 0 0 1 1 1 0 3 3 0 0 0 0 3 1\n",
      " 1 1 2 0 2 2 1 1 2 0 0 1 2 0 0]\n"
     ]
    },
    {
     "data": {
      "application/vnd.jupyter.widget-view+json": {
       "model_id": "02e6b78411ec4f9c929d98e99bc800de",
       "version_major": 2,
       "version_minor": 0
      },
      "text/plain": [
       "HBox(children=(FloatProgress(value=1.0, bar_style='info', max=1.0), HTML(value='')))"
      ]
     },
     "metadata": {},
     "output_type": "display_data"
    },
    {
     "name": "stdout",
     "output_type": "stream",
     "text": [
      "\n",
      "Epoch: 79 |train loss:1.4869 |train accuracy: 0.4447\n",
      "[0 0 0 2 0 0 0 0 3 1 0 0 1 0 0 1 3 0 2 0 0 1 0 1 1 0 0 1 1 0 0 1 1 3 0 0 1\n",
      " 0 1 3 0 0 3 0 0 0 0 1 0 1 0 1]\n"
     ]
    },
    {
     "data": {
      "application/vnd.jupyter.widget-view+json": {
       "model_id": "2d53de91e43540938e90b412799dda81",
       "version_major": 2,
       "version_minor": 0
      },
      "text/plain": [
       "HBox(children=(FloatProgress(value=1.0, bar_style='info', max=1.0), HTML(value='')))"
      ]
     },
     "metadata": {},
     "output_type": "display_data"
    },
    {
     "name": "stdout",
     "output_type": "stream",
     "text": [
      "\n",
      "Epoch: 80 |train loss:1.4923 |train accuracy: 0.4388\n",
      "[0 0 0 0 0 1 0 3 1 0 3 0 0 0 0 0 0 0 2 0 1 0 0 0 0 0 1 0 0 0 1 0 0 0 0 2 0\n",
      " 0 1 0 0 1 0 0 0 0 1 3 3 2 0 2]\n"
     ]
    },
    {
     "data": {
      "application/vnd.jupyter.widget-view+json": {
       "model_id": "ce4acd325df7488a8aa657d8e40412bc",
       "version_major": 2,
       "version_minor": 0
      },
      "text/plain": [
       "HBox(children=(FloatProgress(value=1.0, bar_style='info', max=1.0), HTML(value='')))"
      ]
     },
     "metadata": {},
     "output_type": "display_data"
    },
    {
     "name": "stdout",
     "output_type": "stream",
     "text": [
      "\n",
      "Epoch: 81 |train loss:1.4864 |train accuracy: 0.4438\n",
      "[2 2 2 0 0 0 1 1 1 2 3 0 0 1 0 0 0 3 1 0 1 0 0 2 0 0 2 0 2 1 0 0 0 0 0 0 0\n",
      " 2 0 0 2 0 3 3 0 1 2 2 0 0 0 0]\n"
     ]
    },
    {
     "data": {
      "application/vnd.jupyter.widget-view+json": {
       "model_id": "157fa9a7f0e74c959f1a81ed71a696c0",
       "version_major": 2,
       "version_minor": 0
      },
      "text/plain": [
       "HBox(children=(FloatProgress(value=1.0, bar_style='info', max=1.0), HTML(value='')))"
      ]
     },
     "metadata": {},
     "output_type": "display_data"
    },
    {
     "name": "stdout",
     "output_type": "stream",
     "text": [
      "\n",
      "Epoch: 82 |train loss:1.4882 |train accuracy: 0.4441\n",
      "[0 0 1 0 0 0 0 0 0 2 0 0 0 0 0 1 1 0 0 0 0 0 1 2 0 1 0 1 0 1 1 0 0 1 0 0 1\n",
      " 0 1 0 0 0 1 0 0 3 0 0 0 2 2 0]\n"
     ]
    },
    {
     "data": {
      "application/vnd.jupyter.widget-view+json": {
       "model_id": "1b5184a1b36a4fc19a1c5dc750df9d3d",
       "version_major": 2,
       "version_minor": 0
      },
      "text/plain": [
       "HBox(children=(FloatProgress(value=1.0, bar_style='info', max=1.0), HTML(value='')))"
      ]
     },
     "metadata": {},
     "output_type": "display_data"
    },
    {
     "name": "stdout",
     "output_type": "stream",
     "text": [
      "\n",
      "Epoch: 83 |train loss:1.4866 |train accuracy: 0.4437\n",
      "[0 2 2 2 0 0 0 0 0 0 3 0 0 0 1 2 2 0 3 2 0 1 0 0 2 0 0 1 0 0 0 0 0 3 0 0 1\n",
      " 0 1 2 0 0 3 0 1 1 1 0 3 0 0 0]\n"
     ]
    },
    {
     "data": {
      "application/vnd.jupyter.widget-view+json": {
       "model_id": "97167edd540842ea8de04b7fe0326bb3",
       "version_major": 2,
       "version_minor": 0
      },
      "text/plain": [
       "HBox(children=(FloatProgress(value=1.0, bar_style='info', max=1.0), HTML(value='')))"
      ]
     },
     "metadata": {},
     "output_type": "display_data"
    },
    {
     "name": "stdout",
     "output_type": "stream",
     "text": [
      "\n",
      "Epoch: 84 |train loss:1.4874 |train accuracy: 0.4431\n",
      "[0 1 1 0 0 1 2 1 1 2 0 1 1 0 0 0 0 3 1 1 1 1 1 0 0 2 0 1 2 1 0 0 2 0 0 0 0\n",
      " 0 1 0 2 0 1 3 1 0 0 2 0 0 0 0]\n"
     ]
    },
    {
     "data": {
      "application/vnd.jupyter.widget-view+json": {
       "model_id": "7d3dc00067b148758b583c196a38cf71",
       "version_major": 2,
       "version_minor": 0
      },
      "text/plain": [
       "HBox(children=(FloatProgress(value=1.0, bar_style='info', max=1.0), HTML(value='')))"
      ]
     },
     "metadata": {},
     "output_type": "display_data"
    },
    {
     "name": "stdout",
     "output_type": "stream",
     "text": [
      "\n",
      "Epoch: 85 |train loss:1.4911 |train accuracy: 0.4391\n",
      "[0 0 1 0 0 3 0 0 3 0 1 0 1 1 2 0 2 0 0 0 0 2 1 1 1 0 0 0 1 1 0 0 0 1 1 0 0\n",
      " 1 0 0 0 3 1 0 0 0 1 2 2 0 0 1]\n"
     ]
    },
    {
     "data": {
      "application/vnd.jupyter.widget-view+json": {
       "model_id": "d6a2f31b20bb43eda1e32e6bc2424d9b",
       "version_major": 2,
       "version_minor": 0
      },
      "text/plain": [
       "HBox(children=(FloatProgress(value=1.0, bar_style='info', max=1.0), HTML(value='')))"
      ]
     },
     "metadata": {},
     "output_type": "display_data"
    },
    {
     "name": "stdout",
     "output_type": "stream",
     "text": [
      "\n",
      "Epoch: 86 |train loss:1.4879 |train accuracy: 0.4424\n",
      "[0 1 3 0 1 2 1 0 0 0 1 1 3 0 0 0 0 0 0 0 0 1 3 0 0 3 0 1 2 0 0 0 0 1 1 0 3\n",
      " 0 0 0 0 0 1 0 0 1 2 0 0 0 1 1]\n"
     ]
    },
    {
     "data": {
      "application/vnd.jupyter.widget-view+json": {
       "model_id": "00712af05dee429d8d2ce4527a8d36d3",
       "version_major": 2,
       "version_minor": 0
      },
      "text/plain": [
       "HBox(children=(FloatProgress(value=1.0, bar_style='info', max=1.0), HTML(value='')))"
      ]
     },
     "metadata": {},
     "output_type": "display_data"
    },
    {
     "name": "stdout",
     "output_type": "stream",
     "text": [
      "\n",
      "Epoch: 87 |train loss:1.4897 |train accuracy: 0.4413\n",
      "[0 1 0 0 1 0 0 1 1 1 1 0 0 1 0 2 0 0 0 1 0 0 2 1 2 2 3 2 0 0 0 0 1 0 0 1 1\n",
      " 0 3 0 0 0 0 1 1 1 3 0 0 0 1 0]\n"
     ]
    },
    {
     "data": {
      "application/vnd.jupyter.widget-view+json": {
       "model_id": "e0640d1388a64412be62b6c84c256eb7",
       "version_major": 2,
       "version_minor": 0
      },
      "text/plain": [
       "HBox(children=(FloatProgress(value=1.0, bar_style='info', max=1.0), HTML(value='')))"
      ]
     },
     "metadata": {},
     "output_type": "display_data"
    },
    {
     "name": "stdout",
     "output_type": "stream",
     "text": [
      "\n",
      "Epoch: 88 |train loss:1.4852 |train accuracy: 0.4453\n",
      "[0 1 1 0 0 0 1 0 0 1 2 1 0 1 2 3 0 0 0 0 2 0 3 0 0 0 0 1 0 0 2 2 0 0 1 3 1\n",
      " 2 2 2 1 0 0 3 0 1 2 1 1 1 0 0]\n"
     ]
    },
    {
     "data": {
      "application/vnd.jupyter.widget-view+json": {
       "model_id": "c44614086c0e4fe2a76b09410d183d99",
       "version_major": 2,
       "version_minor": 0
      },
      "text/plain": [
       "HBox(children=(FloatProgress(value=1.0, bar_style='info', max=1.0), HTML(value='')))"
      ]
     },
     "metadata": {},
     "output_type": "display_data"
    },
    {
     "name": "stdout",
     "output_type": "stream",
     "text": [
      "\n",
      "Epoch: 89 |train loss:1.4879 |train accuracy: 0.4420\n",
      "[0 0 0 0 1 1 1 1 0 1 0 0 2 1 3 1 2 3 0 0 1 0 2 0 1 1 1 1 2 0 2 0 0 1 0 0 1\n",
      " 0 3 0 0 2 0 0 1 1 1 0 1 2 2 2]\n"
     ]
    },
    {
     "data": {
      "application/vnd.jupyter.widget-view+json": {
       "model_id": "6545fb24fe0d4953a22335ce5c75fed5",
       "version_major": 2,
       "version_minor": 0
      },
      "text/plain": [
       "HBox(children=(FloatProgress(value=1.0, bar_style='info', max=1.0), HTML(value='')))"
      ]
     },
     "metadata": {},
     "output_type": "display_data"
    },
    {
     "name": "stdout",
     "output_type": "stream",
     "text": [
      "\n",
      "Epoch: 90 |train loss:1.4851 |train accuracy: 0.4436\n",
      "[2 0 0 1 1 3 0 0 0 0 0 1 2 0 0 0 2 1 0 2 0 1 1 0 0 0 0 0 0 0 3 0 0 2 1 1 2\n",
      " 0 1 1 0 0 3 0 0 0 1 0 0 2 1 1]\n"
     ]
    },
    {
     "data": {
      "application/vnd.jupyter.widget-view+json": {
       "model_id": "b72aebabf2d04da09dd690bfb38b1d1c",
       "version_major": 2,
       "version_minor": 0
      },
      "text/plain": [
       "HBox(children=(FloatProgress(value=1.0, bar_style='info', max=1.0), HTML(value='')))"
      ]
     },
     "metadata": {},
     "output_type": "display_data"
    },
    {
     "name": "stdout",
     "output_type": "stream",
     "text": [
      "\n",
      "Epoch: 91 |train loss:1.4817 |train accuracy: 0.4465\n",
      "[1 1 0 1 0 0 0 0 1 1 1 1 0 0 0 2 2 1 0 0 1 0 2 0 2 0 0 0 3 1 1 2 1 2 0 1 1\n",
      " 0 0 0 0 3 3 1 0 0 1 0 1 0 0 2]\n"
     ]
    },
    {
     "data": {
      "application/vnd.jupyter.widget-view+json": {
       "model_id": "fa962d2408084793994da5f466cb6217",
       "version_major": 2,
       "version_minor": 0
      },
      "text/plain": [
       "HBox(children=(FloatProgress(value=1.0, bar_style='info', max=1.0), HTML(value='')))"
      ]
     },
     "metadata": {},
     "output_type": "display_data"
    },
    {
     "name": "stdout",
     "output_type": "stream",
     "text": [
      "\n",
      "Epoch: 92 |train loss:1.4938 |train accuracy: 0.4392\n",
      "[0 2 0 0 0 0 0 2 1 0 3 1 1 0 0 1 3 0 0 0 3 1 0 0 0 1 0 0 1 0 0 0 2 3 0 0 1\n",
      " 1 0 2 3 0 0 0 0 3 0 0 2 2 0 1]\n"
     ]
    },
    {
     "data": {
      "application/vnd.jupyter.widget-view+json": {
       "model_id": "9502aea173914c34aace14c2ce93b0e9",
       "version_major": 2,
       "version_minor": 0
      },
      "text/plain": [
       "HBox(children=(FloatProgress(value=1.0, bar_style='info', max=1.0), HTML(value='')))"
      ]
     },
     "metadata": {},
     "output_type": "display_data"
    },
    {
     "name": "stdout",
     "output_type": "stream",
     "text": [
      "\n",
      "Epoch: 93 |train loss:1.4849 |train accuracy: 0.4459\n",
      "[0 1 2 3 0 0 1 1 0 2 1 0 0 2 2 0 0 0 1 0 3 1 0 1 0 2 1 1 0 1 0 0 2 0 3 0 1\n",
      " 3 1 0 1 3 1 1 0 0 0 0 0 0 1 2]\n"
     ]
    },
    {
     "data": {
      "application/vnd.jupyter.widget-view+json": {
       "model_id": "7768b3d8bee04452b8f9bd840873e992",
       "version_major": 2,
       "version_minor": 0
      },
      "text/plain": [
       "HBox(children=(FloatProgress(value=1.0, bar_style='info', max=1.0), HTML(value='')))"
      ]
     },
     "metadata": {},
     "output_type": "display_data"
    },
    {
     "name": "stdout",
     "output_type": "stream",
     "text": [
      "\n",
      "Epoch: 94 |train loss:1.4922 |train accuracy: 0.4388\n",
      "[0 1 0 1 0 0 2 0 1 0 1 0 0 0 2 0 0 1 2 2 0 2 3 2 1 1 2 0 0 0 0 1 2 1 1 0 1\n",
      " 0 3 1 1 2 0 0 1 0 2 2 0 0 3 1]\n"
     ]
    },
    {
     "data": {
      "application/vnd.jupyter.widget-view+json": {
       "model_id": "2445b48432c748fa838ccf9fcc0c19e2",
       "version_major": 2,
       "version_minor": 0
      },
      "text/plain": [
       "HBox(children=(FloatProgress(value=1.0, bar_style='info', max=1.0), HTML(value='')))"
      ]
     },
     "metadata": {},
     "output_type": "display_data"
    },
    {
     "name": "stdout",
     "output_type": "stream",
     "text": [
      "\n",
      "Epoch: 95 |train loss:1.4883 |train accuracy: 0.4444\n",
      "[1 2 1 0 0 1 0 1 3 1 0 1 2 1 0 3 0 0 0 0 2 2 0 0 1 0 0 2 1 1 0 0 0 1 1 0 1\n",
      " 0 0 0 1 0 0 0 0 0 2 0 1 2 0 0]\n"
     ]
    },
    {
     "data": {
      "application/vnd.jupyter.widget-view+json": {
       "model_id": "6f0239f4813449d8a90ea80368e87bf2",
       "version_major": 2,
       "version_minor": 0
      },
      "text/plain": [
       "HBox(children=(FloatProgress(value=1.0, bar_style='info', max=1.0), HTML(value='')))"
      ]
     },
     "metadata": {},
     "output_type": "display_data"
    },
    {
     "name": "stdout",
     "output_type": "stream",
     "text": [
      "\n",
      "Epoch: 96 |train loss:1.4887 |train accuracy: 0.4426\n",
      "[2 3 0 2 0 0 2 1 0 1 0 0 0 0 1 0 2 0 1 2 0 1 0 0 0 0 3 1 0 0 0 0 0 1 0 0 0\n",
      " 0 1 0 2 1 0 0 1 0 0 2 1 3 0 1]\n"
     ]
    },
    {
     "data": {
      "application/vnd.jupyter.widget-view+json": {
       "model_id": "527e5a6389804a9c85f429b8b33b2fb4",
       "version_major": 2,
       "version_minor": 0
      },
      "text/plain": [
       "HBox(children=(FloatProgress(value=1.0, bar_style='info', max=1.0), HTML(value='')))"
      ]
     },
     "metadata": {},
     "output_type": "display_data"
    },
    {
     "name": "stdout",
     "output_type": "stream",
     "text": [
      "\n",
      "Epoch: 97 |train loss:1.4901 |train accuracy: 0.4414\n",
      "[2 0 0 2 3 0 0 1 0 1 0 0 1 0 1 0 0 1 1 0 1 1 1 2 2 1 1 2 1 2 2 0 1 1 0 1 1\n",
      " 0 0 0 1 2 0 0 1 0 0 1 0 1 1 0]\n"
     ]
    },
    {
     "data": {
      "application/vnd.jupyter.widget-view+json": {
       "model_id": "c6b65cf9e35d45fe907cf80ca54b64f4",
       "version_major": 2,
       "version_minor": 0
      },
      "text/plain": [
       "HBox(children=(FloatProgress(value=1.0, bar_style='info', max=1.0), HTML(value='')))"
      ]
     },
     "metadata": {},
     "output_type": "display_data"
    },
    {
     "name": "stdout",
     "output_type": "stream",
     "text": [
      "\n",
      "Epoch: 98 |train loss:1.4901 |train accuracy: 0.4407\n",
      "[3 1 2 0 1 0 0 1 1 1 0 0 0 0 1 1 2 0 3 1 2 0 0 1 1 0 1 0 0 0 2 1 1 1 0 1 1\n",
      " 1 1 0 0 0 2 0 0 0 2 1 2 0 1 3]\n"
     ]
    },
    {
     "data": {
      "application/vnd.jupyter.widget-view+json": {
       "model_id": "7874b9a74a3b4908b6e4227f8d5f0041",
       "version_major": 2,
       "version_minor": 0
      },
      "text/plain": [
       "HBox(children=(FloatProgress(value=1.0, bar_style='info', max=1.0), HTML(value='')))"
      ]
     },
     "metadata": {},
     "output_type": "display_data"
    },
    {
     "name": "stdout",
     "output_type": "stream",
     "text": [
      "\n",
      "Epoch: 99 |train loss:1.4861 |train accuracy: 0.4437\n",
      "[1 0 0 0 0 2 3 2 2 0 0 1 0 1 0 0 0 1 0 2 2 0 1 1 1 0 0 0 0 1 2 0 1 0 0 3 1\n",
      " 0 0 1 0 0 0 0 1 1 3 0 1 0 0 0]\n"
     ]
    },
    {
     "data": {
      "application/vnd.jupyter.widget-view+json": {
       "model_id": "3175dbaa34f34de1af8210cbe79ce572",
       "version_major": 2,
       "version_minor": 0
      },
      "text/plain": [
       "HBox(children=(FloatProgress(value=1.0, bar_style='info', max=1.0), HTML(value='')))"
      ]
     },
     "metadata": {},
     "output_type": "display_data"
    },
    {
     "name": "stdout",
     "output_type": "stream",
     "text": [
      "\n",
      "Epoch: 100 |train loss:1.4850 |train accuracy: 0.4426\n",
      "[1 0 0 0 1 3 0 0 2 2 0 1 0 1 0 1 2 0 2 0 2 0 1 0 3 1 0 1 0 0 1 0 0 1 1 0 3\n",
      " 1 1 3 2 1 0 0 1 1 2 0 0 0 0 0]\n"
     ]
    },
    {
     "data": {
      "application/vnd.jupyter.widget-view+json": {
       "model_id": "a085fd2b411343b091dc0d26aa42ebd8",
       "version_major": 2,
       "version_minor": 0
      },
      "text/plain": [
       "HBox(children=(FloatProgress(value=1.0, bar_style='info', max=1.0), HTML(value='')))"
      ]
     },
     "metadata": {},
     "output_type": "display_data"
    },
    {
     "name": "stdout",
     "output_type": "stream",
     "text": [
      "\n",
      "Epoch: 101 |train loss:1.4881 |train accuracy: 0.4416\n",
      "[1 1 0 2 1 0 1 1 0 3 0 0 0 1 0 1 0 0 0 1 1 0 1 0 1 0 0 0 0 0 0 2 1 0 0 2 3\n",
      " 0 0 0 0 0 0 2 1 0 0 2 0 1 0 0]\n"
     ]
    },
    {
     "data": {
      "application/vnd.jupyter.widget-view+json": {
       "model_id": "0f94fb547c4f4f76bdcba5ebfef58b34",
       "version_major": 2,
       "version_minor": 0
      },
      "text/plain": [
       "HBox(children=(FloatProgress(value=1.0, bar_style='info', max=1.0), HTML(value='')))"
      ]
     },
     "metadata": {},
     "output_type": "display_data"
    },
    {
     "name": "stdout",
     "output_type": "stream",
     "text": [
      "\n",
      "Epoch: 102 |train loss:1.4893 |train accuracy: 0.4432\n",
      "[0 0 1 1 0 0 2 0 0 0 0 0 2 0 1 1 0 3 0 0 1 0 0 1 0 0 1 1 0 0 0 3 0 0 0 0 0\n",
      " 1 3 0 2 1 0 2 0 1 0 2 2 0 3 2]\n"
     ]
    },
    {
     "data": {
      "application/vnd.jupyter.widget-view+json": {
       "model_id": "2bbfd9aa44034d4ba2c86188f84b80da",
       "version_major": 2,
       "version_minor": 0
      },
      "text/plain": [
       "HBox(children=(FloatProgress(value=1.0, bar_style='info', max=1.0), HTML(value='')))"
      ]
     },
     "metadata": {},
     "output_type": "display_data"
    },
    {
     "name": "stdout",
     "output_type": "stream",
     "text": [
      "\n",
      "Epoch: 103 |train loss:1.4909 |train accuracy: 0.4417\n",
      "[1 0 1 0 1 0 0 0 1 3 1 1 1 0 0 0 3 2 0 0 0 0 1 0 2 1 0 1 3 2 0 2 1 1 1 0 2\n",
      " 2 0 0 2 0 1 0 1 1 0 3 0 0 3 1]\n"
     ]
    },
    {
     "data": {
      "application/vnd.jupyter.widget-view+json": {
       "model_id": "912a69f41f2b4bbb958bac5728347220",
       "version_major": 2,
       "version_minor": 0
      },
      "text/plain": [
       "HBox(children=(FloatProgress(value=1.0, bar_style='info', max=1.0), HTML(value='')))"
      ]
     },
     "metadata": {},
     "output_type": "display_data"
    },
    {
     "name": "stdout",
     "output_type": "stream",
     "text": [
      "\n",
      "Epoch: 104 |train loss:1.4911 |train accuracy: 0.4399\n",
      "[2 0 3 0 3 0 2 3 1 0 2 2 1 2 3 1 1 0 1 0 2 2 1 1 3 1 0 0 0 2 3 0 0 1 0 0 1\n",
      " 1 0 1 0 2 0 1 1 0 0 0 2 0 1 0]\n"
     ]
    },
    {
     "data": {
      "application/vnd.jupyter.widget-view+json": {
       "model_id": "c7dde43cf0954f3f8586efab50e10eda",
       "version_major": 2,
       "version_minor": 0
      },
      "text/plain": [
       "HBox(children=(FloatProgress(value=1.0, bar_style='info', max=1.0), HTML(value='')))"
      ]
     },
     "metadata": {},
     "output_type": "display_data"
    },
    {
     "name": "stdout",
     "output_type": "stream",
     "text": [
      "\n",
      "Epoch: 105 |train loss:1.4893 |train accuracy: 0.4411\n",
      "[1 2 0 2 2 2 0 0 1 1 0 3 1 3 0 3 0 2 0 0 0 1 3 0 2 1 0 0 0 1 2 2 1 0 0 0 1\n",
      " 1 0 2 0 0 1 1 0 1 1 1 3 0 1 1]\n"
     ]
    },
    {
     "data": {
      "application/vnd.jupyter.widget-view+json": {
       "model_id": "ef20cd34fbfb4a8197b0cf23e04af1b7",
       "version_major": 2,
       "version_minor": 0
      },
      "text/plain": [
       "HBox(children=(FloatProgress(value=1.0, bar_style='info', max=1.0), HTML(value='')))"
      ]
     },
     "metadata": {},
     "output_type": "display_data"
    },
    {
     "name": "stdout",
     "output_type": "stream",
     "text": [
      "\n",
      "Epoch: 106 |train loss:1.4909 |train accuracy: 0.4397\n",
      "[2 1 0 1 1 0 0 0 3 0 1 0 2 0 1 0 1 0 0 2 2 1 0 1 1 3 0 1 3 0 1 0 0 0 2 3 2\n",
      " 0 3 0 3 1 0 3 2 1 1 2 2 1 1 3]\n"
     ]
    },
    {
     "data": {
      "application/vnd.jupyter.widget-view+json": {
       "model_id": "93749473ea604c748fb13484eb92539f",
       "version_major": 2,
       "version_minor": 0
      },
      "text/plain": [
       "HBox(children=(FloatProgress(value=1.0, bar_style='info', max=1.0), HTML(value='')))"
      ]
     },
     "metadata": {},
     "output_type": "display_data"
    },
    {
     "name": "stdout",
     "output_type": "stream",
     "text": [
      "\n",
      "Epoch: 107 |train loss:1.4901 |train accuracy: 0.4405\n",
      "[0 0 0 2 0 1 0 1 0 1 1 1 0 0 1 1 0 1 1 2 2 0 0 0 0 0 0 0 2 0 0 3 0 2 0 0 1\n",
      " 1 2 2 0 1 3 0 1 2 2 3 0 2 1 1]\n"
     ]
    },
    {
     "data": {
      "application/vnd.jupyter.widget-view+json": {
       "model_id": "5314fbb0aaf7446988929426007234a6",
       "version_major": 2,
       "version_minor": 0
      },
      "text/plain": [
       "HBox(children=(FloatProgress(value=1.0, bar_style='info', max=1.0), HTML(value='')))"
      ]
     },
     "metadata": {},
     "output_type": "display_data"
    },
    {
     "name": "stdout",
     "output_type": "stream",
     "text": [
      "\n",
      "Epoch: 108 |train loss:1.4904 |train accuracy: 0.4400\n",
      "[0 3 1 0 0 0 1 0 0 0 1 1 1 2 1 0 1 2 2 0 0 0 0 1 2 1 1 0 3 0 0 2 2 0 0 0 1\n",
      " 2 3 0 3 0 3 1 0 0 0 0 1 0 0 2]\n"
     ]
    },
    {
     "data": {
      "application/vnd.jupyter.widget-view+json": {
       "model_id": "080e72cbf8ed4634af032cd80e551530",
       "version_major": 2,
       "version_minor": 0
      },
      "text/plain": [
       "HBox(children=(FloatProgress(value=1.0, bar_style='info', max=1.0), HTML(value='')))"
      ]
     },
     "metadata": {},
     "output_type": "display_data"
    },
    {
     "name": "stdout",
     "output_type": "stream",
     "text": [
      "\n",
      "Epoch: 109 |train loss:1.4880 |train accuracy: 0.4432\n",
      "[0 2 0 0 2 3 0 1 2 0 1 0 0 1 2 3 3 2 0 1 0 1 1 0 3 0 0 2 0 2 0 0 0 0 0 0 0\n",
      " 0 0 2 0 0 0 0 0 1 1 0 0 0 0 2]\n"
     ]
    },
    {
     "data": {
      "application/vnd.jupyter.widget-view+json": {
       "model_id": "5ab98551305d434c8e54b58e168e0108",
       "version_major": 2,
       "version_minor": 0
      },
      "text/plain": [
       "HBox(children=(FloatProgress(value=1.0, bar_style='info', max=1.0), HTML(value='')))"
      ]
     },
     "metadata": {},
     "output_type": "display_data"
    },
    {
     "name": "stdout",
     "output_type": "stream",
     "text": [
      "\n",
      "Epoch: 110 |train loss:1.4916 |train accuracy: 0.4404\n",
      "[1 0 2 1 3 1 1 0 2 0 2 0 2 0 0 2 0 0 0 0 0 0 2 3 0 2 1 0 0 1 1 0 2 0 0 0 1\n",
      " 2 1 0 2 2 1 0 0 0 0 0 1 0 0 2]\n"
     ]
    },
    {
     "data": {
      "application/vnd.jupyter.widget-view+json": {
       "model_id": "356d4daa062f4f0a829dacafcbca583e",
       "version_major": 2,
       "version_minor": 0
      },
      "text/plain": [
       "HBox(children=(FloatProgress(value=1.0, bar_style='info', max=1.0), HTML(value='')))"
      ]
     },
     "metadata": {},
     "output_type": "display_data"
    },
    {
     "name": "stdout",
     "output_type": "stream",
     "text": [
      "\n",
      "Epoch: 111 |train loss:1.4890 |train accuracy: 0.4412\n",
      "[1 0 0 0 0 0 1 2 0 0 0 2 0 1 1 0 0 0 0 1 1 1 1 1 0 1 0 0 1 2 1 0 1 1 1 3 0\n",
      " 1 1 1 1 1 2 0 0 1 0 2 1 0 0 0]\n"
     ]
    },
    {
     "data": {
      "application/vnd.jupyter.widget-view+json": {
       "model_id": "8069456cb9154127ac224def8e6690d1",
       "version_major": 2,
       "version_minor": 0
      },
      "text/plain": [
       "HBox(children=(FloatProgress(value=1.0, bar_style='info', max=1.0), HTML(value='')))"
      ]
     },
     "metadata": {},
     "output_type": "display_data"
    },
    {
     "name": "stdout",
     "output_type": "stream",
     "text": [
      "\n",
      "Epoch: 112 |train loss:1.4902 |train accuracy: 0.4412\n",
      "[0 0 3 0 1 0 1 0 1 2 0 2 1 0 3 0 0 0 2 0 3 0 2 0 0 0 3 0 0 1 0 1 3 2 3 0 1\n",
      " 0 3 0 1 0 1 0 0 2 0 0 0 3 3 1]\n"
     ]
    },
    {
     "data": {
      "application/vnd.jupyter.widget-view+json": {
       "model_id": "0b906f6df7d94cc3ab1a365613bc6150",
       "version_major": 2,
       "version_minor": 0
      },
      "text/plain": [
       "HBox(children=(FloatProgress(value=1.0, bar_style='info', max=1.0), HTML(value='')))"
      ]
     },
     "metadata": {},
     "output_type": "display_data"
    },
    {
     "name": "stdout",
     "output_type": "stream",
     "text": [
      "\n",
      "Epoch: 113 |train loss:1.4887 |train accuracy: 0.4407\n",
      "[3 1 1 0 1 1 3 1 0 0 0 3 0 0 0 0 0 1 2 3 0 0 0 0 0 0 0 0 1 0 0 1 0 0 1 3 1\n",
      " 0 2 0 0 2 1 1 0 1 3 0 0 2 0 0]\n"
     ]
    },
    {
     "data": {
      "application/vnd.jupyter.widget-view+json": {
       "model_id": "4939ac0b6be84587b0a4cb77203889ec",
       "version_major": 2,
       "version_minor": 0
      },
      "text/plain": [
       "HBox(children=(FloatProgress(value=1.0, bar_style='info', max=1.0), HTML(value='')))"
      ]
     },
     "metadata": {},
     "output_type": "display_data"
    },
    {
     "name": "stdout",
     "output_type": "stream",
     "text": [
      "\n",
      "Epoch: 114 |train loss:1.4882 |train accuracy: 0.4410\n",
      "[2 0 0 0 0 0 0 1 0 0 0 0 3 0 0 1 1 1 3 3 0 1 1 0 0 0 0 0 0 0 0 3 2 0 1 1 0\n",
      " 0 0 2 0 0 1 1 0 0 0 1 0 0 1 0]\n"
     ]
    },
    {
     "data": {
      "application/vnd.jupyter.widget-view+json": {
       "model_id": "ac02cc114eff4fd1a1afec14ec748694",
       "version_major": 2,
       "version_minor": 0
      },
      "text/plain": [
       "HBox(children=(FloatProgress(value=1.0, bar_style='info', max=1.0), HTML(value='')))"
      ]
     },
     "metadata": {},
     "output_type": "display_data"
    },
    {
     "name": "stdout",
     "output_type": "stream",
     "text": [
      "\n",
      "Epoch: 115 |train loss:1.4873 |train accuracy: 0.4436\n",
      "[1 0 1 0 0 2 0 0 0 0 0 1 1 0 0 1 0 0 0 1 0 1 0 0 3 0 0 0 0 0 2 2 0 0 1 2 1\n",
      " 1 1 1 2 0 0 0 2 0 2 3 0 1 1 1]\n"
     ]
    },
    {
     "data": {
      "application/vnd.jupyter.widget-view+json": {
       "model_id": "7d48829359434d9dab0b2994489b8d08",
       "version_major": 2,
       "version_minor": 0
      },
      "text/plain": [
       "HBox(children=(FloatProgress(value=1.0, bar_style='info', max=1.0), HTML(value='')))"
      ]
     },
     "metadata": {},
     "output_type": "display_data"
    },
    {
     "name": "stdout",
     "output_type": "stream",
     "text": [
      "\n",
      "Epoch: 116 |train loss:1.4885 |train accuracy: 0.4420\n",
      "[1 0 0 0 1 0 1 1 3 0 3 0 3 1 1 0 1 3 0 3 0 3 2 3 3 0 0 0 0 0 2 0 0 0 0 0 3\n",
      " 0 0 1 0 1 3 0 0 0 0 1 0 0 1 3]\n"
     ]
    },
    {
     "data": {
      "application/vnd.jupyter.widget-view+json": {
       "model_id": "da3a6257a8c04af78bd00c47c5bf76da",
       "version_major": 2,
       "version_minor": 0
      },
      "text/plain": [
       "HBox(children=(FloatProgress(value=1.0, bar_style='info', max=1.0), HTML(value='')))"
      ]
     },
     "metadata": {},
     "output_type": "display_data"
    },
    {
     "name": "stdout",
     "output_type": "stream",
     "text": [
      "\n",
      "Epoch: 117 |train loss:1.4874 |train accuracy: 0.4438\n",
      "[0 0 0 0 0 2 1 0 0 0 0 0 0 0 0 3 1 3 1 0 0 1 0 1 0 0 1 0 1 2 1 1 0 0 1 2 0\n",
      " 0 0 2 3 1 0 3 1 1 0 0 0 1 0 2]\n"
     ]
    },
    {
     "data": {
      "application/vnd.jupyter.widget-view+json": {
       "model_id": "d6f123d1c28f49d3ba3fc8b3aaaebe36",
       "version_major": 2,
       "version_minor": 0
      },
      "text/plain": [
       "HBox(children=(FloatProgress(value=1.0, bar_style='info', max=1.0), HTML(value='')))"
      ]
     },
     "metadata": {},
     "output_type": "display_data"
    },
    {
     "name": "stdout",
     "output_type": "stream",
     "text": [
      "\n",
      "Epoch: 118 |train loss:1.4881 |train accuracy: 0.4445\n",
      "[0 1 3 1 1 3 0 0 2 1 1 0 0 0 0 1 3 1 1 0 1 2 3 0 3 0 3 2 1 0 0 2 3 0 1 0 2\n",
      " 1 0 1 1 0 1 0 1 0 0 0 1 2 0 0]\n"
     ]
    },
    {
     "data": {
      "application/vnd.jupyter.widget-view+json": {
       "model_id": "6e43da87a851478a8560314540d1710d",
       "version_major": 2,
       "version_minor": 0
      },
      "text/plain": [
       "HBox(children=(FloatProgress(value=1.0, bar_style='info', max=1.0), HTML(value='')))"
      ]
     },
     "metadata": {},
     "output_type": "display_data"
    },
    {
     "name": "stdout",
     "output_type": "stream",
     "text": [
      "\n",
      "Epoch: 119 |train loss:1.4878 |train accuracy: 0.4419\n",
      "[0 2 0 2 2 0 0 0 0 0 2 0 0 1 0 1 0 0 0 1 0 0 0 2 0 0 0 0 1 2 1 0 1 2 0 1 0\n",
      " 0 0 3 1 0 0 0 2 0 0 0 0 0 0 0]\n"
     ]
    },
    {
     "data": {
      "application/vnd.jupyter.widget-view+json": {
       "model_id": "ea2db45d8618451a911c3dad9d18d3fc",
       "version_major": 2,
       "version_minor": 0
      },
      "text/plain": [
       "HBox(children=(FloatProgress(value=1.0, bar_style='info', max=1.0), HTML(value='')))"
      ]
     },
     "metadata": {},
     "output_type": "display_data"
    },
    {
     "name": "stdout",
     "output_type": "stream",
     "text": [
      "\n",
      "Epoch: 120 |train loss:1.4896 |train accuracy: 0.4404\n",
      "[0 1 0 0 2 0 0 1 3 2 0 0 0 0 2 0 2 1 0 1 2 3 0 1 0 3 1 0 0 0 1 3 1 1 3 0 0\n",
      " 0 1 1 0 3 0 1 1 2 0 1 1 0 0 0]\n"
     ]
    },
    {
     "data": {
      "application/vnd.jupyter.widget-view+json": {
       "model_id": "06cf856523894ac0a60d7e0cacaa94a8",
       "version_major": 2,
       "version_minor": 0
      },
      "text/plain": [
       "HBox(children=(FloatProgress(value=1.0, bar_style='info', max=1.0), HTML(value='')))"
      ]
     },
     "metadata": {},
     "output_type": "display_data"
    },
    {
     "name": "stdout",
     "output_type": "stream",
     "text": [
      "\n",
      "Epoch: 121 |train loss:1.4843 |train accuracy: 0.4458\n",
      "[0 0 3 2 1 0 0 1 1 0 3 0 1 0 0 2 0 0 0 1 1 0 0 0 3 0 0 0 1 1 0 0 1 2 3 0 0\n",
      " 0 0 1 0 3 0 0 0 0 0 3 0 1 1 0]\n"
     ]
    },
    {
     "data": {
      "application/vnd.jupyter.widget-view+json": {
       "model_id": "1e55e6bdb26c4bb887f135754041456c",
       "version_major": 2,
       "version_minor": 0
      },
      "text/plain": [
       "HBox(children=(FloatProgress(value=1.0, bar_style='info', max=1.0), HTML(value='')))"
      ]
     },
     "metadata": {},
     "output_type": "display_data"
    },
    {
     "name": "stdout",
     "output_type": "stream",
     "text": [
      "\n",
      "Epoch: 122 |train loss:1.4872 |train accuracy: 0.4431\n",
      "[1 1 0 0 0 1 2 0 0 0 0 0 3 1 1 3 0 0 2 1 0 2 2 3 1 0 2 0 0 0 1 0 0 1 0 0 2\n",
      " 0 0 0 1 1 1 0 2 1 1 0 0 1 0 1]\n"
     ]
    },
    {
     "data": {
      "application/vnd.jupyter.widget-view+json": {
       "model_id": "243963146beb4e16845b66829ce7d8d0",
       "version_major": 2,
       "version_minor": 0
      },
      "text/plain": [
       "HBox(children=(FloatProgress(value=1.0, bar_style='info', max=1.0), HTML(value='')))"
      ]
     },
     "metadata": {},
     "output_type": "display_data"
    },
    {
     "name": "stdout",
     "output_type": "stream",
     "text": [
      "\n",
      "Epoch: 123 |train loss:1.4913 |train accuracy: 0.4400\n",
      "[0 2 2 1 1 2 0 0 1 1 0 0 1 0 3 1 0 1 1 0 1 1 0 0 3 0 0 2 2 0 0 0 0 1 1 0 0\n",
      " 2 1 0 0 0 1 0 1 2 0 0 2 1 0 1]\n"
     ]
    },
    {
     "data": {
      "application/vnd.jupyter.widget-view+json": {
       "model_id": "776253ff185a4e4f84cc54bad64c4c6d",
       "version_major": 2,
       "version_minor": 0
      },
      "text/plain": [
       "HBox(children=(FloatProgress(value=1.0, bar_style='info', max=1.0), HTML(value='')))"
      ]
     },
     "metadata": {},
     "output_type": "display_data"
    },
    {
     "name": "stdout",
     "output_type": "stream",
     "text": [
      "\n",
      "Epoch: 124 |train loss:1.4883 |train accuracy: 0.4420\n",
      "[3 0 2 2 3 0 0 1 0 1 0 0 0 2 0 0 1 0 1 0 1 1 1 0 0 0 0 1 2 1 1 0 2 0 0 1 0\n",
      " 0 0 0 2 0 1 1 0 3 0 1 0 3 1 1]\n"
     ]
    },
    {
     "data": {
      "application/vnd.jupyter.widget-view+json": {
       "model_id": "b735f30ff564463c9aadf62214e8043e",
       "version_major": 2,
       "version_minor": 0
      },
      "text/plain": [
       "HBox(children=(FloatProgress(value=1.0, bar_style='info', max=1.0), HTML(value='')))"
      ]
     },
     "metadata": {},
     "output_type": "display_data"
    },
    {
     "name": "stdout",
     "output_type": "stream",
     "text": [
      "\n",
      "Epoch: 125 |train loss:1.4900 |train accuracy: 0.4408\n",
      "[1 0 1 0 0 2 3 0 2 0 2 1 1 0 1 0 3 1 2 0 1 0 0 2 3 2 1 0 0 0 1 1 0 1 0 0 1\n",
      " 0 0 1 0 1 0 0 1 1 0 0 0 0 2 2]\n"
     ]
    },
    {
     "data": {
      "application/vnd.jupyter.widget-view+json": {
       "model_id": "18b28d3409d641f48cd74d14eea71f7e",
       "version_major": 2,
       "version_minor": 0
      },
      "text/plain": [
       "HBox(children=(FloatProgress(value=1.0, bar_style='info', max=1.0), HTML(value='')))"
      ]
     },
     "metadata": {},
     "output_type": "display_data"
    },
    {
     "name": "stdout",
     "output_type": "stream",
     "text": [
      "\n",
      "Epoch: 126 |train loss:1.4876 |train accuracy: 0.4414\n",
      "[1 0 0 2 2 1 0 0 0 0 0 1 0 0 3 0 0 1 0 0 1 0 1 1 0 0 0 0 0 1 0 2 1 2 0 1 0\n",
      " 2 1 1 0 1 0 1 0 0 1 1 3 0 0 0]\n"
     ]
    },
    {
     "data": {
      "application/vnd.jupyter.widget-view+json": {
       "model_id": "cf6a9977f8da4ad0b6dbb15d48ed2c8e",
       "version_major": 2,
       "version_minor": 0
      },
      "text/plain": [
       "HBox(children=(FloatProgress(value=1.0, bar_style='info', max=1.0), HTML(value='')))"
      ]
     },
     "metadata": {},
     "output_type": "display_data"
    },
    {
     "name": "stdout",
     "output_type": "stream",
     "text": [
      "\n",
      "Epoch: 127 |train loss:1.4897 |train accuracy: 0.4403\n",
      "[1 2 0 0 0 1 0 0 1 0 3 0 0 0 1 0 0 0 3 2 0 1 1 1 0 0 2 1 3 0 1 3 0 2 0 3 0\n",
      " 0 0 1 0 1 2 0 1 3 0 0 1 0 3 0]\n"
     ]
    },
    {
     "data": {
      "application/vnd.jupyter.widget-view+json": {
       "model_id": "54f99c12d02a498a8a4ee4baf84caf90",
       "version_major": 2,
       "version_minor": 0
      },
      "text/plain": [
       "HBox(children=(FloatProgress(value=1.0, bar_style='info', max=1.0), HTML(value='')))"
      ]
     },
     "metadata": {},
     "output_type": "display_data"
    },
    {
     "name": "stdout",
     "output_type": "stream",
     "text": [
      "\n",
      "Epoch: 128 |train loss:1.4897 |train accuracy: 0.4419\n",
      "[1 1 0 0 1 0 3 0 0 0 0 3 2 1 2 1 2 1 2 1 1 2 2 1 0 1 2 0 0 0 0 1 1 0 0 0 0\n",
      " 3 1 0 0 3 0 1 0 0 1 0 0 0 1 0]\n"
     ]
    },
    {
     "data": {
      "application/vnd.jupyter.widget-view+json": {
       "model_id": "ff1c4c23f65d4bc1995f8178cdb30597",
       "version_major": 2,
       "version_minor": 0
      },
      "text/plain": [
       "HBox(children=(FloatProgress(value=1.0, bar_style='info', max=1.0), HTML(value='')))"
      ]
     },
     "metadata": {},
     "output_type": "display_data"
    },
    {
     "name": "stdout",
     "output_type": "stream",
     "text": [
      "\n",
      "Epoch: 129 |train loss:1.4882 |train accuracy: 0.4422\n",
      "[1 3 3 0 0 0 1 2 0 1 1 1 0 0 3 1 0 0 3 1 1 0 0 2 1 0 0 0 1 0 0 0 3 0 0 2 0\n",
      " 0 0 1 0 2 0 2 0 1 0 0 1 0 0 0]\n"
     ]
    },
    {
     "data": {
      "application/vnd.jupyter.widget-view+json": {
       "model_id": "fd1e4eb96a514f3189695693417047ee",
       "version_major": 2,
       "version_minor": 0
      },
      "text/plain": [
       "HBox(children=(FloatProgress(value=1.0, bar_style='info', max=1.0), HTML(value='')))"
      ]
     },
     "metadata": {},
     "output_type": "display_data"
    },
    {
     "name": "stdout",
     "output_type": "stream",
     "text": [
      "\n",
      "Epoch: 130 |train loss:1.4873 |train accuracy: 0.4423\n",
      "[1 0 1 0 0 0 0 1 2 1 1 0 0 1 0 1 1 0 0 0 2 2 0 3 0 1 0 1 0 2 1 0 1 1 0 0 0\n",
      " 0 2 1 1 0 0 2 1 0 0 1 0 1 2 1]\n"
     ]
    },
    {
     "data": {
      "application/vnd.jupyter.widget-view+json": {
       "model_id": "2ef3c7d5db8f483e8aee661054b92f1c",
       "version_major": 2,
       "version_minor": 0
      },
      "text/plain": [
       "HBox(children=(FloatProgress(value=1.0, bar_style='info', max=1.0), HTML(value='')))"
      ]
     },
     "metadata": {},
     "output_type": "display_data"
    },
    {
     "name": "stdout",
     "output_type": "stream",
     "text": [
      "\n",
      "Epoch: 131 |train loss:1.4907 |train accuracy: 0.4403\n",
      "[3 2 0 1 2 0 2 1 0 2 0 0 0 0 0 3 0 1 1 2 3 1 1 2 2 0 2 2 0 1 1 3 0 0 1 2 0\n",
      " 3 3 0 1 2 0 0 1 1 1 3 0 0 0 2]\n"
     ]
    },
    {
     "data": {
      "application/vnd.jupyter.widget-view+json": {
       "model_id": "9ae509e54ff14b138032465299cb02c7",
       "version_major": 2,
       "version_minor": 0
      },
      "text/plain": [
       "HBox(children=(FloatProgress(value=1.0, bar_style='info', max=1.0), HTML(value='')))"
      ]
     },
     "metadata": {},
     "output_type": "display_data"
    },
    {
     "name": "stdout",
     "output_type": "stream",
     "text": [
      "\n",
      "Epoch: 132 |train loss:1.4908 |train accuracy: 0.4411\n",
      "[0 1 0 0 1 0 0 0 0 1 1 2 1 2 1 0 2 0 0 0 0 1 3 1 1 1 2 1 0 0 1 1 0 2 0 0 0\n",
      " 2 1 0 0 0 2 0 2 1 2 1 1 0 0 0]\n"
     ]
    },
    {
     "data": {
      "application/vnd.jupyter.widget-view+json": {
       "model_id": "f4d8cef1315c4d2aa33f85cc367f8a80",
       "version_major": 2,
       "version_minor": 0
      },
      "text/plain": [
       "HBox(children=(FloatProgress(value=1.0, bar_style='info', max=1.0), HTML(value='')))"
      ]
     },
     "metadata": {},
     "output_type": "display_data"
    },
    {
     "name": "stdout",
     "output_type": "stream",
     "text": [
      "\n",
      "Epoch: 133 |train loss:1.4896 |train accuracy: 0.4395\n",
      "[1 1 0 0 0 2 0 2 1 0 1 1 0 0 0 1 2 1 2 0 0 0 0 0 0 0 0 0 0 1 2 0 3 0 1 0 2\n",
      " 1 0 2 3 1 1 0 1 1 2 2 2 1 0 3]\n"
     ]
    },
    {
     "data": {
      "application/vnd.jupyter.widget-view+json": {
       "model_id": "0ade8465ada345a0baef5328f1f81658",
       "version_major": 2,
       "version_minor": 0
      },
      "text/plain": [
       "HBox(children=(FloatProgress(value=1.0, bar_style='info', max=1.0), HTML(value='')))"
      ]
     },
     "metadata": {},
     "output_type": "display_data"
    },
    {
     "name": "stdout",
     "output_type": "stream",
     "text": [
      "\n",
      "Epoch: 134 |train loss:1.4867 |train accuracy: 0.4456\n",
      "[2 1 0 2 0 0 1 3 1 0 1 0 0 1 0 1 0 0 1 2 0 1 0 0 3 1 1 1 0 2 2 0 0 0 1 0 2\n",
      " 0 0 1 0 2 2 0 2 0 0 1 1 1 3 0]\n"
     ]
    },
    {
     "data": {
      "application/vnd.jupyter.widget-view+json": {
       "model_id": "9751a4c57f244a129071de42a7a08aa5",
       "version_major": 2,
       "version_minor": 0
      },
      "text/plain": [
       "HBox(children=(FloatProgress(value=1.0, bar_style='info', max=1.0), HTML(value='')))"
      ]
     },
     "metadata": {},
     "output_type": "display_data"
    },
    {
     "name": "stdout",
     "output_type": "stream",
     "text": [
      "\n",
      "Epoch: 135 |train loss:1.4866 |train accuracy: 0.4448\n",
      "[0 3 2 1 0 0 0 1 0 0 0 0 0 2 2 0 0 1 1 0 1 2 3 0 1 0 0 0 1 0 0 0 1 0 0 2 2\n",
      " 0 1 1 2 0 0 0 2 1 1 3 0 0 1 1]\n"
     ]
    },
    {
     "data": {
      "application/vnd.jupyter.widget-view+json": {
       "model_id": "2353490e533f43ebbbf6ac71807f7d3d",
       "version_major": 2,
       "version_minor": 0
      },
      "text/plain": [
       "HBox(children=(FloatProgress(value=1.0, bar_style='info', max=1.0), HTML(value='')))"
      ]
     },
     "metadata": {},
     "output_type": "display_data"
    },
    {
     "name": "stdout",
     "output_type": "stream",
     "text": [
      "\n",
      "Epoch: 136 |train loss:1.4901 |train accuracy: 0.4415\n",
      "[2 1 1 0 0 0 0 1 0 0 1 3 0 0 2 1 3 0 2 2 2 0 0 0 0 1 3 0 0 2 0 1 0 3 0 1 0\n",
      " 0 1 3 2 2 0 2 1 2 1 0 3 3 1 1]\n"
     ]
    },
    {
     "data": {
      "application/vnd.jupyter.widget-view+json": {
       "model_id": "891bb8eba1de4c13aaeb9f02076d1387",
       "version_major": 2,
       "version_minor": 0
      },
      "text/plain": [
       "HBox(children=(FloatProgress(value=1.0, bar_style='info', max=1.0), HTML(value='')))"
      ]
     },
     "metadata": {},
     "output_type": "display_data"
    },
    {
     "name": "stdout",
     "output_type": "stream",
     "text": [
      "\n",
      "Epoch: 137 |train loss:1.4905 |train accuracy: 0.4404\n",
      "[2 0 1 0 2 1 0 3 0 3 1 3 1 0 0 1 3 1 1 1 1 0 0 0 1 0 1 1 0 1 0 1 1 0 0 0 1\n",
      " 1 0 0 1 3 0 1 1 1 1 0 0 1 0 1]\n"
     ]
    },
    {
     "data": {
      "application/vnd.jupyter.widget-view+json": {
       "model_id": "c241425a12a644ba9ef2fa51f4b3745e",
       "version_major": 2,
       "version_minor": 0
      },
      "text/plain": [
       "HBox(children=(FloatProgress(value=1.0, bar_style='info', max=1.0), HTML(value='')))"
      ]
     },
     "metadata": {},
     "output_type": "display_data"
    },
    {
     "name": "stdout",
     "output_type": "stream",
     "text": [
      "\n",
      "Epoch: 138 |train loss:1.4900 |train accuracy: 0.4437\n",
      "[2 1 0 0 0 0 2 0 1 1 0 3 2 1 0 2 0 0 1 2 1 1 0 0 3 0 0 0 1 0 1 1 1 0 1 1 1\n",
      " 0 2 0 0 0 0 0 0 0 0 3 0 2 2 1]\n"
     ]
    },
    {
     "data": {
      "application/vnd.jupyter.widget-view+json": {
       "model_id": "4dec9fcf50bc4fe9b1adeb99bb72898b",
       "version_major": 2,
       "version_minor": 0
      },
      "text/plain": [
       "HBox(children=(FloatProgress(value=1.0, bar_style='info', max=1.0), HTML(value='')))"
      ]
     },
     "metadata": {},
     "output_type": "display_data"
    },
    {
     "name": "stdout",
     "output_type": "stream",
     "text": [
      "\n",
      "Epoch: 139 |train loss:1.4905 |train accuracy: 0.4415\n",
      "[0 3 0 0 0 1 1 0 1 2 2 0 0 1 1 0 3 1 0 3 3 2 0 0 2 1 0 0 1 1 0 0 0 0 2 1 2\n",
      " 0 0 0 1 1 1 1 1 0 0 0 1 1 1 0]\n"
     ]
    },
    {
     "data": {
      "application/vnd.jupyter.widget-view+json": {
       "model_id": "a27f15116b724ad5af66200c40d92aef",
       "version_major": 2,
       "version_minor": 0
      },
      "text/plain": [
       "HBox(children=(FloatProgress(value=1.0, bar_style='info', max=1.0), HTML(value='')))"
      ]
     },
     "metadata": {},
     "output_type": "display_data"
    },
    {
     "name": "stdout",
     "output_type": "stream",
     "text": [
      "\n",
      "Epoch: 140 |train loss:1.4899 |train accuracy: 0.4414\n",
      "[0 1 0 0 2 1 0 2 0 1 0 1 1 1 0 2 0 3 2 2 0 0 2 2 0 1 2 3 0 2 0 0 1 2 0 0 1\n",
      " 1 0 0 0 2 0 0 3 3 1 0 2 1 0 0]\n"
     ]
    },
    {
     "data": {
      "application/vnd.jupyter.widget-view+json": {
       "model_id": "2b6ccde7e2aa4222af9cff21b7e9cdba",
       "version_major": 2,
       "version_minor": 0
      },
      "text/plain": [
       "HBox(children=(FloatProgress(value=1.0, bar_style='info', max=1.0), HTML(value='')))"
      ]
     },
     "metadata": {},
     "output_type": "display_data"
    },
    {
     "name": "stdout",
     "output_type": "stream",
     "text": [
      "\n",
      "Epoch: 141 |train loss:1.4834 |train accuracy: 0.4454\n",
      "[0 0 0 1 0 1 1 1 0 1 0 0 2 1 2 0 1 0 3 0 1 2 0 1 1 1 3 0 0 0 0 1 3 1 0 0 1\n",
      " 0 0 2 2 2 0 1 1 0 0 1 1 1 3 0]\n"
     ]
    },
    {
     "data": {
      "application/vnd.jupyter.widget-view+json": {
       "model_id": "af99d5a2943d404b90fcc138b0a56961",
       "version_major": 2,
       "version_minor": 0
      },
      "text/plain": [
       "HBox(children=(FloatProgress(value=1.0, bar_style='info', max=1.0), HTML(value='')))"
      ]
     },
     "metadata": {},
     "output_type": "display_data"
    },
    {
     "name": "stdout",
     "output_type": "stream",
     "text": [
      "\n",
      "Epoch: 142 |train loss:1.4865 |train accuracy: 0.4438\n",
      "[1 0 1 1 0 0 0 1 1 2 1 3 0 1 0 0 0 3 0 0 0 1 0 2 3 0 3 0 0 3 2 0 2 0 3 0 1\n",
      " 0 0 1 0 2 0 3 2 0 0 0 0 0 0 0]\n"
     ]
    },
    {
     "data": {
      "application/vnd.jupyter.widget-view+json": {
       "model_id": "9f34fa47e7254f2e94af40be205a0c35",
       "version_major": 2,
       "version_minor": 0
      },
      "text/plain": [
       "HBox(children=(FloatProgress(value=1.0, bar_style='info', max=1.0), HTML(value='')))"
      ]
     },
     "metadata": {},
     "output_type": "display_data"
    },
    {
     "name": "stdout",
     "output_type": "stream",
     "text": [
      "\n",
      "Epoch: 143 |train loss:1.4876 |train accuracy: 0.4430\n",
      "[0 2 0 1 0 1 1 0 0 0 1 3 1 0 0 0 2 0 0 0 3 0 0 0 1 1 1 1 0 1 1 1 1 3 0 0 1\n",
      " 0 3 0 2 0 0 1 1 0 0 1 0 2 0 1]\n"
     ]
    },
    {
     "data": {
      "application/vnd.jupyter.widget-view+json": {
       "model_id": "8616887dbb674d23b7dc85d3f993a1a6",
       "version_major": 2,
       "version_minor": 0
      },
      "text/plain": [
       "HBox(children=(FloatProgress(value=1.0, bar_style='info', max=1.0), HTML(value='')))"
      ]
     },
     "metadata": {},
     "output_type": "display_data"
    },
    {
     "name": "stdout",
     "output_type": "stream",
     "text": [
      "\n",
      "Epoch: 144 |train loss:1.4883 |train accuracy: 0.4435\n",
      "[0 0 2 0 3 1 0 0 0 0 0 1 0 1 0 1 1 1 0 0 1 1 0 1 1 2 2 2 0 1 3 0 2 0 0 0 1\n",
      " 0 0 0 3 0 0 0 2 0 0 1 1 0 0 0]\n"
     ]
    },
    {
     "data": {
      "application/vnd.jupyter.widget-view+json": {
       "model_id": "46ac8470c1b1421cbf64e5ab013eaa52",
       "version_major": 2,
       "version_minor": 0
      },
      "text/plain": [
       "HBox(children=(FloatProgress(value=1.0, bar_style='info', max=1.0), HTML(value='')))"
      ]
     },
     "metadata": {},
     "output_type": "display_data"
    },
    {
     "name": "stdout",
     "output_type": "stream",
     "text": [
      "\n",
      "Epoch: 145 |train loss:1.4860 |train accuracy: 0.4438\n",
      "[1 0 1 2 0 0 2 3 1 1 1 0 2 2 0 0 0 0 1 0 1 0 0 1 0 2 0 0 1 1 0 0 0 0 2 0 0\n",
      " 2 0 2 0 1 1 0 0 0 2 0 0 3 0 1]\n"
     ]
    },
    {
     "data": {
      "application/vnd.jupyter.widget-view+json": {
       "model_id": "4ae8e3c55cdf4d86a11c749af21797d1",
       "version_major": 2,
       "version_minor": 0
      },
      "text/plain": [
       "HBox(children=(FloatProgress(value=1.0, bar_style='info', max=1.0), HTML(value='')))"
      ]
     },
     "metadata": {},
     "output_type": "display_data"
    },
    {
     "name": "stdout",
     "output_type": "stream",
     "text": [
      "\n",
      "Epoch: 146 |train loss:1.4856 |train accuracy: 0.4452\n",
      "[2 1 0 1 0 0 1 1 0 1 0 0 1 0 0 2 0 0 0 0 1 1 1 0 0 1 1 3 0 0 0 3 1 1 0 0 1\n",
      " 1 0 1 2 0 1 2 0 1 1 2 1 0 0 2]\n"
     ]
    },
    {
     "data": {
      "application/vnd.jupyter.widget-view+json": {
       "model_id": "e06fe25ff0074780a96e997a7375e957",
       "version_major": 2,
       "version_minor": 0
      },
      "text/plain": [
       "HBox(children=(FloatProgress(value=1.0, bar_style='info', max=1.0), HTML(value='')))"
      ]
     },
     "metadata": {},
     "output_type": "display_data"
    },
    {
     "name": "stdout",
     "output_type": "stream",
     "text": [
      "\n",
      "Epoch: 147 |train loss:1.4930 |train accuracy: 0.4380\n",
      "[0 0 1 0 0 3 0 3 1 0 0 2 1 3 0 0 0 0 0 3 1 0 0 2 1 3 0 0 0 0 1 0 1 1 1 0 0\n",
      " 0 0 0 0 0 0 2 0 0 0 0 0 1 3 2]\n"
     ]
    },
    {
     "data": {
      "application/vnd.jupyter.widget-view+json": {
       "model_id": "ceef32289edd4bde861e67fd1e3add44",
       "version_major": 2,
       "version_minor": 0
      },
      "text/plain": [
       "HBox(children=(FloatProgress(value=1.0, bar_style='info', max=1.0), HTML(value='')))"
      ]
     },
     "metadata": {},
     "output_type": "display_data"
    },
    {
     "name": "stdout",
     "output_type": "stream",
     "text": [
      "\n",
      "Epoch: 148 |train loss:1.4864 |train accuracy: 0.4427\n",
      "[3 0 0 1 1 0 0 0 2 0 2 1 2 0 0 0 1 1 0 0 2 0 1 0 0 0 0 1 2 0 0 0 0 0 1 0 0\n",
      " 0 1 0 2 0 1 3 0 0 0 0 0 0 0 2]\n"
     ]
    },
    {
     "data": {
      "application/vnd.jupyter.widget-view+json": {
       "model_id": "f90e163fe29b4a03ad0433092a6d6022",
       "version_major": 2,
       "version_minor": 0
      },
      "text/plain": [
       "HBox(children=(FloatProgress(value=1.0, bar_style='info', max=1.0), HTML(value='')))"
      ]
     },
     "metadata": {},
     "output_type": "display_data"
    },
    {
     "name": "stdout",
     "output_type": "stream",
     "text": [
      "\n",
      "Epoch: 149 |train loss:1.4843 |train accuracy: 0.4463\n",
      "[0 1 0 1 1 1 1 0 0 0 0 0 2 0 1 0 3 1 3 0 1 0 1 2 2 0 1 1 3 0 3 0 0 0 0 1 0\n",
      " 0 0 0 2 1 1 0 0 0 1 0 2 1 0 0]\n"
     ]
    },
    {
     "data": {
      "application/vnd.jupyter.widget-view+json": {
       "model_id": "ce6692b2e22e42d78037c1a9320fc4b2",
       "version_major": 2,
       "version_minor": 0
      },
      "text/plain": [
       "HBox(children=(FloatProgress(value=1.0, bar_style='info', max=1.0), HTML(value='')))"
      ]
     },
     "metadata": {},
     "output_type": "display_data"
    },
    {
     "name": "stdout",
     "output_type": "stream",
     "text": [
      "\n",
      "Epoch: 150 |train loss:1.4895 |train accuracy: 0.4414\n",
      "[0 0 1 2 1 0 0 3 3 2 1 0 0 3 0 0 1 0 1 0 1 0 0 1 0 0 1 0 1 3 0 0 1 0 2 0 0\n",
      " 2 2 0 1 0 2 1 1 1 0 1 3 0 0 1]\n"
     ]
    },
    {
     "data": {
      "application/vnd.jupyter.widget-view+json": {
       "model_id": "3c8923c8abcf4c3ea1736702622a2844",
       "version_major": 2,
       "version_minor": 0
      },
      "text/plain": [
       "HBox(children=(FloatProgress(value=1.0, bar_style='info', max=1.0), HTML(value='')))"
      ]
     },
     "metadata": {},
     "output_type": "display_data"
    },
    {
     "name": "stdout",
     "output_type": "stream",
     "text": [
      "\n",
      "Epoch: 151 |train loss:1.4886 |train accuracy: 0.4423\n",
      "[2 3 0 3 2 2 0 0 3 1 1 1 3 0 0 0 1 0 0 0 0 3 1 1 0 1 2 0 0 0 0 2 1 0 1 0 2\n",
      " 0 0 0 0 0 2 2 0 0 0 0 0 0 0 0]\n"
     ]
    },
    {
     "data": {
      "application/vnd.jupyter.widget-view+json": {
       "model_id": "6318aec51d994c779a5b5f0f04696b6c",
       "version_major": 2,
       "version_minor": 0
      },
      "text/plain": [
       "HBox(children=(FloatProgress(value=1.0, bar_style='info', max=1.0), HTML(value='')))"
      ]
     },
     "metadata": {},
     "output_type": "display_data"
    },
    {
     "name": "stdout",
     "output_type": "stream",
     "text": [
      "\n",
      "Epoch: 152 |train loss:1.4905 |train accuracy: 0.4395\n",
      "[2 1 2 1 0 1 1 0 0 1 0 1 1 0 0 0 1 1 0 0 0 0 2 1 1 2 0 0 0 0 0 0 3 2 1 3 1\n",
      " 1 0 2 0 1 0 1 0 0 0 0 0 0 1 1]\n"
     ]
    },
    {
     "data": {
      "application/vnd.jupyter.widget-view+json": {
       "model_id": "7da9e93b33a74247a001a81a513ba4c1",
       "version_major": 2,
       "version_minor": 0
      },
      "text/plain": [
       "HBox(children=(FloatProgress(value=1.0, bar_style='info', max=1.0), HTML(value='')))"
      ]
     },
     "metadata": {},
     "output_type": "display_data"
    },
    {
     "name": "stdout",
     "output_type": "stream",
     "text": [
      "\n",
      "Epoch: 153 |train loss:1.4892 |train accuracy: 0.4435\n",
      "[1 0 1 0 1 2 0 1 0 0 1 1 1 0 0 1 0 2 1 0 2 1 0 0 1 0 2 1 0 1 0 1 3 2 3 1 0\n",
      " 0 0 0 2 3 2 2 0 0 1 1 1 0 0 0]\n"
     ]
    },
    {
     "data": {
      "application/vnd.jupyter.widget-view+json": {
       "model_id": "590907e977b84ca5b3d9875e375666a6",
       "version_major": 2,
       "version_minor": 0
      },
      "text/plain": [
       "HBox(children=(FloatProgress(value=1.0, bar_style='info', max=1.0), HTML(value='')))"
      ]
     },
     "metadata": {},
     "output_type": "display_data"
    },
    {
     "name": "stdout",
     "output_type": "stream",
     "text": [
      "\n",
      "Epoch: 154 |train loss:1.4879 |train accuracy: 0.4429\n",
      "[0 0 2 1 3 1 0 1 0 0 0 0 2 0 0 2 1 1 0 2 1 3 1 2 0 3 1 2 2 0 1 1 0 1 0 1 2\n",
      " 1 3 0 2 0 1 1 1 0 1 0 2 1 2 0]\n"
     ]
    },
    {
     "data": {
      "application/vnd.jupyter.widget-view+json": {
       "model_id": "ace9697b8e3947aaa04a9a9913fd9b1a",
       "version_major": 2,
       "version_minor": 0
      },
      "text/plain": [
       "HBox(children=(FloatProgress(value=1.0, bar_style='info', max=1.0), HTML(value='')))"
      ]
     },
     "metadata": {},
     "output_type": "display_data"
    },
    {
     "name": "stdout",
     "output_type": "stream",
     "text": [
      "\n",
      "Epoch: 155 |train loss:1.4904 |train accuracy: 0.4415\n",
      "[1 0 2 0 3 2 0 1 1 0 1 0 0 0 0 1 1 1 0 0 2 0 0 1 0 0 1 0 1 1 1 0 0 0 0 1 0\n",
      " 2 1 2 0 0 1 2 3 0 0 2 0 0 2 2]\n"
     ]
    },
    {
     "data": {
      "application/vnd.jupyter.widget-view+json": {
       "model_id": "a48b5d9e48e14aff933d153df1d37f35",
       "version_major": 2,
       "version_minor": 0
      },
      "text/plain": [
       "HBox(children=(FloatProgress(value=1.0, bar_style='info', max=1.0), HTML(value='')))"
      ]
     },
     "metadata": {},
     "output_type": "display_data"
    },
    {
     "name": "stdout",
     "output_type": "stream",
     "text": [
      "\n",
      "Epoch: 156 |train loss:1.4883 |train accuracy: 0.4396\n",
      "[1 0 0 0 2 0 0 1 2 0 1 2 1 0 3 2 0 0 0 0 2 1 0 0 0 2 0 1 0 3 2 0 1 0 2 3 1\n",
      " 0 0 1 0 0 0 0 0 2 0 1 0 2 1 1]\n"
     ]
    },
    {
     "data": {
      "application/vnd.jupyter.widget-view+json": {
       "model_id": "9db5ab30385b4fa083d8e9a49b233d67",
       "version_major": 2,
       "version_minor": 0
      },
      "text/plain": [
       "HBox(children=(FloatProgress(value=1.0, bar_style='info', max=1.0), HTML(value='')))"
      ]
     },
     "metadata": {},
     "output_type": "display_data"
    },
    {
     "name": "stdout",
     "output_type": "stream",
     "text": [
      "\n",
      "Epoch: 157 |train loss:1.4910 |train accuracy: 0.4422\n",
      "[1 1 2 0 0 1 0 0 1 1 0 3 2 1 2 3 2 1 0 1 0 1 3 1 1 2 0 3 1 0 2 0 3 0 3 3 0\n",
      " 0 0 1 2 2 0 2 0 2 3 0 0 0 0 0]\n"
     ]
    },
    {
     "data": {
      "application/vnd.jupyter.widget-view+json": {
       "model_id": "9d9957eeaf2242039d2c6050cdda23b3",
       "version_major": 2,
       "version_minor": 0
      },
      "text/plain": [
       "HBox(children=(FloatProgress(value=1.0, bar_style='info', max=1.0), HTML(value='')))"
      ]
     },
     "metadata": {},
     "output_type": "display_data"
    },
    {
     "name": "stdout",
     "output_type": "stream",
     "text": [
      "\n",
      "Epoch: 158 |train loss:1.4889 |train accuracy: 0.4419\n",
      "[0 2 0 2 1 1 0 2 1 1 2 0 1 2 1 3 0 2 3 0 0 0 0 0 0 1 1 0 3 0 0 3 1 0 1 0 0\n",
      " 1 1 0 2 0 2 2 0 1 0 0 1 2 0 1]\n"
     ]
    },
    {
     "data": {
      "application/vnd.jupyter.widget-view+json": {
       "model_id": "6e43869aa46c4eb898ceb13bb6456e70",
       "version_major": 2,
       "version_minor": 0
      },
      "text/plain": [
       "HBox(children=(FloatProgress(value=1.0, bar_style='info', max=1.0), HTML(value='')))"
      ]
     },
     "metadata": {},
     "output_type": "display_data"
    },
    {
     "name": "stdout",
     "output_type": "stream",
     "text": [
      "\n",
      "Epoch: 159 |train loss:1.4904 |train accuracy: 0.4404\n",
      "[0 0 0 0 0 1 0 0 1 2 1 2 1 1 3 0 1 3 0 0 0 0 1 1 2 1 0 0 0 2 0 1 3 1 0 0 1\n",
      " 2 0 0 0 2 1 0 0 0 0 2 1 0 0 1]\n"
     ]
    },
    {
     "data": {
      "application/vnd.jupyter.widget-view+json": {
       "model_id": "7bac1c721d9c46adbbd9663edd69aa4f",
       "version_major": 2,
       "version_minor": 0
      },
      "text/plain": [
       "HBox(children=(FloatProgress(value=1.0, bar_style='info', max=1.0), HTML(value='')))"
      ]
     },
     "metadata": {},
     "output_type": "display_data"
    },
    {
     "name": "stdout",
     "output_type": "stream",
     "text": [
      "\n",
      "Epoch: 160 |train loss:1.4899 |train accuracy: 0.4408\n",
      "[0 0 0 0 3 2 0 2 0 2 1 0 1 0 1 0 0 0 0 1 1 0 2 2 1 0 1 1 3 1 0 0 1 1 1 0 0\n",
      " 0 2 0 3 0 1 0 0 1 1 0 1 2 3 1]\n"
     ]
    },
    {
     "data": {
      "application/vnd.jupyter.widget-view+json": {
       "model_id": "f8e21824291e4f2798c8d94ae557287e",
       "version_major": 2,
       "version_minor": 0
      },
      "text/plain": [
       "HBox(children=(FloatProgress(value=1.0, bar_style='info', max=1.0), HTML(value='')))"
      ]
     },
     "metadata": {},
     "output_type": "display_data"
    },
    {
     "name": "stdout",
     "output_type": "stream",
     "text": [
      "\n",
      "Epoch: 161 |train loss:1.4882 |train accuracy: 0.4441\n",
      "[3 0 0 0 0 3 0 3 2 2 2 2 1 1 0 0 1 0 0 1 2 0 0 0 0 1 0 0 1 0 1 0 0 2 0 0 0\n",
      " 0 2 1 0 1 0 0 1 1 0 0 0 1 0 1]\n"
     ]
    },
    {
     "data": {
      "application/vnd.jupyter.widget-view+json": {
       "model_id": "32c08de14d494175bebcc575691a2e4d",
       "version_major": 2,
       "version_minor": 0
      },
      "text/plain": [
       "HBox(children=(FloatProgress(value=1.0, bar_style='info', max=1.0), HTML(value='')))"
      ]
     },
     "metadata": {},
     "output_type": "display_data"
    },
    {
     "name": "stdout",
     "output_type": "stream",
     "text": [
      "\n",
      "Epoch: 162 |train loss:1.4902 |train accuracy: 0.4409\n",
      "[2 1 1 0 1 2 1 0 1 1 0 0 0 1 0 1 1 0 0 0 0 1 0 0 1 1 0 1 0 1 0 0 3 1 0 0 0\n",
      " 0 0 2 0 0 1 3 1 0 0 0 0 1 1 0]\n"
     ]
    },
    {
     "data": {
      "application/vnd.jupyter.widget-view+json": {
       "model_id": "4427933d4db549aa9923485f0c66a1a7",
       "version_major": 2,
       "version_minor": 0
      },
      "text/plain": [
       "HBox(children=(FloatProgress(value=1.0, bar_style='info', max=1.0), HTML(value='')))"
      ]
     },
     "metadata": {},
     "output_type": "display_data"
    },
    {
     "name": "stdout",
     "output_type": "stream",
     "text": [
      "\n",
      "Epoch: 163 |train loss:1.4912 |train accuracy: 0.4404\n",
      "[1 0 1 0 2 2 1 0 0 0 0 2 3 1 1 0 1 2 3 1 0 2 1 0 0 0 2 0 0 0 0 1 0 0 1 3 2\n",
      " 0 1 0 1 0 2 2 1 1 1 2 2 1 1 0]\n"
     ]
    },
    {
     "data": {
      "application/vnd.jupyter.widget-view+json": {
       "model_id": "24def186c83a40329ad2db134ff27732",
       "version_major": 2,
       "version_minor": 0
      },
      "text/plain": [
       "HBox(children=(FloatProgress(value=1.0, bar_style='info', max=1.0), HTML(value='')))"
      ]
     },
     "metadata": {},
     "output_type": "display_data"
    },
    {
     "name": "stdout",
     "output_type": "stream",
     "text": [
      "\n",
      "Epoch: 164 |train loss:1.4879 |train accuracy: 0.4454\n",
      "[1 0 1 0 0 2 0 2 2 0 0 2 1 3 0 1 0 0 1 3 2 0 0 3 0 0 1 0 0 0 1 1 3 0 1 0 0\n",
      " 0 2 0 0 0 1 2 3 0 2 0 0 1 1 0]\n"
     ]
    },
    {
     "data": {
      "application/vnd.jupyter.widget-view+json": {
       "model_id": "8e72f2c0685f461593344fbbe7b2ce57",
       "version_major": 2,
       "version_minor": 0
      },
      "text/plain": [
       "HBox(children=(FloatProgress(value=1.0, bar_style='info', max=1.0), HTML(value='')))"
      ]
     },
     "metadata": {},
     "output_type": "display_data"
    },
    {
     "name": "stdout",
     "output_type": "stream",
     "text": [
      "\n",
      "Epoch: 165 |train loss:1.4907 |train accuracy: 0.4420\n",
      "[0 3 2 0 0 0 1 1 1 0 1 1 0 1 0 1 1 0 1 1 0 0 1 0 1 2 1 0 1 1 0 0 0 0 1 0 0\n",
      " 2 0 1 0 0 0 1 1 1 1 2 0 1 1 1]\n"
     ]
    },
    {
     "data": {
      "application/vnd.jupyter.widget-view+json": {
       "model_id": "12bcd0f28ca547c4a1c0f1ab34abcd53",
       "version_major": 2,
       "version_minor": 0
      },
      "text/plain": [
       "HBox(children=(FloatProgress(value=1.0, bar_style='info', max=1.0), HTML(value='')))"
      ]
     },
     "metadata": {},
     "output_type": "display_data"
    },
    {
     "name": "stdout",
     "output_type": "stream",
     "text": [
      "\n",
      "Epoch: 166 |train loss:1.4877 |train accuracy: 0.4447\n",
      "[0 1 0 0 1 0 1 0 1 1 3 1 0 0 0 1 0 0 0 2 0 0 2 1 0 1 1 0 0 2 0 2 2 0 0 0 1\n",
      " 0 1 0 2 1 1 0 2 3 1 3 0 2 2 0]\n"
     ]
    },
    {
     "data": {
      "application/vnd.jupyter.widget-view+json": {
       "model_id": "55515813f2344f30aa478fb544f7fc50",
       "version_major": 2,
       "version_minor": 0
      },
      "text/plain": [
       "HBox(children=(FloatProgress(value=1.0, bar_style='info', max=1.0), HTML(value='')))"
      ]
     },
     "metadata": {},
     "output_type": "display_data"
    },
    {
     "name": "stdout",
     "output_type": "stream",
     "text": [
      "\n",
      "Epoch: 167 |train loss:1.4863 |train accuracy: 0.4443\n",
      "[0 0 1 1 0 1 3 0 1 0 0 1 0 0 0 3 0 0 2 1 1 1 0 0 1 1 1 0 0 0 0 0 1 0 1 1 0\n",
      " 1 0 0 0 0 0 1 3 1 0 0 1 3 1 0]\n"
     ]
    },
    {
     "data": {
      "application/vnd.jupyter.widget-view+json": {
       "model_id": "769f32ae77724c13b2c039616c69d38b",
       "version_major": 2,
       "version_minor": 0
      },
      "text/plain": [
       "HBox(children=(FloatProgress(value=1.0, bar_style='info', max=1.0), HTML(value='')))"
      ]
     },
     "metadata": {},
     "output_type": "display_data"
    },
    {
     "name": "stdout",
     "output_type": "stream",
     "text": [
      "\n",
      "Epoch: 168 |train loss:1.4861 |train accuracy: 0.4454\n",
      "[0 0 1 0 1 0 0 0 0 1 0 0 0 2 0 3 0 0 3 0 0 1 1 1 1 1 1 0 0 0 0 1 0 0 0 1 0\n",
      " 1 0 2 2 0 0 0 1 1 0 3 1 0 2 1]\n"
     ]
    },
    {
     "data": {
      "application/vnd.jupyter.widget-view+json": {
       "model_id": "f021f59a35c540cc9327d0077a6935e8",
       "version_major": 2,
       "version_minor": 0
      },
      "text/plain": [
       "HBox(children=(FloatProgress(value=1.0, bar_style='info', max=1.0), HTML(value='')))"
      ]
     },
     "metadata": {},
     "output_type": "display_data"
    },
    {
     "name": "stdout",
     "output_type": "stream",
     "text": [
      "\n",
      "Epoch: 169 |train loss:1.4910 |train accuracy: 0.4396\n",
      "[0 1 0 1 3 0 0 0 0 2 0 0 0 3 0 0 0 0 2 0 0 1 3 0 0 2 3 0 2 2 3 0 2 1 1 1 0\n",
      " 0 1 3 1 0 0 1 2 1 1 1 0 0 2 0]\n"
     ]
    },
    {
     "data": {
      "application/vnd.jupyter.widget-view+json": {
       "model_id": "37d220320766462a94a489fc4c656a65",
       "version_major": 2,
       "version_minor": 0
      },
      "text/plain": [
       "HBox(children=(FloatProgress(value=1.0, bar_style='info', max=1.0), HTML(value='')))"
      ]
     },
     "metadata": {},
     "output_type": "display_data"
    },
    {
     "name": "stdout",
     "output_type": "stream",
     "text": [
      "\n",
      "Epoch: 170 |train loss:1.4899 |train accuracy: 0.4401\n",
      "[0 0 0 0 0 0 1 1 0 0 1 3 3 0 1 1 0 0 0 1 1 0 2 0 0 1 2 0 0 2 0 3 1 0 0 1 2\n",
      " 0 0 0 1 0 1 0 1 0 1 0 2 0 0 2]\n"
     ]
    },
    {
     "data": {
      "application/vnd.jupyter.widget-view+json": {
       "model_id": "442170558b3b41e1a824c62ef5f544a1",
       "version_major": 2,
       "version_minor": 0
      },
      "text/plain": [
       "HBox(children=(FloatProgress(value=1.0, bar_style='info', max=1.0), HTML(value='')))"
      ]
     },
     "metadata": {},
     "output_type": "display_data"
    },
    {
     "name": "stdout",
     "output_type": "stream",
     "text": [
      "\n",
      "Epoch: 171 |train loss:1.4894 |train accuracy: 0.4428\n",
      "[0 0 0 0 0 1 3 0 3 1 0 0 0 2 1 2 0 1 2 1 1 0 2 2 0 0 1 0 0 0 0 0 0 1 2 0 0\n",
      " 1 0 2 1 2 2 0 0 0 0 1 0 1 0 2]\n"
     ]
    },
    {
     "data": {
      "application/vnd.jupyter.widget-view+json": {
       "model_id": "5c401ef7680941cc970ad0baa2fe7497",
       "version_major": 2,
       "version_minor": 0
      },
      "text/plain": [
       "HBox(children=(FloatProgress(value=1.0, bar_style='info', max=1.0), HTML(value='')))"
      ]
     },
     "metadata": {},
     "output_type": "display_data"
    },
    {
     "name": "stdout",
     "output_type": "stream",
     "text": [
      "\n",
      "Epoch: 172 |train loss:1.4885 |train accuracy: 0.4428\n",
      "[1 0 2 0 0 0 0 0 1 1 0 0 0 3 0 0 2 0 0 1 0 1 0 0 0 0 0 2 0 0 0 3 1 2 1 0 0\n",
      " 3 1 1 1 1 0 3 3 1 2 0 0 0 1 1]\n"
     ]
    },
    {
     "data": {
      "application/vnd.jupyter.widget-view+json": {
       "model_id": "62ce26e85c5e451d88bebc28b80dfcac",
       "version_major": 2,
       "version_minor": 0
      },
      "text/plain": [
       "HBox(children=(FloatProgress(value=1.0, bar_style='info', max=1.0), HTML(value='')))"
      ]
     },
     "metadata": {},
     "output_type": "display_data"
    },
    {
     "name": "stdout",
     "output_type": "stream",
     "text": [
      "\n",
      "Epoch: 173 |train loss:1.4890 |train accuracy: 0.4433\n",
      "[1 0 3 0 0 2 2 0 0 0 0 0 1 0 0 0 1 0 0 0 1 0 0 1 0 1 1 1 1 0 0 0 0 0 1 1 0\n",
      " 3 0 0 0 2 2 1 2 1 0 0 1 3 0 0]\n"
     ]
    },
    {
     "data": {
      "application/vnd.jupyter.widget-view+json": {
       "model_id": "36b1d3754ef6445da82c501de5edd32d",
       "version_major": 2,
       "version_minor": 0
      },
      "text/plain": [
       "HBox(children=(FloatProgress(value=1.0, bar_style='info', max=1.0), HTML(value='')))"
      ]
     },
     "metadata": {},
     "output_type": "display_data"
    },
    {
     "name": "stdout",
     "output_type": "stream",
     "text": [
      "\n",
      "Epoch: 174 |train loss:1.4894 |train accuracy: 0.4425\n",
      "[0 0 1 0 0 0 0 3 0 0 1 1 3 1 0 0 0 2 0 1 2 0 0 1 0 3 2 1 2 0 0 0 3 1 0 0 2\n",
      " 2 0 3 0 1 2 1 0 2 0 2 0 0 0 0]\n"
     ]
    },
    {
     "data": {
      "application/vnd.jupyter.widget-view+json": {
       "model_id": "34b8eb39c90d4661ab99128dc020cb29",
       "version_major": 2,
       "version_minor": 0
      },
      "text/plain": [
       "HBox(children=(FloatProgress(value=1.0, bar_style='info', max=1.0), HTML(value='')))"
      ]
     },
     "metadata": {},
     "output_type": "display_data"
    },
    {
     "name": "stdout",
     "output_type": "stream",
     "text": [
      "\n",
      "Epoch: 175 |train loss:1.4885 |train accuracy: 0.4442\n",
      "[0 0 0 0 1 0 0 1 0 0 1 0 2 2 3 1 0 0 3 0 2 1 3 0 0 1 3 3 1 0 0 1 0 0 0 1 0\n",
      " 2 2 0 0 0 0 0 1 1 0 0 1 0 0 0]\n"
     ]
    },
    {
     "data": {
      "application/vnd.jupyter.widget-view+json": {
       "model_id": "524cb290189842b78f6f531c15fbe2c5",
       "version_major": 2,
       "version_minor": 0
      },
      "text/plain": [
       "HBox(children=(FloatProgress(value=1.0, bar_style='info', max=1.0), HTML(value='')))"
      ]
     },
     "metadata": {},
     "output_type": "display_data"
    },
    {
     "name": "stdout",
     "output_type": "stream",
     "text": [
      "\n",
      "Epoch: 176 |train loss:1.4911 |train accuracy: 0.4400\n",
      "[1 0 0 3 0 0 1 1 0 0 0 3 1 0 0 0 1 1 3 0 0 1 2 0 0 1 2 2 0 2 2 0 0 2 0 0 0\n",
      " 3 0 0 0 0 3 0 3 0 0 3 0 3 1 0]\n"
     ]
    },
    {
     "data": {
      "application/vnd.jupyter.widget-view+json": {
       "model_id": "1048f2fcc47b4063b460fee145ae2c93",
       "version_major": 2,
       "version_minor": 0
      },
      "text/plain": [
       "HBox(children=(FloatProgress(value=1.0, bar_style='info', max=1.0), HTML(value='')))"
      ]
     },
     "metadata": {},
     "output_type": "display_data"
    },
    {
     "name": "stdout",
     "output_type": "stream",
     "text": [
      "\n",
      "Epoch: 177 |train loss:1.4895 |train accuracy: 0.4413\n",
      "[1 1 2 0 1 0 0 0 0 0 0 2 0 1 0 0 0 1 2 0 2 2 3 0 0 1 1 0 0 0 3 0 0 1 0 0 3\n",
      " 1 1 0 0 3 0 1 3 1 0 2 3 1 0 0]\n"
     ]
    },
    {
     "data": {
      "application/vnd.jupyter.widget-view+json": {
       "model_id": "431bd409d3b44d868efe887173a12f24",
       "version_major": 2,
       "version_minor": 0
      },
      "text/plain": [
       "HBox(children=(FloatProgress(value=1.0, bar_style='info', max=1.0), HTML(value='')))"
      ]
     },
     "metadata": {},
     "output_type": "display_data"
    },
    {
     "name": "stdout",
     "output_type": "stream",
     "text": [
      "\n",
      "Epoch: 178 |train loss:1.4875 |train accuracy: 0.4420\n",
      "[3 1 0 3 3 0 1 3 0 0 2 0 0 2 0 0 2 3 0 0 0 0 0 2 2 1 0 1 0 1 1 3 0 0 1 0 3\n",
      " 0 0 0 0 1 1 0 0 1 1 1 1 0 3 0]\n"
     ]
    },
    {
     "data": {
      "application/vnd.jupyter.widget-view+json": {
       "model_id": "a55fa99cd9cc4274abd44b835bfa9df4",
       "version_major": 2,
       "version_minor": 0
      },
      "text/plain": [
       "HBox(children=(FloatProgress(value=1.0, bar_style='info', max=1.0), HTML(value='')))"
      ]
     },
     "metadata": {},
     "output_type": "display_data"
    },
    {
     "name": "stdout",
     "output_type": "stream",
     "text": [
      "\n",
      "Epoch: 179 |train loss:1.4876 |train accuracy: 0.4432\n",
      "[1 2 0 1 0 1 0 0 0 0 1 2 1 1 1 0 3 1 0 1 0 3 1 1 1 0 1 0 3 2 1 1 3 0 0 1 1\n",
      " 1 0 1 1 1 0 3 1 2 0 2 0 0 2 2]\n"
     ]
    },
    {
     "data": {
      "application/vnd.jupyter.widget-view+json": {
       "model_id": "6b167f7efae2409e9d5d3b84e0ff604f",
       "version_major": 2,
       "version_minor": 0
      },
      "text/plain": [
       "HBox(children=(FloatProgress(value=1.0, bar_style='info', max=1.0), HTML(value='')))"
      ]
     },
     "metadata": {},
     "output_type": "display_data"
    },
    {
     "name": "stdout",
     "output_type": "stream",
     "text": [
      "\n",
      "Epoch: 180 |train loss:1.4933 |train accuracy: 0.4386\n",
      "[0 2 0 0 0 1 0 0 1 1 0 0 2 0 0 1 0 1 0 2 1 0 1 0 1 0 3 1 0 0 0 0 1 1 0 1 0\n",
      " 2 1 1 0 1 1 0 0 0 1 0 0 0 3 3]\n"
     ]
    },
    {
     "data": {
      "application/vnd.jupyter.widget-view+json": {
       "model_id": "ed24a9ddc65d476184dbfe173cf4d842",
       "version_major": 2,
       "version_minor": 0
      },
      "text/plain": [
       "HBox(children=(FloatProgress(value=1.0, bar_style='info', max=1.0), HTML(value='')))"
      ]
     },
     "metadata": {},
     "output_type": "display_data"
    },
    {
     "name": "stdout",
     "output_type": "stream",
     "text": [
      "\n",
      "Epoch: 181 |train loss:1.4864 |train accuracy: 0.4440\n",
      "[0 0 0 2 0 3 0 3 1 0 3 2 0 0 1 0 0 0 3 0 1 2 0 2 0 0 2 0 1 0 3 0 0 0 3 1 1\n",
      " 1 0 1 0 0 3 0 1 0 0 1 3 3 0 1]\n"
     ]
    },
    {
     "data": {
      "application/vnd.jupyter.widget-view+json": {
       "model_id": "35c0357155014baca22d986c31f37bf4",
       "version_major": 2,
       "version_minor": 0
      },
      "text/plain": [
       "HBox(children=(FloatProgress(value=1.0, bar_style='info', max=1.0), HTML(value='')))"
      ]
     },
     "metadata": {},
     "output_type": "display_data"
    },
    {
     "name": "stdout",
     "output_type": "stream",
     "text": [
      "\n",
      "Epoch: 182 |train loss:1.4872 |train accuracy: 0.4440\n",
      "[0 0 1 1 2 1 2 0 0 3 2 0 0 1 0 0 0 1 2 0 1 0 1 0 1 0 0 0 3 0 3 1 0 0 0 3 1\n",
      " 2 3 1 0 0 0 0 0 0 1 2 0 1 0 0]\n"
     ]
    },
    {
     "data": {
      "application/vnd.jupyter.widget-view+json": {
       "model_id": "88fe31f9683c4b5ca2fb2195782554ef",
       "version_major": 2,
       "version_minor": 0
      },
      "text/plain": [
       "HBox(children=(FloatProgress(value=1.0, bar_style='info', max=1.0), HTML(value='')))"
      ]
     },
     "metadata": {},
     "output_type": "display_data"
    },
    {
     "name": "stdout",
     "output_type": "stream",
     "text": [
      "\n",
      "Epoch: 183 |train loss:1.4881 |train accuracy: 0.4406\n",
      "[0 1 1 0 2 0 2 1 1 1 1 1 0 3 1 1 1 0 1 0 1 0 2 1 0 0 2 0 0 2 0 3 3 0 0 0 0\n",
      " 1 0 2 2 0 1 2 0 1 0 0 1 3 3 0]\n"
     ]
    },
    {
     "data": {
      "application/vnd.jupyter.widget-view+json": {
       "model_id": "8393bbd34b904dd289218cde38fdeecd",
       "version_major": 2,
       "version_minor": 0
      },
      "text/plain": [
       "HBox(children=(FloatProgress(value=1.0, bar_style='info', max=1.0), HTML(value='')))"
      ]
     },
     "metadata": {},
     "output_type": "display_data"
    },
    {
     "name": "stdout",
     "output_type": "stream",
     "text": [
      "\n",
      "Epoch: 184 |train loss:1.4876 |train accuracy: 0.4431\n",
      "[0 3 0 3 0 3 0 1 1 2 0 0 2 0 1 0 3 1 0 0 3 0 1 0 0 2 0 0 1 1 0 0 2 1 1 0 3\n",
      " 0 0 2 0 2 2 3 2 0 0 2 2 1 2 0]\n"
     ]
    },
    {
     "data": {
      "application/vnd.jupyter.widget-view+json": {
       "model_id": "58e8912844424f7e8bfbee39be4a7283",
       "version_major": 2,
       "version_minor": 0
      },
      "text/plain": [
       "HBox(children=(FloatProgress(value=1.0, bar_style='info', max=1.0), HTML(value='')))"
      ]
     },
     "metadata": {},
     "output_type": "display_data"
    },
    {
     "name": "stdout",
     "output_type": "stream",
     "text": [
      "\n",
      "Epoch: 185 |train loss:1.4864 |train accuracy: 0.4433\n",
      "[3 1 1 0 1 0 1 2 0 0 0 2 0 0 3 1 3 1 3 1 0 0 0 0 1 0 2 0 1 0 1 1 0 2 0 1 0\n",
      " 1 2 0 2 1 0 0 0 0 1 1 2 1 1 0]\n"
     ]
    },
    {
     "data": {
      "application/vnd.jupyter.widget-view+json": {
       "model_id": "ca6b1481857348d5bacf715f9148c2c3",
       "version_major": 2,
       "version_minor": 0
      },
      "text/plain": [
       "HBox(children=(FloatProgress(value=1.0, bar_style='info', max=1.0), HTML(value='')))"
      ]
     },
     "metadata": {},
     "output_type": "display_data"
    },
    {
     "name": "stdout",
     "output_type": "stream",
     "text": [
      "\n",
      "Epoch: 186 |train loss:1.4858 |train accuracy: 0.4441\n",
      "[2 0 0 0 2 2 0 0 0 1 0 3 0 0 1 0 0 1 0 0 0 3 0 1 1 0 2 0 0 1 0 0 0 0 0 1 0\n",
      " 0 2 0 0 1 1 0 2 0 1 0 1 0 3 0]\n"
     ]
    },
    {
     "data": {
      "application/vnd.jupyter.widget-view+json": {
       "model_id": "f3577387763e4fafaa521495dea50020",
       "version_major": 2,
       "version_minor": 0
      },
      "text/plain": [
       "HBox(children=(FloatProgress(value=1.0, bar_style='info', max=1.0), HTML(value='')))"
      ]
     },
     "metadata": {},
     "output_type": "display_data"
    },
    {
     "name": "stdout",
     "output_type": "stream",
     "text": [
      "\n",
      "Epoch: 187 |train loss:1.4895 |train accuracy: 0.4432\n",
      "[3 1 2 1 2 0 2 0 0 1 0 1 1 0 1 1 0 1 1 0 3 1 1 0 2 1 3 0 0 1 1 2 2 0 1 1 1\n",
      " 0 0 0 0 0 1 3 1 0 1 0 0 0 2 2]\n"
     ]
    },
    {
     "data": {
      "application/vnd.jupyter.widget-view+json": {
       "model_id": "78c95344e6dd4ceb82bdb92d6681564a",
       "version_major": 2,
       "version_minor": 0
      },
      "text/plain": [
       "HBox(children=(FloatProgress(value=1.0, bar_style='info', max=1.0), HTML(value='')))"
      ]
     },
     "metadata": {},
     "output_type": "display_data"
    },
    {
     "name": "stdout",
     "output_type": "stream",
     "text": [
      "\n",
      "Epoch: 188 |train loss:1.4882 |train accuracy: 0.4434\n",
      "[1 0 1 0 1 0 1 0 1 1 3 0 0 0 2 1 0 0 0 1 0 1 0 1 1 0 0 0 0 2 0 0 1 0 1 0 0\n",
      " 0 2 0 0 0 1 0 0 3 2 0 0 1 0 1]\n"
     ]
    },
    {
     "data": {
      "application/vnd.jupyter.widget-view+json": {
       "model_id": "6b47fdb8e89f407bbc0bd87bea3cdc45",
       "version_major": 2,
       "version_minor": 0
      },
      "text/plain": [
       "HBox(children=(FloatProgress(value=1.0, bar_style='info', max=1.0), HTML(value='')))"
      ]
     },
     "metadata": {},
     "output_type": "display_data"
    },
    {
     "name": "stdout",
     "output_type": "stream",
     "text": [
      "\n",
      "Epoch: 189 |train loss:1.4888 |train accuracy: 0.4444\n",
      "[1 0 0 2 3 1 0 0 2 1 0 1 0 0 2 0 1 0 0 2 2 3 1 0 0 0 1 0 1 2 2 0 0 1 0 0 0\n",
      " 0 2 0 1 0 0 1 2 0 0 1 0 1 0 2]\n"
     ]
    },
    {
     "data": {
      "application/vnd.jupyter.widget-view+json": {
       "model_id": "5a44a7b597e94c50a6b3f0490b6ca9d5",
       "version_major": 2,
       "version_minor": 0
      },
      "text/plain": [
       "HBox(children=(FloatProgress(value=1.0, bar_style='info', max=1.0), HTML(value='')))"
      ]
     },
     "metadata": {},
     "output_type": "display_data"
    },
    {
     "name": "stdout",
     "output_type": "stream",
     "text": [
      "\n",
      "Epoch: 190 |train loss:1.4861 |train accuracy: 0.4449\n",
      "[0 1 0 0 2 0 1 2 0 0 1 2 1 2 0 0 3 1 3 0 0 0 0 0 0 1 1 1 0 0 2 0 3 0 1 0 0\n",
      " 0 0 0 0 2 0 2 1 0 0 0 0 1 3 0]\n"
     ]
    },
    {
     "data": {
      "application/vnd.jupyter.widget-view+json": {
       "model_id": "9becfe2b2c094dc9aafa5b9a92c3fc38",
       "version_major": 2,
       "version_minor": 0
      },
      "text/plain": [
       "HBox(children=(FloatProgress(value=1.0, bar_style='info', max=1.0), HTML(value='')))"
      ]
     },
     "metadata": {},
     "output_type": "display_data"
    },
    {
     "name": "stdout",
     "output_type": "stream",
     "text": [
      "\n",
      "Epoch: 191 |train loss:1.4918 |train accuracy: 0.4417\n",
      "[0 0 0 0 0 1 1 3 1 1 1 1 0 2 0 0 2 0 1 1 0 2 0 0 0 2 2 0 0 2 2 2 1 0 0 0 2\n",
      " 0 0 0 1 3 0 1 0 2 2 3 0 1 3 1]\n"
     ]
    },
    {
     "data": {
      "application/vnd.jupyter.widget-view+json": {
       "model_id": "77bb48853fe5480a816f8eada42a96d6",
       "version_major": 2,
       "version_minor": 0
      },
      "text/plain": [
       "HBox(children=(FloatProgress(value=1.0, bar_style='info', max=1.0), HTML(value='')))"
      ]
     },
     "metadata": {},
     "output_type": "display_data"
    },
    {
     "name": "stdout",
     "output_type": "stream",
     "text": [
      "\n",
      "Epoch: 192 |train loss:1.4936 |train accuracy: 0.4392\n",
      "[1 1 1 3 1 0 0 1 0 0 0 0 2 3 1 1 1 0 0 3 2 0 0 0 3 0 1 2 0 1 0 1 0 0 1 1 3\n",
      " 2 3 2 3 1 3 1 2 3 1 3 1 0 0 0]\n"
     ]
    },
    {
     "data": {
      "application/vnd.jupyter.widget-view+json": {
       "model_id": "ee94923ebed24419826c1a445d85edeb",
       "version_major": 2,
       "version_minor": 0
      },
      "text/plain": [
       "HBox(children=(FloatProgress(value=1.0, bar_style='info', max=1.0), HTML(value='')))"
      ]
     },
     "metadata": {},
     "output_type": "display_data"
    },
    {
     "name": "stdout",
     "output_type": "stream",
     "text": [
      "\n",
      "Epoch: 193 |train loss:1.4884 |train accuracy: 0.4424\n",
      "[2 2 0 0 1 0 1 1 1 0 1 2 3 0 1 0 0 0 0 2 0 2 0 2 1 1 3 1 0 1 1 1 0 0 0 0 3\n",
      " 0 0 0 0 0 1 0 0 0 0 0 0 2 1 1]\n"
     ]
    },
    {
     "data": {
      "application/vnd.jupyter.widget-view+json": {
       "model_id": "6fe053ebe5bc470fb2e9296e2715a851",
       "version_major": 2,
       "version_minor": 0
      },
      "text/plain": [
       "HBox(children=(FloatProgress(value=1.0, bar_style='info', max=1.0), HTML(value='')))"
      ]
     },
     "metadata": {},
     "output_type": "display_data"
    },
    {
     "name": "stdout",
     "output_type": "stream",
     "text": [
      "\n",
      "Epoch: 194 |train loss:1.4924 |train accuracy: 0.4368\n",
      "[0 0 1 0 0 1 0 1 0 1 2 1 2 3 3 1 0 2 0 2 2 0 0 1 0 0 1 1 1 2 0 1 0 2 0 1 1\n",
      " 1 0 3 0 2 0 2 3 1 1 2 1 0 0 0]\n"
     ]
    },
    {
     "data": {
      "application/vnd.jupyter.widget-view+json": {
       "model_id": "ec78c832fd25499083da050fd1bfac06",
       "version_major": 2,
       "version_minor": 0
      },
      "text/plain": [
       "HBox(children=(FloatProgress(value=1.0, bar_style='info', max=1.0), HTML(value='')))"
      ]
     },
     "metadata": {},
     "output_type": "display_data"
    },
    {
     "name": "stdout",
     "output_type": "stream",
     "text": [
      "\n",
      "Epoch: 195 |train loss:1.4901 |train accuracy: 0.4408\n",
      "[2 2 1 2 0 0 0 0 0 0 1 1 0 2 1 1 0 0 1 3 1 0 3 1 0 0 2 0 1 0 0 0 2 1 0 1 0\n",
      " 0 1 1 0 2 0 1 1 0 1 1 2 0 1 1]\n"
     ]
    },
    {
     "data": {
      "application/vnd.jupyter.widget-view+json": {
       "model_id": "9fed80c7e709420795a2815fc8033d45",
       "version_major": 2,
       "version_minor": 0
      },
      "text/plain": [
       "HBox(children=(FloatProgress(value=1.0, bar_style='info', max=1.0), HTML(value='')))"
      ]
     },
     "metadata": {},
     "output_type": "display_data"
    },
    {
     "name": "stdout",
     "output_type": "stream",
     "text": [
      "\n",
      "Epoch: 196 |train loss:1.4899 |train accuracy: 0.4404\n",
      "[1 1 1 1 0 2 2 0 0 0 0 0 0 2 2 0 0 0 0 1 1 2 0 0 0 3 1 0 0 1 1 0 1 2 0 2 0\n",
      " 0 0 1 0 1 0 2 0 1 0 1 0 1 1 0]\n"
     ]
    },
    {
     "data": {
      "application/vnd.jupyter.widget-view+json": {
       "model_id": "dc19fe032097404c972d8a580a770858",
       "version_major": 2,
       "version_minor": 0
      },
      "text/plain": [
       "HBox(children=(FloatProgress(value=1.0, bar_style='info', max=1.0), HTML(value='')))"
      ]
     },
     "metadata": {},
     "output_type": "display_data"
    },
    {
     "name": "stdout",
     "output_type": "stream",
     "text": [
      "\n",
      "Epoch: 197 |train loss:1.4871 |train accuracy: 0.4441\n",
      "[0 1 0 0 0 3 1 0 3 0 0 0 0 1 0 0 0 2 2 0 0 2 0 0 1 1 1 0 2 0 0 0 0 2 1 0 1\n",
      " 0 2 1 0 1 1 0 0 0 1 1 0 0 0 0]\n"
     ]
    },
    {
     "data": {
      "application/vnd.jupyter.widget-view+json": {
       "model_id": "b377bae1107f4447ba2ea8a27b2df497",
       "version_major": 2,
       "version_minor": 0
      },
      "text/plain": [
       "HBox(children=(FloatProgress(value=1.0, bar_style='info', max=1.0), HTML(value='')))"
      ]
     },
     "metadata": {},
     "output_type": "display_data"
    },
    {
     "name": "stdout",
     "output_type": "stream",
     "text": [
      "\n",
      "Epoch: 198 |train loss:1.4893 |train accuracy: 0.4411\n",
      "[0 0 0 1 0 0 1 0 1 0 0 0 2 2 2 0 3 0 1 0 2 0 1 3 1 1 0 1 0 1 0 0 0 0 1 0 1\n",
      " 0 1 1 2 0 0 2 0 0 0 1 0 0 0 0]\n"
     ]
    },
    {
     "data": {
      "application/vnd.jupyter.widget-view+json": {
       "model_id": "6532a209079f41188556ea09ce40e71b",
       "version_major": 2,
       "version_minor": 0
      },
      "text/plain": [
       "HBox(children=(FloatProgress(value=1.0, bar_style='info', max=1.0), HTML(value='')))"
      ]
     },
     "metadata": {},
     "output_type": "display_data"
    },
    {
     "name": "stdout",
     "output_type": "stream",
     "text": [
      "\n",
      "Epoch: 199 |train loss:1.4946 |train accuracy: 0.4377\n",
      "[2 1 0 1 0 1 1 0 0 0 1 0 0 1 1 1 0 0 1 2 0 0 2 1 0 1 0 0 2 0 0 0 0 0 1 1 2\n",
      " 0 0 2 3 0 2 1 0 1 2 1 3 3 0 0]\n"
     ]
    },
    {
     "data": {
      "application/vnd.jupyter.widget-view+json": {
       "model_id": "be52a79a76874e9f9a900c0ad41d3701",
       "version_major": 2,
       "version_minor": 0
      },
      "text/plain": [
       "HBox(children=(FloatProgress(value=1.0, bar_style='info', max=1.0), HTML(value='')))"
      ]
     },
     "metadata": {},
     "output_type": "display_data"
    },
    {
     "name": "stdout",
     "output_type": "stream",
     "text": [
      "\n",
      "Epoch: 200 |train loss:1.4858 |train accuracy: 0.4447\n",
      "[3 0 2 2 0 0 1 1 0 0 1 0 3 1 3 3 0 3 1 0 2 2 0 1 0 0 0 1 0 0 1 2 0 0 0 0 1\n",
      " 3 2 0 0 2 0 1 0 0 0 2 1 0 0 3]\n"
     ]
    },
    {
     "data": {
      "application/vnd.jupyter.widget-view+json": {
       "model_id": "d6b16988cc5c405ab141be0c1552fb40",
       "version_major": 2,
       "version_minor": 0
      },
      "text/plain": [
       "HBox(children=(FloatProgress(value=1.0, bar_style='info', max=1.0), HTML(value='')))"
      ]
     },
     "metadata": {},
     "output_type": "display_data"
    },
    {
     "name": "stdout",
     "output_type": "stream",
     "text": [
      "\n",
      "Epoch: 201 |train loss:1.4902 |train accuracy: 0.4404\n",
      "[0 1 0 0 1 0 1 0 2 0 1 0 1 0 0 0 0 0 0 0 1 1 0 0 3 2 1 2 0 1 1 0 0 0 0 0 1\n",
      " 0 1 1 1 1 0 2 0 1 0 2 3 0 1 1]\n"
     ]
    },
    {
     "data": {
      "application/vnd.jupyter.widget-view+json": {
       "model_id": "3a849e2d53494670a51b8e351c54d229",
       "version_major": 2,
       "version_minor": 0
      },
      "text/plain": [
       "HBox(children=(FloatProgress(value=1.0, bar_style='info', max=1.0), HTML(value='')))"
      ]
     },
     "metadata": {},
     "output_type": "display_data"
    },
    {
     "name": "stdout",
     "output_type": "stream",
     "text": [
      "\n",
      "Epoch: 202 |train loss:1.4848 |train accuracy: 0.4443\n",
      "[1 1 0 3 0 1 1 1 1 3 2 1 1 0 0 1 3 1 0 0 0 0 0 0 0 2 0 0 0 1 2 2 0 3 2 0 0\n",
      " 0 2 2 1 2 0 1 0 1 0 1 0 0 2 2]\n"
     ]
    },
    {
     "data": {
      "application/vnd.jupyter.widget-view+json": {
       "model_id": "c7f4264970e542e9b3d369ca64b46f95",
       "version_major": 2,
       "version_minor": 0
      },
      "text/plain": [
       "HBox(children=(FloatProgress(value=1.0, bar_style='info', max=1.0), HTML(value='')))"
      ]
     },
     "metadata": {},
     "output_type": "display_data"
    },
    {
     "name": "stdout",
     "output_type": "stream",
     "text": [
      "\n",
      "Epoch: 203 |train loss:1.4870 |train accuracy: 0.4433\n",
      "[0 1 0 3 1 1 1 0 0 1 0 0 0 0 0 3 0 0 0 0 1 0 0 0 1 0 0 2 0 0 1 1 0 0 0 2 1\n",
      " 0 0 0 1 1 1 2 0 1 3 0 1 1 3 0]\n"
     ]
    },
    {
     "data": {
      "application/vnd.jupyter.widget-view+json": {
       "model_id": "77d73e08b285421fbcf073b48bac6591",
       "version_major": 2,
       "version_minor": 0
      },
      "text/plain": [
       "HBox(children=(FloatProgress(value=1.0, bar_style='info', max=1.0), HTML(value='')))"
      ]
     },
     "metadata": {},
     "output_type": "display_data"
    },
    {
     "name": "stdout",
     "output_type": "stream",
     "text": [
      "\n",
      "Epoch: 204 |train loss:1.4891 |train accuracy: 0.4404\n",
      "[2 2 0 0 1 1 0 0 2 1 1 0 0 1 0 1 0 1 1 2 0 0 0 3 0 0 0 0 0 1 0 3 0 0 1 0 1\n",
      " 2 2 3 2 2 0 0 1 0 0 1 0 1 2 0]\n"
     ]
    },
    {
     "data": {
      "application/vnd.jupyter.widget-view+json": {
       "model_id": "d853c9f91e7344e1a719cb0e4326bc20",
       "version_major": 2,
       "version_minor": 0
      },
      "text/plain": [
       "HBox(children=(FloatProgress(value=1.0, bar_style='info', max=1.0), HTML(value='')))"
      ]
     },
     "metadata": {},
     "output_type": "display_data"
    },
    {
     "name": "stdout",
     "output_type": "stream",
     "text": [
      "\n",
      "Epoch: 205 |train loss:1.4908 |train accuracy: 0.4377\n",
      "[0 0 0 2 1 1 2 1 0 2 0 1 0 0 1 0 0 0 1 1 2 0 1 1 1 1 1 2 3 1 0 2 0 0 1 1 3\n",
      " 2 1 0 0 3 0 0 1 1 0 1 1 1 1 2]\n"
     ]
    },
    {
     "data": {
      "application/vnd.jupyter.widget-view+json": {
       "model_id": "0f69c43569a74526bf00982f365fd84b",
       "version_major": 2,
       "version_minor": 0
      },
      "text/plain": [
       "HBox(children=(FloatProgress(value=1.0, bar_style='info', max=1.0), HTML(value='')))"
      ]
     },
     "metadata": {},
     "output_type": "display_data"
    },
    {
     "name": "stdout",
     "output_type": "stream",
     "text": [
      "\n",
      "Epoch: 206 |train loss:1.4925 |train accuracy: 0.4389\n",
      "[0 3 0 1 0 1 0 0 2 1 0 0 0 0 0 1 0 1 0 1 1 2 1 0 0 1 0 0 1 0 2 0 2 0 0 1 2\n",
      " 2 0 1 3 0 0 1 0 0 1 0 2 0 1 1]\n"
     ]
    },
    {
     "data": {
      "application/vnd.jupyter.widget-view+json": {
       "model_id": "ca6770ccafb74b12a64e740ac9f2b9ab",
       "version_major": 2,
       "version_minor": 0
      },
      "text/plain": [
       "HBox(children=(FloatProgress(value=1.0, bar_style='info', max=1.0), HTML(value='')))"
      ]
     },
     "metadata": {},
     "output_type": "display_data"
    },
    {
     "name": "stdout",
     "output_type": "stream",
     "text": [
      "\n",
      "Epoch: 207 |train loss:1.4872 |train accuracy: 0.4431\n",
      "[0 0 0 2 1 0 0 1 0 1 3 0 3 1 0 1 1 0 0 0 0 1 0 2 3 0 0 1 0 0 0 1 1 1 1 0 0\n",
      " 0 3 0 1 3 3 0 0 1 0 1 2 0 0 2]\n"
     ]
    },
    {
     "data": {
      "application/vnd.jupyter.widget-view+json": {
       "model_id": "b9873346bea54829bd1e2097fa034fb3",
       "version_major": 2,
       "version_minor": 0
      },
      "text/plain": [
       "HBox(children=(FloatProgress(value=1.0, bar_style='info', max=1.0), HTML(value='')))"
      ]
     },
     "metadata": {},
     "output_type": "display_data"
    },
    {
     "name": "stdout",
     "output_type": "stream",
     "text": [
      "\n",
      "Epoch: 208 |train loss:1.4894 |train accuracy: 0.4425\n",
      "[3 0 1 1 0 1 0 1 1 1 0 0 0 0 1 2 1 0 1 0 0 1 2 0 0 0 1 1 1 1 0 0 2 0 1 1 0\n",
      " 2 0 0 0 3 0 0 1 0 1 2 1 0 0 1]\n"
     ]
    },
    {
     "data": {
      "application/vnd.jupyter.widget-view+json": {
       "model_id": "d2b0bd9fee0346c0a693e776aac14d36",
       "version_major": 2,
       "version_minor": 0
      },
      "text/plain": [
       "HBox(children=(FloatProgress(value=1.0, bar_style='info', max=1.0), HTML(value='')))"
      ]
     },
     "metadata": {},
     "output_type": "display_data"
    },
    {
     "name": "stdout",
     "output_type": "stream",
     "text": [
      "\n",
      "Epoch: 209 |train loss:1.4856 |train accuracy: 0.4445\n",
      "[0 3 1 1 2 2 0 0 0 1 0 3 0 0 0 1 1 0 2 0 0 3 3 0 2 0 0 1 2 1 0 1 1 0 0 0 0\n",
      " 0 0 1 0 0 3 2 3 3 1 0 0 0 1 1]\n"
     ]
    },
    {
     "data": {
      "application/vnd.jupyter.widget-view+json": {
       "model_id": "69039e22d9ca440ea8ebd34fc531a9a2",
       "version_major": 2,
       "version_minor": 0
      },
      "text/plain": [
       "HBox(children=(FloatProgress(value=1.0, bar_style='info', max=1.0), HTML(value='')))"
      ]
     },
     "metadata": {},
     "output_type": "display_data"
    },
    {
     "name": "stdout",
     "output_type": "stream",
     "text": [
      "\n",
      "Epoch: 210 |train loss:1.4902 |train accuracy: 0.4402\n",
      "[0 1 0 2 1 1 0 0 2 0 0 0 1 0 1 0 0 0 3 0 0 0 0 1 1 1 1 1 0 1 3 2 0 0 1 0 2\n",
      " 0 0 0 0 0 1 0 3 0 1 0 0 0 0 0]\n"
     ]
    },
    {
     "data": {
      "application/vnd.jupyter.widget-view+json": {
       "model_id": "6243ff63607147debb46168933380b25",
       "version_major": 2,
       "version_minor": 0
      },
      "text/plain": [
       "HBox(children=(FloatProgress(value=1.0, bar_style='info', max=1.0), HTML(value='')))"
      ]
     },
     "metadata": {},
     "output_type": "display_data"
    },
    {
     "name": "stdout",
     "output_type": "stream",
     "text": [
      "\n",
      "Epoch: 211 |train loss:1.4909 |train accuracy: 0.4396\n",
      "[1 0 1 2 0 1 0 0 0 0 0 1 1 0 1 1 1 1 1 2 1 1 0 0 1 0 3 0 1 1 0 1 1 0 2 2 0\n",
      " 3 0 0 0 0 3 1 0 1 3 0 1 0 0 1]\n"
     ]
    },
    {
     "data": {
      "application/vnd.jupyter.widget-view+json": {
       "model_id": "944ed35b15b1439298a0f7101a15df41",
       "version_major": 2,
       "version_minor": 0
      },
      "text/plain": [
       "HBox(children=(FloatProgress(value=1.0, bar_style='info', max=1.0), HTML(value='')))"
      ]
     },
     "metadata": {},
     "output_type": "display_data"
    },
    {
     "name": "stdout",
     "output_type": "stream",
     "text": [
      "\n",
      "Epoch: 212 |train loss:1.4867 |train accuracy: 0.4435\n",
      "[1 2 2 2 1 0 1 1 0 2 0 2 0 0 2 0 0 0 2 0 0 1 0 0 0 1 0 0 0 0 0 0 1 2 0 0 1\n",
      " 0 0 0 1 0 2 1 2 1 3 1 0 0 2 3]\n"
     ]
    },
    {
     "data": {
      "application/vnd.jupyter.widget-view+json": {
       "model_id": "87d4749c26ae4adb9292c460036b5157",
       "version_major": 2,
       "version_minor": 0
      },
      "text/plain": [
       "HBox(children=(FloatProgress(value=1.0, bar_style='info', max=1.0), HTML(value='')))"
      ]
     },
     "metadata": {},
     "output_type": "display_data"
    },
    {
     "name": "stdout",
     "output_type": "stream",
     "text": [
      "\n",
      "Epoch: 213 |train loss:1.4909 |train accuracy: 0.4388\n",
      "[2 2 1 0 0 1 1 0 1 1 2 0 0 1 0 0 1 0 0 3 2 0 0 0 0 0 0 1 0 0 1 1 1 1 0 3 1\n",
      " 2 0 1 2 0 1 0 0 0 0 1 0 0 2 1]\n"
     ]
    },
    {
     "data": {
      "application/vnd.jupyter.widget-view+json": {
       "model_id": "6101a695dc69468f99e7e1ce867e0cea",
       "version_major": 2,
       "version_minor": 0
      },
      "text/plain": [
       "HBox(children=(FloatProgress(value=1.0, bar_style='info', max=1.0), HTML(value='')))"
      ]
     },
     "metadata": {},
     "output_type": "display_data"
    },
    {
     "name": "stdout",
     "output_type": "stream",
     "text": [
      "\n",
      "Epoch: 214 |train loss:1.4876 |train accuracy: 0.4429\n",
      "[0 0 0 0 0 0 0 3 0 2 0 1 1 0 1 0 0 3 1 2 1 0 3 1 1 1 0 1 1 1 3 1 0 0 0 0 1\n",
      " 0 0 0 1 1 1 2 2 0 2 1 1 2 0 0]\n"
     ]
    },
    {
     "data": {
      "application/vnd.jupyter.widget-view+json": {
       "model_id": "340568cb1ca14898bc796ad03a99e373",
       "version_major": 2,
       "version_minor": 0
      },
      "text/plain": [
       "HBox(children=(FloatProgress(value=1.0, bar_style='info', max=1.0), HTML(value='')))"
      ]
     },
     "metadata": {},
     "output_type": "display_data"
    },
    {
     "name": "stdout",
     "output_type": "stream",
     "text": [
      "\n",
      "Epoch: 215 |train loss:1.4915 |train accuracy: 0.4391\n",
      "[3 0 1 1 1 1 0 2 3 0 1 2 2 1 2 0 0 0 0 0 2 1 1 0 0 1 0 1 1 1 3 0 3 0 2 0 3\n",
      " 1 0 1 0 2 0 0 0 0 2 1 1 0 1 1]\n"
     ]
    },
    {
     "data": {
      "application/vnd.jupyter.widget-view+json": {
       "model_id": "21018ffce262478d99e1b7eebdef1187",
       "version_major": 2,
       "version_minor": 0
      },
      "text/plain": [
       "HBox(children=(FloatProgress(value=1.0, bar_style='info', max=1.0), HTML(value='')))"
      ]
     },
     "metadata": {},
     "output_type": "display_data"
    },
    {
     "name": "stdout",
     "output_type": "stream",
     "text": [
      "\n",
      "Epoch: 216 |train loss:1.4896 |train accuracy: 0.4407\n",
      "[0 1 2 0 1 1 0 0 0 2 1 1 0 0 1 0 0 0 0 0 0 0 0 3 0 0 0 0 1 1 1 1 0 0 0 0 1\n",
      " 1 0 0 0 0 1 0 0 0 1 0 3 1 2 0]\n"
     ]
    },
    {
     "data": {
      "application/vnd.jupyter.widget-view+json": {
       "model_id": "7f355a34368943d895671e629a510b95",
       "version_major": 2,
       "version_minor": 0
      },
      "text/plain": [
       "HBox(children=(FloatProgress(value=1.0, bar_style='info', max=1.0), HTML(value='')))"
      ]
     },
     "metadata": {},
     "output_type": "display_data"
    },
    {
     "name": "stdout",
     "output_type": "stream",
     "text": [
      "\n",
      "Epoch: 217 |train loss:1.4884 |train accuracy: 0.4424\n",
      "[0 2 1 0 3 2 0 0 1 0 1 1 0 0 1 0 0 0 0 0 0 1 0 1 2 0 0 0 2 0 0 2 1 1 0 1 0\n",
      " 1 0 3 1 3 0 2 0 1 1 1 0 0 0 1]\n"
     ]
    },
    {
     "data": {
      "application/vnd.jupyter.widget-view+json": {
       "model_id": "f1b58a3d1d164700936cd1c42528b4f0",
       "version_major": 2,
       "version_minor": 0
      },
      "text/plain": [
       "HBox(children=(FloatProgress(value=1.0, bar_style='info', max=1.0), HTML(value='')))"
      ]
     },
     "metadata": {},
     "output_type": "display_data"
    },
    {
     "name": "stdout",
     "output_type": "stream",
     "text": [
      "\n",
      "Epoch: 218 |train loss:1.4873 |train accuracy: 0.4446\n",
      "[0 2 0 2 2 3 0 0 1 0 1 0 0 0 1 1 2 0 0 0 0 0 0 2 0 0 2 0 0 0 0 0 2 1 0 0 1\n",
      " 1 0 0 1 1 0 3 0 1 1 1 3 0 0 0]\n"
     ]
    },
    {
     "data": {
      "application/vnd.jupyter.widget-view+json": {
       "model_id": "b02d60cf57e04d8cbb86d4f7ad393742",
       "version_major": 2,
       "version_minor": 0
      },
      "text/plain": [
       "HBox(children=(FloatProgress(value=1.0, bar_style='info', max=1.0), HTML(value='')))"
      ]
     },
     "metadata": {},
     "output_type": "display_data"
    },
    {
     "name": "stdout",
     "output_type": "stream",
     "text": [
      "\n",
      "Epoch: 219 |train loss:1.4905 |train accuracy: 0.4411\n",
      "[1 0 0 1 3 0 0 2 0 1 0 0 1 3 0 0 1 0 2 0 0 1 0 3 2 1 1 0 0 0 1 1 2 0 0 1 1\n",
      " 1 0 0 0 0 1 1 1 0 0 0 1 1 0 0]\n"
     ]
    },
    {
     "data": {
      "application/vnd.jupyter.widget-view+json": {
       "model_id": "5ae8423f429847af841d292856f0e797",
       "version_major": 2,
       "version_minor": 0
      },
      "text/plain": [
       "HBox(children=(FloatProgress(value=1.0, bar_style='info', max=1.0), HTML(value='')))"
      ]
     },
     "metadata": {},
     "output_type": "display_data"
    },
    {
     "name": "stdout",
     "output_type": "stream",
     "text": [
      "\n",
      "Epoch: 220 |train loss:1.4882 |train accuracy: 0.4423\n",
      "[0 0 1 2 0 3 2 0 1 0 1 1 1 2 2 0 1 1 0 1 1 1 2 0 2 0 0 0 0 1 2 0 0 0 2 0 1\n",
      " 1 1 1 1 1 1 0 1 0 0 1 0 2 0 2]\n"
     ]
    },
    {
     "data": {
      "application/vnd.jupyter.widget-view+json": {
       "model_id": "09595664bf274e1f9c5b6906947670ec",
       "version_major": 2,
       "version_minor": 0
      },
      "text/plain": [
       "HBox(children=(FloatProgress(value=1.0, bar_style='info', max=1.0), HTML(value='')))"
      ]
     },
     "metadata": {},
     "output_type": "display_data"
    },
    {
     "name": "stdout",
     "output_type": "stream",
     "text": [
      "\n",
      "Epoch: 221 |train loss:1.4879 |train accuracy: 0.4432\n",
      "[0 1 0 3 1 2 1 1 0 0 3 0 1 0 0 0 1 0 1 0 0 2 1 0 3 0 0 3 0 0 0 2 1 1 0 0 3\n",
      " 0 3 1 0 0 3 1 0 2 0 0 1 0 0 1]\n"
     ]
    },
    {
     "data": {
      "application/vnd.jupyter.widget-view+json": {
       "model_id": "d0f6f348876d4a398ceaff6147c813dd",
       "version_major": 2,
       "version_minor": 0
      },
      "text/plain": [
       "HBox(children=(FloatProgress(value=1.0, bar_style='info', max=1.0), HTML(value='')))"
      ]
     },
     "metadata": {},
     "output_type": "display_data"
    },
    {
     "name": "stdout",
     "output_type": "stream",
     "text": [
      "\n",
      "Epoch: 222 |train loss:1.4890 |train accuracy: 0.4451\n",
      "[1 0 1 0 2 0 1 1 0 2 0 0 1 0 0 0 0 0 0 0 0 0 2 0 0 0 0 0 0 0 0 3 2 2 1 0 2\n",
      " 0 2 1 2 1 0 0 3 0 0 3 0 1 0 0]\n"
     ]
    },
    {
     "data": {
      "application/vnd.jupyter.widget-view+json": {
       "model_id": "00edb907242943fe989ca0cadfb1328f",
       "version_major": 2,
       "version_minor": 0
      },
      "text/plain": [
       "HBox(children=(FloatProgress(value=1.0, bar_style='info', max=1.0), HTML(value='')))"
      ]
     },
     "metadata": {},
     "output_type": "display_data"
    },
    {
     "name": "stdout",
     "output_type": "stream",
     "text": [
      "\n",
      "Epoch: 223 |train loss:1.4916 |train accuracy: 0.4403\n",
      "[2 0 0 0 0 0 3 0 2 0 1 0 0 0 3 0 0 1 0 1 0 0 0 0 2 2 1 0 0 2 2 1 0 0 1 2 0\n",
      " 0 0 0 0 1 0 2 0 1 1 1 0 0 0 0]\n"
     ]
    },
    {
     "data": {
      "application/vnd.jupyter.widget-view+json": {
       "model_id": "e8ffb1f646b84b91ba808774b7e29937",
       "version_major": 2,
       "version_minor": 0
      },
      "text/plain": [
       "HBox(children=(FloatProgress(value=1.0, bar_style='info', max=1.0), HTML(value='')))"
      ]
     },
     "metadata": {},
     "output_type": "display_data"
    },
    {
     "name": "stdout",
     "output_type": "stream",
     "text": [
      "\n",
      "Epoch: 224 |train loss:1.4878 |train accuracy: 0.4440\n",
      "[1 0 1 1 2 0 0 0 2 0 0 0 0 0 1 1 0 2 2 0 0 1 1 1 0 1 2 0 0 0 0 0 1 0 0 2 2\n",
      " 1 0 0 1 1 1 3 0 0 0 0 1 3 1 0]\n"
     ]
    },
    {
     "data": {
      "application/vnd.jupyter.widget-view+json": {
       "model_id": "e01c6fbd6dea41099b79cfe2782d93a5",
       "version_major": 2,
       "version_minor": 0
      },
      "text/plain": [
       "HBox(children=(FloatProgress(value=1.0, bar_style='info', max=1.0), HTML(value='')))"
      ]
     },
     "metadata": {},
     "output_type": "display_data"
    },
    {
     "name": "stdout",
     "output_type": "stream",
     "text": [
      "\n",
      "Epoch: 225 |train loss:1.4908 |train accuracy: 0.4412\n",
      "[0 1 0 3 0 3 1 0 0 0 0 3 0 3 2 1 0 2 0 1 2 1 0 0 2 1 0 1 0 2 1 2 1 0 3 0 3\n",
      " 1 0 1 2 0 0 1 0 0 1 0 0 0 0 0]\n"
     ]
    },
    {
     "data": {
      "application/vnd.jupyter.widget-view+json": {
       "model_id": "421f97de0fa14122911e08cc5f4795e1",
       "version_major": 2,
       "version_minor": 0
      },
      "text/plain": [
       "HBox(children=(FloatProgress(value=1.0, bar_style='info', max=1.0), HTML(value='')))"
      ]
     },
     "metadata": {},
     "output_type": "display_data"
    },
    {
     "name": "stdout",
     "output_type": "stream",
     "text": [
      "\n",
      "Epoch: 226 |train loss:1.4894 |train accuracy: 0.4433\n",
      "[1 0 0 3 0 3 0 0 1 0 0 0 1 0 3 0 1 0 0 0 0 0 2 0 0 2 1 0 0 1 0 3 0 1 2 0 1\n",
      " 2 2 1 1 0 3 0 1 3 0 0 0 1 0 1]\n"
     ]
    },
    {
     "data": {
      "application/vnd.jupyter.widget-view+json": {
       "model_id": "275442e1798e41a38d05c6b6f3b8318f",
       "version_major": 2,
       "version_minor": 0
      },
      "text/plain": [
       "HBox(children=(FloatProgress(value=1.0, bar_style='info', max=1.0), HTML(value='')))"
      ]
     },
     "metadata": {},
     "output_type": "display_data"
    },
    {
     "name": "stdout",
     "output_type": "stream",
     "text": [
      "\n",
      "Epoch: 227 |train loss:1.4900 |train accuracy: 0.4414\n",
      "[0 2 1 0 0 2 0 0 0 3 0 0 0 0 1 0 3 1 0 0 1 1 0 1 0 0 0 0 3 0 1 1 1 1 0 1 3\n",
      " 1 2 0 0 0 2 1 0 0 1 1 3 0 0 1]\n"
     ]
    },
    {
     "data": {
      "application/vnd.jupyter.widget-view+json": {
       "model_id": "ab5db17934014254b35ca1423d4bb1bc",
       "version_major": 2,
       "version_minor": 0
      },
      "text/plain": [
       "HBox(children=(FloatProgress(value=1.0, bar_style='info', max=1.0), HTML(value='')))"
      ]
     },
     "metadata": {},
     "output_type": "display_data"
    },
    {
     "name": "stdout",
     "output_type": "stream",
     "text": [
      "\n",
      "Epoch: 228 |train loss:1.4892 |train accuracy: 0.4405\n",
      "[0 0 0 1 0 1 2 2 0 2 0 1 2 0 2 0 0 0 1 0 1 1 0 3 3 1 0 1 2 3 1 0 1 0 1 0 1\n",
      " 3 1 1 3 0 3 0 2 0 0 1 1 0 0 2]\n"
     ]
    },
    {
     "data": {
      "application/vnd.jupyter.widget-view+json": {
       "model_id": "5f042bb803e447db9388725e0bf7639c",
       "version_major": 2,
       "version_minor": 0
      },
      "text/plain": [
       "HBox(children=(FloatProgress(value=1.0, bar_style='info', max=1.0), HTML(value='')))"
      ]
     },
     "metadata": {},
     "output_type": "display_data"
    },
    {
     "name": "stdout",
     "output_type": "stream",
     "text": [
      "\n",
      "Epoch: 229 |train loss:1.4881 |train accuracy: 0.4425\n",
      "[1 1 0 2 0 0 0 1 0 1 0 1 0 0 0 0 1 3 1 2 0 0 0 0 0 1 0 2 0 0 3 0 0 0 1 0 3\n",
      " 0 1 1 2 1 1 0 1 2 2 3 0 1 1 2]\n"
     ]
    },
    {
     "data": {
      "application/vnd.jupyter.widget-view+json": {
       "model_id": "bec9e90de5b540de9b706b257b69ffcc",
       "version_major": 2,
       "version_minor": 0
      },
      "text/plain": [
       "HBox(children=(FloatProgress(value=1.0, bar_style='info', max=1.0), HTML(value='')))"
      ]
     },
     "metadata": {},
     "output_type": "display_data"
    },
    {
     "name": "stdout",
     "output_type": "stream",
     "text": [
      "\n",
      "Epoch: 230 |train loss:1.4903 |train accuracy: 0.4413\n",
      "[1 1 0 1 3 3 0 0 1 1 0 0 3 0 1 2 0 0 0 0 1 0 0 0 1 0 1 3 0 0 2 0 1 1 3 1 0\n",
      " 3 1 1 2 2 0 1 1 2 0 2 1 1 1 0]\n"
     ]
    },
    {
     "data": {
      "application/vnd.jupyter.widget-view+json": {
       "model_id": "d25d3859a6cf4ed2a89eebc2f53e1611",
       "version_major": 2,
       "version_minor": 0
      },
      "text/plain": [
       "HBox(children=(FloatProgress(value=1.0, bar_style='info', max=1.0), HTML(value='')))"
      ]
     },
     "metadata": {},
     "output_type": "display_data"
    },
    {
     "name": "stdout",
     "output_type": "stream",
     "text": [
      "\n",
      "Epoch: 231 |train loss:1.4935 |train accuracy: 0.4387\n",
      "[1 2 0 0 2 1 1 0 0 1 1 2 3 0 0 1 1 1 0 0 3 0 3 0 1 1 2 0 1 2 1 0 0 0 0 0 1\n",
      " 0 2 1 3 0 0 0 2 1 0 0 0 3 0 0]\n"
     ]
    },
    {
     "data": {
      "application/vnd.jupyter.widget-view+json": {
       "model_id": "4e51bcff12ab456ba5167863d29597d4",
       "version_major": 2,
       "version_minor": 0
      },
      "text/plain": [
       "HBox(children=(FloatProgress(value=1.0, bar_style='info', max=1.0), HTML(value='')))"
      ]
     },
     "metadata": {},
     "output_type": "display_data"
    },
    {
     "name": "stdout",
     "output_type": "stream",
     "text": [
      "\n",
      "Epoch: 232 |train loss:1.4910 |train accuracy: 0.4391\n",
      "[0 3 0 1 0 0 2 0 0 0 0 0 0 0 0 1 0 0 0 2 2 0 0 0 0 2 1 0 1 1 0 0 3 2 2 0 0\n",
      " 1 1 1 1 0 0 3 3 0 0 2 1 0 0 3]\n"
     ]
    },
    {
     "data": {
      "application/vnd.jupyter.widget-view+json": {
       "model_id": "0a526d542792403b885965162b6873ca",
       "version_major": 2,
       "version_minor": 0
      },
      "text/plain": [
       "HBox(children=(FloatProgress(value=1.0, bar_style='info', max=1.0), HTML(value='')))"
      ]
     },
     "metadata": {},
     "output_type": "display_data"
    },
    {
     "name": "stdout",
     "output_type": "stream",
     "text": [
      "\n",
      "Epoch: 233 |train loss:1.4890 |train accuracy: 0.4425\n",
      "[0 0 3 1 2 0 0 0 0 0 1 0 0 0 1 3 0 0 0 0 1 1 1 0 1 0 2 1 1 2 0 0 0 2 2 2 3\n",
      " 0 0 0 0 0 1 2 1 2 0 1 0 1 1 2]\n"
     ]
    },
    {
     "data": {
      "application/vnd.jupyter.widget-view+json": {
       "model_id": "cf1395461dad41b4bae7ed22f190a590",
       "version_major": 2,
       "version_minor": 0
      },
      "text/plain": [
       "HBox(children=(FloatProgress(value=1.0, bar_style='info', max=1.0), HTML(value='')))"
      ]
     },
     "metadata": {},
     "output_type": "display_data"
    },
    {
     "name": "stdout",
     "output_type": "stream",
     "text": [
      "\n",
      "Epoch: 234 |train loss:1.4912 |train accuracy: 0.4386\n",
      "[0 0 0 1 0 2 3 0 1 1 2 0 1 1 2 0 0 1 0 1 0 2 0 0 0 0 0 0 0 0 0 0 1 2 0 0 1\n",
      " 0 2 1 2 0 0 0 0 0 1 0 0 2 2 0]\n"
     ]
    },
    {
     "data": {
      "application/vnd.jupyter.widget-view+json": {
       "model_id": "aa2ddfe21ee0499b8ca4ca4d5f53c8e9",
       "version_major": 2,
       "version_minor": 0
      },
      "text/plain": [
       "HBox(children=(FloatProgress(value=1.0, bar_style='info', max=1.0), HTML(value='')))"
      ]
     },
     "metadata": {},
     "output_type": "display_data"
    },
    {
     "name": "stdout",
     "output_type": "stream",
     "text": [
      "\n",
      "Epoch: 235 |train loss:1.4878 |train accuracy: 0.4430\n",
      "[2 1 0 3 0 2 0 0 0 0 3 2 1 0 1 1 0 3 0 2 0 3 0 0 3 0 0 1 1 0 2 2 0 2 3 0 0\n",
      " 3 0 0 1 1 0 0 1 1 0 1 2 2 1 1]\n"
     ]
    },
    {
     "data": {
      "application/vnd.jupyter.widget-view+json": {
       "model_id": "c44de974f8204630be111fa24619fc75",
       "version_major": 2,
       "version_minor": 0
      },
      "text/plain": [
       "HBox(children=(FloatProgress(value=1.0, bar_style='info', max=1.0), HTML(value='')))"
      ]
     },
     "metadata": {},
     "output_type": "display_data"
    },
    {
     "name": "stdout",
     "output_type": "stream",
     "text": [
      "\n",
      "Epoch: 236 |train loss:1.4911 |train accuracy: 0.4393\n",
      "[0 0 2 0 1 1 0 1 1 0 1 0 2 0 2 1 0 1 1 2 1 2 3 0 1 1 0 0 0 0 1 0 0 0 0 1 0\n",
      " 0 2 1 0 0 1 1 1 0 0 0 0 0 0 0]\n"
     ]
    },
    {
     "data": {
      "application/vnd.jupyter.widget-view+json": {
       "model_id": "cd58f9044f794cc8a6efbb0ded5cf0d9",
       "version_major": 2,
       "version_minor": 0
      },
      "text/plain": [
       "HBox(children=(FloatProgress(value=1.0, bar_style='info', max=1.0), HTML(value='')))"
      ]
     },
     "metadata": {},
     "output_type": "display_data"
    },
    {
     "name": "stdout",
     "output_type": "stream",
     "text": [
      "\n",
      "Epoch: 237 |train loss:1.4862 |train accuracy: 0.4453\n",
      "[1 1 3 0 0 0 1 0 3 1 3 0 2 0 1 0 2 1 1 3 0 2 2 0 0 0 0 0 1 1 1 1 1 1 2 1 0\n",
      " 0 0 1 0 0 0 1 1 0 1 0 1 0 0 0]\n"
     ]
    },
    {
     "data": {
      "application/vnd.jupyter.widget-view+json": {
       "model_id": "4abcc854766346f0b96affebbcc1d88e",
       "version_major": 2,
       "version_minor": 0
      },
      "text/plain": [
       "HBox(children=(FloatProgress(value=1.0, bar_style='info', max=1.0), HTML(value='')))"
      ]
     },
     "metadata": {},
     "output_type": "display_data"
    },
    {
     "name": "stdout",
     "output_type": "stream",
     "text": [
      "\n",
      "Epoch: 238 |train loss:1.4885 |train accuracy: 0.4418\n",
      "[0 1 0 1 1 0 0 0 0 1 0 0 3 2 2 0 0 1 0 0 0 1 0 0 0 0 0 0 0 0 0 1 0 0 0 1 1\n",
      " 1 0 0 2 3 0 0 1 0 2 2 1 0 2 0]\n"
     ]
    },
    {
     "data": {
      "application/vnd.jupyter.widget-view+json": {
       "model_id": "2ae8a55e33074d6ca86c7c22864540dc",
       "version_major": 2,
       "version_minor": 0
      },
      "text/plain": [
       "HBox(children=(FloatProgress(value=1.0, bar_style='info', max=1.0), HTML(value='')))"
      ]
     },
     "metadata": {},
     "output_type": "display_data"
    },
    {
     "name": "stdout",
     "output_type": "stream",
     "text": [
      "\n",
      "Epoch: 239 |train loss:1.4914 |train accuracy: 0.4393\n",
      "[0 0 0 1 2 0 0 3 0 0 0 0 2 0 1 0 1 3 3 0 0 2 1 0 0 0 0 2 2 0 2 0 2 1 0 0 1\n",
      " 0 3 0 0 0 0 0 0 1 0 0 0 2 0 0]\n"
     ]
    },
    {
     "data": {
      "application/vnd.jupyter.widget-view+json": {
       "model_id": "a7bde9b93747403d9efb0cdd12f5ec58",
       "version_major": 2,
       "version_minor": 0
      },
      "text/plain": [
       "HBox(children=(FloatProgress(value=1.0, bar_style='info', max=1.0), HTML(value='')))"
      ]
     },
     "metadata": {},
     "output_type": "display_data"
    },
    {
     "name": "stdout",
     "output_type": "stream",
     "text": [
      "\n",
      "Epoch: 240 |train loss:1.4857 |train accuracy: 0.4441\n",
      "[3 0 0 2 1 3 0 0 0 3 0 2 0 0 0 0 1 1 3 0 2 1 0 1 2 0 0 2 0 0 0 1 1 0 2 0 0\n",
      " 0 3 0 2 1 0 0 0 3 3 0 1 0 1 2]\n"
     ]
    },
    {
     "data": {
      "application/vnd.jupyter.widget-view+json": {
       "model_id": "5a0c127a642248e49e55c509656e92ac",
       "version_major": 2,
       "version_minor": 0
      },
      "text/plain": [
       "HBox(children=(FloatProgress(value=1.0, bar_style='info', max=1.0), HTML(value='')))"
      ]
     },
     "metadata": {},
     "output_type": "display_data"
    },
    {
     "name": "stdout",
     "output_type": "stream",
     "text": [
      "\n",
      "Epoch: 241 |train loss:1.4881 |train accuracy: 0.4440\n",
      "[1 0 0 1 2 1 1 1 0 1 1 1 2 3 0 1 1 0 0 0 1 1 2 2 0 0 1 0 0 0 0 0 1 1 1 3 0\n",
      " 3 1 2 2 1 1 1 0 0 3 1 1 1 0 1]\n"
     ]
    },
    {
     "data": {
      "application/vnd.jupyter.widget-view+json": {
       "model_id": "d0327f86b4944e0baf5344c8b0dc2cda",
       "version_major": 2,
       "version_minor": 0
      },
      "text/plain": [
       "HBox(children=(FloatProgress(value=1.0, bar_style='info', max=1.0), HTML(value='')))"
      ]
     },
     "metadata": {},
     "output_type": "display_data"
    },
    {
     "name": "stdout",
     "output_type": "stream",
     "text": [
      "\n",
      "Epoch: 242 |train loss:1.4895 |train accuracy: 0.4411\n",
      "[1 3 0 0 0 0 1 0 2 0 0 0 0 1 1 0 0 0 0 0 0 0 1 1 0 1 2 1 0 0 0 1 0 0 3 0 0\n",
      " 0 1 1 3 0 0 2 1 0 0 1 2 1 2 0]\n"
     ]
    },
    {
     "data": {
      "application/vnd.jupyter.widget-view+json": {
       "model_id": "f8624117779c4584980223c2925b9d5a",
       "version_major": 2,
       "version_minor": 0
      },
      "text/plain": [
       "HBox(children=(FloatProgress(value=1.0, bar_style='info', max=1.0), HTML(value='')))"
      ]
     },
     "metadata": {},
     "output_type": "display_data"
    },
    {
     "name": "stdout",
     "output_type": "stream",
     "text": [
      "\n",
      "Epoch: 243 |train loss:1.4895 |train accuracy: 0.4415\n",
      "[0 0 1 3 1 1 0 0 0 0 0 0 0 0 1 2 0 1 1 3 2 1 0 1 0 1 0 0 3 0 0 2 0 1 0 0 1\n",
      " 3 0 2 0 0 1 1 3 0 2 1 0 0 0 0]\n"
     ]
    },
    {
     "data": {
      "application/vnd.jupyter.widget-view+json": {
       "model_id": "c90ff08e37e04b52a23262c670bb3b09",
       "version_major": 2,
       "version_minor": 0
      },
      "text/plain": [
       "HBox(children=(FloatProgress(value=1.0, bar_style='info', max=1.0), HTML(value='')))"
      ]
     },
     "metadata": {},
     "output_type": "display_data"
    },
    {
     "name": "stdout",
     "output_type": "stream",
     "text": [
      "\n",
      "Epoch: 244 |train loss:1.4873 |train accuracy: 0.4454\n",
      "[1 1 0 2 1 0 0 3 0 0 1 0 3 0 2 0 0 0 0 0 2 0 0 1 0 2 1 1 2 1 1 1 1 0 2 0 0\n",
      " 1 0 0 0 0 0 0 0 0 0 0 2 0 0 2]\n"
     ]
    },
    {
     "data": {
      "application/vnd.jupyter.widget-view+json": {
       "model_id": "2b5ae323cf914620ba2217b3221e49c2",
       "version_major": 2,
       "version_minor": 0
      },
      "text/plain": [
       "HBox(children=(FloatProgress(value=1.0, bar_style='info', max=1.0), HTML(value='')))"
      ]
     },
     "metadata": {},
     "output_type": "display_data"
    },
    {
     "name": "stdout",
     "output_type": "stream",
     "text": [
      "\n",
      "Epoch: 245 |train loss:1.4909 |train accuracy: 0.4412\n",
      "[0 0 0 0 0 0 0 0 0 2 1 0 0 0 1 0 1 0 1 0 0 2 0 1 0 0 1 1 1 1 0 0 1 0 1 1 0\n",
      " 0 0 0 0 2 0 1 3 1 1 0 1 1 1 1]\n"
     ]
    },
    {
     "data": {
      "application/vnd.jupyter.widget-view+json": {
       "model_id": "8f38e4544c844ba58f8a1abb16a285e9",
       "version_major": 2,
       "version_minor": 0
      },
      "text/plain": [
       "HBox(children=(FloatProgress(value=1.0, bar_style='info', max=1.0), HTML(value='')))"
      ]
     },
     "metadata": {},
     "output_type": "display_data"
    },
    {
     "name": "stdout",
     "output_type": "stream",
     "text": [
      "\n",
      "Epoch: 246 |train loss:1.4875 |train accuracy: 0.4436\n",
      "[2 0 1 2 0 3 1 0 0 0 1 0 0 0 0 0 0 2 1 1 0 1 0 1 0 1 0 1 0 2 0 0 2 0 0 0 1\n",
      " 0 1 3 0 1 0 2 0 0 1 0 0 0 3 0]\n"
     ]
    },
    {
     "data": {
      "application/vnd.jupyter.widget-view+json": {
       "model_id": "1ec72d909d614fecb125d128de0565e6",
       "version_major": 2,
       "version_minor": 0
      },
      "text/plain": [
       "HBox(children=(FloatProgress(value=1.0, bar_style='info', max=1.0), HTML(value='')))"
      ]
     },
     "metadata": {},
     "output_type": "display_data"
    },
    {
     "name": "stdout",
     "output_type": "stream",
     "text": [
      "\n",
      "Epoch: 247 |train loss:1.4898 |train accuracy: 0.4405\n",
      "[2 1 0 0 0 0 0 1 1 0 0 2 0 1 0 0 1 0 0 0 0 2 0 0 1 0 3 1 1 0 3 0 1 2 1 1 3\n",
      " 0 0 2 1 0 3 0 2 0 2 2 0 0 0 0]\n"
     ]
    },
    {
     "data": {
      "application/vnd.jupyter.widget-view+json": {
       "model_id": "b892456256dc41aeb16263b425d46045",
       "version_major": 2,
       "version_minor": 0
      },
      "text/plain": [
       "HBox(children=(FloatProgress(value=1.0, bar_style='info', max=1.0), HTML(value='')))"
      ]
     },
     "metadata": {},
     "output_type": "display_data"
    },
    {
     "name": "stdout",
     "output_type": "stream",
     "text": [
      "\n",
      "Epoch: 248 |train loss:1.4885 |train accuracy: 0.4417\n",
      "[1 1 0 0 1 1 1 0 0 1 0 0 0 0 0 3 3 0 2 0 0 0 0 3 0 0 2 2 0 0 0 0 0 0 0 0 0\n",
      " 1 0 0 3 0 3 1 1 0 3 0 0 0 1 2]\n"
     ]
    },
    {
     "data": {
      "application/vnd.jupyter.widget-view+json": {
       "model_id": "96c08457a98247f7aff19e42fb4b949a",
       "version_major": 2,
       "version_minor": 0
      },
      "text/plain": [
       "HBox(children=(FloatProgress(value=1.0, bar_style='info', max=1.0), HTML(value='')))"
      ]
     },
     "metadata": {},
     "output_type": "display_data"
    },
    {
     "name": "stdout",
     "output_type": "stream",
     "text": [
      "\n",
      "Epoch: 249 |train loss:1.4894 |train accuracy: 0.4415\n",
      "[1 0 1 0 0 2 0 3 0 0 0 1 1 0 0 0 0 0 0 0 0 0 0 0 0 0 1 0 0 0 1 0 0 0 0 0 2\n",
      " 1 1 1 0 2 0 0 2 2 0 1 0 0 0 0]\n"
     ]
    },
    {
     "data": {
      "application/vnd.jupyter.widget-view+json": {
       "model_id": "eb44a90b0f4e41aeb737cf40e0a2e6d9",
       "version_major": 2,
       "version_minor": 0
      },
      "text/plain": [
       "HBox(children=(FloatProgress(value=1.0, bar_style='info', max=1.0), HTML(value='')))"
      ]
     },
     "metadata": {},
     "output_type": "display_data"
    },
    {
     "name": "stdout",
     "output_type": "stream",
     "text": [
      "\n",
      "Epoch: 250 |train loss:1.4859 |train accuracy: 0.4440\n",
      "[0 0 0 1 1 0 0 0 0 1 1 0 0 0 3 0 1 1 3 1 0 3 2 1 1 0 1 2 1 1 0 0 1 0 0 2 1\n",
      " 1 0 1 0 0 2 1 0 0 0 0 1 0 0 0]\n"
     ]
    },
    {
     "data": {
      "application/vnd.jupyter.widget-view+json": {
       "model_id": "53467eae12b34cf4b453e7c06b6de1e2",
       "version_major": 2,
       "version_minor": 0
      },
      "text/plain": [
       "HBox(children=(FloatProgress(value=1.0, bar_style='info', max=1.0), HTML(value='')))"
      ]
     },
     "metadata": {},
     "output_type": "display_data"
    },
    {
     "name": "stdout",
     "output_type": "stream",
     "text": [
      "\n",
      "Epoch: 251 |train loss:1.4911 |train accuracy: 0.4413\n",
      "[3 0 2 0 0 0 0 1 1 1 0 0 0 0 1 0 1 0 0 1 0 0 1 0 2 0 0 0 1 0 1 3 0 1 0 0 0\n",
      " 2 0 0 0 3 2 2 0 0 0 1 2 0 0 2]\n"
     ]
    },
    {
     "data": {
      "application/vnd.jupyter.widget-view+json": {
       "model_id": "2e7df242ce2646bdb1628e80341a8da7",
       "version_major": 2,
       "version_minor": 0
      },
      "text/plain": [
       "HBox(children=(FloatProgress(value=1.0, bar_style='info', max=1.0), HTML(value='')))"
      ]
     },
     "metadata": {},
     "output_type": "display_data"
    },
    {
     "name": "stdout",
     "output_type": "stream",
     "text": [
      "\n",
      "Epoch: 252 |train loss:1.4884 |train accuracy: 0.4438\n",
      "[3 0 0 1 0 2 1 3 3 1 0 0 1 3 1 0 1 1 0 0 1 1 0 1 0 0 0 1 0 2 2 3 2 0 1 0 1\n",
      " 2 3 0 2 1 1 0 0 1 3 0 2 0 2 0]\n"
     ]
    },
    {
     "data": {
      "application/vnd.jupyter.widget-view+json": {
       "model_id": "a96990cbb155476ab1e3659eab0eaabe",
       "version_major": 2,
       "version_minor": 0
      },
      "text/plain": [
       "HBox(children=(FloatProgress(value=1.0, bar_style='info', max=1.0), HTML(value='')))"
      ]
     },
     "metadata": {},
     "output_type": "display_data"
    },
    {
     "name": "stdout",
     "output_type": "stream",
     "text": [
      "\n",
      "Epoch: 253 |train loss:1.4874 |train accuracy: 0.4446\n",
      "[0 3 2 1 0 0 1 1 0 0 0 0 1 1 0 0 1 0 0 0 0 0 0 1 1 0 0 0 1 0 2 0 1 0 1 2 2\n",
      " 1 0 1 0 1 3 0 0 1 2 2 1 0 1 0]\n"
     ]
    },
    {
     "data": {
      "application/vnd.jupyter.widget-view+json": {
       "model_id": "9f7388cf5c26493da5dc0d0e90613c1a",
       "version_major": 2,
       "version_minor": 0
      },
      "text/plain": [
       "HBox(children=(FloatProgress(value=1.0, bar_style='info', max=1.0), HTML(value='')))"
      ]
     },
     "metadata": {},
     "output_type": "display_data"
    },
    {
     "name": "stdout",
     "output_type": "stream",
     "text": [
      "\n",
      "Epoch: 254 |train loss:1.4900 |train accuracy: 0.4414\n",
      "[1 0 0 1 0 3 0 1 1 0 0 0 0 1 0 0 1 0 2 0 1 0 0 1 0 1 0 1 2 0 0 1 0 1 1 0 0\n",
      " 0 1 1 2 0 0 0 2 0 0 1 2 2 0 3]\n"
     ]
    },
    {
     "data": {
      "application/vnd.jupyter.widget-view+json": {
       "model_id": "2acb01228f32434cb551af9aaae6f806",
       "version_major": 2,
       "version_minor": 0
      },
      "text/plain": [
       "HBox(children=(FloatProgress(value=1.0, bar_style='info', max=1.0), HTML(value='')))"
      ]
     },
     "metadata": {},
     "output_type": "display_data"
    },
    {
     "name": "stdout",
     "output_type": "stream",
     "text": [
      "\n",
      "Epoch: 255 |train loss:1.4891 |train accuracy: 0.4413\n",
      "[1 1 2 0 1 2 0 1 0 0 0 2 1 3 2 0 0 0 0 0 0 1 1 0 0 0 3 0 1 1 1 0 2 0 2 1 1\n",
      " 1 1 0 0 0 1 3 2 0 0 0 0 1 1 0]\n"
     ]
    },
    {
     "data": {
      "application/vnd.jupyter.widget-view+json": {
       "model_id": "c6c6958d608c45098bb90be7b4fe87ac",
       "version_major": 2,
       "version_minor": 0
      },
      "text/plain": [
       "HBox(children=(FloatProgress(value=1.0, bar_style='info', max=1.0), HTML(value='')))"
      ]
     },
     "metadata": {},
     "output_type": "display_data"
    },
    {
     "name": "stdout",
     "output_type": "stream",
     "text": [
      "\n",
      "Epoch: 256 |train loss:1.4863 |train accuracy: 0.4424\n",
      "[0 2 0 1 0 0 0 0 2 0 1 1 3 3 1 1 1 0 2 2 3 3 1 1 0 0 1 2 0 1 1 0 0 1 2 2 1\n",
      " 0 0 0 1 3 3 0 1 1 0 1 2 0 0 0]\n"
     ]
    },
    {
     "data": {
      "application/vnd.jupyter.widget-view+json": {
       "model_id": "0bc9e2f01f034424ba1c2ede2fe78af4",
       "version_major": 2,
       "version_minor": 0
      },
      "text/plain": [
       "HBox(children=(FloatProgress(value=1.0, bar_style='info', max=1.0), HTML(value='')))"
      ]
     },
     "metadata": {},
     "output_type": "display_data"
    },
    {
     "name": "stdout",
     "output_type": "stream",
     "text": [
      "\n",
      "Epoch: 257 |train loss:1.4905 |train accuracy: 0.4422\n",
      "[1 1 2 0 1 0 1 0 1 0 2 0 0 2 0 0 0 3 0 2 0 0 0 0 0 0 1 1 0 0 0 1 1 0 3 1 0\n",
      " 1 1 1 1 1 0 0 1 3 0 0 1 0 1 0]\n"
     ]
    },
    {
     "data": {
      "application/vnd.jupyter.widget-view+json": {
       "model_id": "a495cfd391aa4b148fe8b1a41605fdc8",
       "version_major": 2,
       "version_minor": 0
      },
      "text/plain": [
       "HBox(children=(FloatProgress(value=1.0, bar_style='info', max=1.0), HTML(value='')))"
      ]
     },
     "metadata": {},
     "output_type": "display_data"
    },
    {
     "name": "stdout",
     "output_type": "stream",
     "text": [
      "\n",
      "Epoch: 258 |train loss:1.4903 |train accuracy: 0.4408\n",
      "[0 0 0 0 0 0 1 3 0 0 0 0 1 0 0 0 1 0 0 0 0 0 0 0 0 0 0 0 0 0 2 1 1 1 1 0 0\n",
      " 0 0 2 3 0 0 1 1 0 0 0 2 0 3 0]\n"
     ]
    },
    {
     "data": {
      "application/vnd.jupyter.widget-view+json": {
       "model_id": "8b3bedd0801947059eecf9bf1a07d362",
       "version_major": 2,
       "version_minor": 0
      },
      "text/plain": [
       "HBox(children=(FloatProgress(value=1.0, bar_style='info', max=1.0), HTML(value='')))"
      ]
     },
     "metadata": {},
     "output_type": "display_data"
    },
    {
     "name": "stdout",
     "output_type": "stream",
     "text": [
      "\n",
      "Epoch: 259 |train loss:1.4884 |train accuracy: 0.4424\n",
      "[3 0 1 2 0 0 1 0 1 0 0 1 1 1 2 0 2 0 0 0 1 1 0 0 0 0 0 0 0 2 1 0 0 0 0 0 0\n",
      " 1 0 2 0 1 0 0 0 0 0 1 0 1 0 2]\n"
     ]
    },
    {
     "data": {
      "application/vnd.jupyter.widget-view+json": {
       "model_id": "c17e08aeda3a4bcc9c99a722801b9946",
       "version_major": 2,
       "version_minor": 0
      },
      "text/plain": [
       "HBox(children=(FloatProgress(value=1.0, bar_style='info', max=1.0), HTML(value='')))"
      ]
     },
     "metadata": {},
     "output_type": "display_data"
    },
    {
     "name": "stdout",
     "output_type": "stream",
     "text": [
      "\n",
      "Epoch: 260 |train loss:1.4848 |train accuracy: 0.4452\n",
      "[1 1 0 0 0 1 0 0 0 0 0 1 2 1 0 0 0 1 0 1 0 0 0 0 1 0 0 2 2 0 0 1 0 3 0 0 1\n",
      " 1 0 2 0 1 0 2 0 1 1 0 0 0 2 0]\n"
     ]
    },
    {
     "data": {
      "application/vnd.jupyter.widget-view+json": {
       "model_id": "8c73c129ea2e4c7ba0f70aa2b8367092",
       "version_major": 2,
       "version_minor": 0
      },
      "text/plain": [
       "HBox(children=(FloatProgress(value=1.0, bar_style='info', max=1.0), HTML(value='')))"
      ]
     },
     "metadata": {},
     "output_type": "display_data"
    },
    {
     "name": "stdout",
     "output_type": "stream",
     "text": [
      "\n",
      "Epoch: 261 |train loss:1.4903 |train accuracy: 0.4400\n",
      "[0 1 1 3 0 0 1 0 0 0 0 3 0 2 1 0 0 1 0 2 2 2 2 0 0 1 0 0 2 2 0 1 0 1 0 1 0\n",
      " 1 0 1 0 1 0 3 0 2 2 0 1 0 1 3]\n"
     ]
    },
    {
     "data": {
      "application/vnd.jupyter.widget-view+json": {
       "model_id": "8bd0de39bb454af5a1869ac74693e5f2",
       "version_major": 2,
       "version_minor": 0
      },
      "text/plain": [
       "HBox(children=(FloatProgress(value=1.0, bar_style='info', max=1.0), HTML(value='')))"
      ]
     },
     "metadata": {},
     "output_type": "display_data"
    },
    {
     "name": "stdout",
     "output_type": "stream",
     "text": [
      "\n",
      "Epoch: 262 |train loss:1.4880 |train accuracy: 0.4440\n",
      "[0 0 0 1 0 0 3 0 0 0 0 0 1 2 1 2 1 2 0 0 0 1 0 2 0 2 0 0 2 0 0 3 0 1 0 0 0\n",
      " 1 0 0 0 2 0 0 1 1 3 1 0 1 0 1]\n"
     ]
    },
    {
     "data": {
      "application/vnd.jupyter.widget-view+json": {
       "model_id": "148a1cfb3f5443fba2647253d1b2d30d",
       "version_major": 2,
       "version_minor": 0
      },
      "text/plain": [
       "HBox(children=(FloatProgress(value=1.0, bar_style='info', max=1.0), HTML(value='')))"
      ]
     },
     "metadata": {},
     "output_type": "display_data"
    },
    {
     "name": "stdout",
     "output_type": "stream",
     "text": [
      "\n",
      "Epoch: 263 |train loss:1.4890 |train accuracy: 0.4423\n",
      "[0 0 1 0 0 0 0 0 1 0 1 2 0 0 0 3 0 0 1 1 0 1 2 2 0 2 2 1 0 3 0 1 0 2 1 1 0\n",
      " 0 1 1 0 2 1 0 0 0 0 0 0 0 1 0]\n"
     ]
    },
    {
     "data": {
      "application/vnd.jupyter.widget-view+json": {
       "model_id": "58a8f6c487f8474d9de6989469b826a4",
       "version_major": 2,
       "version_minor": 0
      },
      "text/plain": [
       "HBox(children=(FloatProgress(value=1.0, bar_style='info', max=1.0), HTML(value='')))"
      ]
     },
     "metadata": {},
     "output_type": "display_data"
    },
    {
     "name": "stdout",
     "output_type": "stream",
     "text": [
      "\n",
      "Epoch: 264 |train loss:1.4877 |train accuracy: 0.4444\n",
      "[1 1 0 0 1 1 1 3 0 1 1 3 0 0 0 1 2 2 0 0 1 2 0 1 0 0 1 0 0 3 3 0 1 2 3 0 2\n",
      " 3 0 0 3 1 3 1 0 2 1 0 0 0 0 0]\n"
     ]
    },
    {
     "data": {
      "application/vnd.jupyter.widget-view+json": {
       "model_id": "52af1361f55b4f6d84dad32c3df61abc",
       "version_major": 2,
       "version_minor": 0
      },
      "text/plain": [
       "HBox(children=(FloatProgress(value=1.0, bar_style='info', max=1.0), HTML(value='')))"
      ]
     },
     "metadata": {},
     "output_type": "display_data"
    },
    {
     "name": "stdout",
     "output_type": "stream",
     "text": [
      "\n",
      "Epoch: 265 |train loss:1.4884 |train accuracy: 0.4423\n",
      "[2 1 0 0 3 0 3 0 1 1 0 1 0 1 1 0 0 0 2 1 1 1 0 0 1 0 1 1 1 2 0 3 1 2 3 0 0\n",
      " 0 1 0 2 1 1 0 1 1 0 0 1 2 3 2]\n"
     ]
    },
    {
     "data": {
      "application/vnd.jupyter.widget-view+json": {
       "model_id": "3dd9a542e2d646deb60a124710febab6",
       "version_major": 2,
       "version_minor": 0
      },
      "text/plain": [
       "HBox(children=(FloatProgress(value=1.0, bar_style='info', max=1.0), HTML(value='')))"
      ]
     },
     "metadata": {},
     "output_type": "display_data"
    },
    {
     "name": "stdout",
     "output_type": "stream",
     "text": [
      "\n",
      "Epoch: 266 |train loss:1.4906 |train accuracy: 0.4406\n",
      "[1 2 3 3 0 0 0 0 2 0 0 1 1 1 3 0 3 0 0 0 0 2 1 1 0 1 0 1 1 0 0 0 2 0 0 0 1\n",
      " 1 0 2 0 2 0 2 0 1 2 0 1 0 0 0]\n"
     ]
    },
    {
     "data": {
      "application/vnd.jupyter.widget-view+json": {
       "model_id": "bebf6f2e64ee4171a9d3d7c02bbb1ef7",
       "version_major": 2,
       "version_minor": 0
      },
      "text/plain": [
       "HBox(children=(FloatProgress(value=1.0, bar_style='info', max=1.0), HTML(value='')))"
      ]
     },
     "metadata": {},
     "output_type": "display_data"
    },
    {
     "name": "stdout",
     "output_type": "stream",
     "text": [
      "\n",
      "Epoch: 267 |train loss:1.4928 |train accuracy: 0.4387\n",
      "[0 1 1 1 2 1 0 3 0 0 0 0 0 0 1 1 0 0 0 0 1 1 0 0 1 2 1 1 1 2 0 2 0 1 2 0 0\n",
      " 0 1 2 1 0 0 0 0 0 1 3 2 0 1 0]\n"
     ]
    },
    {
     "data": {
      "application/vnd.jupyter.widget-view+json": {
       "model_id": "1d20f19e55184b798e261ca15bb4ecc7",
       "version_major": 2,
       "version_minor": 0
      },
      "text/plain": [
       "HBox(children=(FloatProgress(value=1.0, bar_style='info', max=1.0), HTML(value='')))"
      ]
     },
     "metadata": {},
     "output_type": "display_data"
    },
    {
     "name": "stdout",
     "output_type": "stream",
     "text": [
      "\n",
      "Epoch: 268 |train loss:1.4877 |train accuracy: 0.4435\n",
      "[1 0 0 0 0 0 0 0 0 1 0 1 0 0 0 3 0 1 1 0 2 1 0 1 2 0 0 0 1 0 0 0 3 0 1 0 0\n",
      " 0 3 2 2 2 1 0 3 3 0 1 1 2 0 0]\n"
     ]
    },
    {
     "data": {
      "application/vnd.jupyter.widget-view+json": {
       "model_id": "abd798a0dde34c57bc7abf000232b96c",
       "version_major": 2,
       "version_minor": 0
      },
      "text/plain": [
       "HBox(children=(FloatProgress(value=1.0, bar_style='info', max=1.0), HTML(value='')))"
      ]
     },
     "metadata": {},
     "output_type": "display_data"
    },
    {
     "name": "stdout",
     "output_type": "stream",
     "text": [
      "\n",
      "Epoch: 269 |train loss:1.4899 |train accuracy: 0.4423\n",
      "[0 1 2 0 1 0 1 0 0 0 3 0 2 2 2 0 0 0 0 0 1 0 1 1 1 0 2 0 0 1 1 0 1 1 1 3 0\n",
      " 1 0 3 0 0 0 1 2 0 0 0 2 2 0 0]\n"
     ]
    },
    {
     "data": {
      "application/vnd.jupyter.widget-view+json": {
       "model_id": "351facc685b84cbcb451abc9f0bc4262",
       "version_major": 2,
       "version_minor": 0
      },
      "text/plain": [
       "HBox(children=(FloatProgress(value=1.0, bar_style='info', max=1.0), HTML(value='')))"
      ]
     },
     "metadata": {},
     "output_type": "display_data"
    },
    {
     "name": "stdout",
     "output_type": "stream",
     "text": [
      "\n",
      "Epoch: 270 |train loss:1.4902 |train accuracy: 0.4419\n",
      "[0 1 0 2 2 3 0 2 1 2 0 1 0 2 1 0 2 0 1 0 1 3 1 0 2 0 0 1 1 0 0 1 1 2 0 2 1\n",
      " 3 1 2 0 1 1 1 0 0 0 1 0 2 0 1]\n"
     ]
    },
    {
     "data": {
      "application/vnd.jupyter.widget-view+json": {
       "model_id": "508224386af044628886f28421684c91",
       "version_major": 2,
       "version_minor": 0
      },
      "text/plain": [
       "HBox(children=(FloatProgress(value=1.0, bar_style='info', max=1.0), HTML(value='')))"
      ]
     },
     "metadata": {},
     "output_type": "display_data"
    },
    {
     "name": "stdout",
     "output_type": "stream",
     "text": [
      "\n",
      "Epoch: 271 |train loss:1.4921 |train accuracy: 0.4390\n",
      "[1 1 3 1 3 2 0 2 0 1 2 0 1 1 0 1 2 0 1 2 0 0 1 0 1 0 2 0 0 2 1 2 1 1 1 0 1\n",
      " 1 0 0 2 0 0 1 3 0 1 1 2 0 3 2]\n"
     ]
    },
    {
     "data": {
      "application/vnd.jupyter.widget-view+json": {
       "model_id": "c3e43d79433e4d81a2081303fc4cf011",
       "version_major": 2,
       "version_minor": 0
      },
      "text/plain": [
       "HBox(children=(FloatProgress(value=1.0, bar_style='info', max=1.0), HTML(value='')))"
      ]
     },
     "metadata": {},
     "output_type": "display_data"
    },
    {
     "name": "stdout",
     "output_type": "stream",
     "text": [
      "\n",
      "Epoch: 272 |train loss:1.4912 |train accuracy: 0.4410\n",
      "[0 3 3 0 0 0 1 0 1 1 0 0 0 0 0 0 0 3 2 0 1 0 1 3 0 1 1 0 0 0 2 0 0 2 2 2 0\n",
      " 0 1 2 0 1 1 0 0 2 1 0 0 2 1 1]\n"
     ]
    },
    {
     "data": {
      "application/vnd.jupyter.widget-view+json": {
       "model_id": "a4deda1430b64e54b9241bb0258b782e",
       "version_major": 2,
       "version_minor": 0
      },
      "text/plain": [
       "HBox(children=(FloatProgress(value=1.0, bar_style='info', max=1.0), HTML(value='')))"
      ]
     },
     "metadata": {},
     "output_type": "display_data"
    },
    {
     "name": "stdout",
     "output_type": "stream",
     "text": [
      "\n",
      "Epoch: 273 |train loss:1.4863 |train accuracy: 0.4412\n",
      "[1 1 2 0 0 3 0 2 1 0 0 1 0 3 1 3 0 0 0 3 2 0 0 0 0 0 0 0 0 3 3 0 2 3 0 0 0\n",
      " 1 0 1 0 0 0 1 0 1 2 3 1 1 1 1]\n"
     ]
    },
    {
     "data": {
      "application/vnd.jupyter.widget-view+json": {
       "model_id": "ab003791bbfd452ab1986c3558853a83",
       "version_major": 2,
       "version_minor": 0
      },
      "text/plain": [
       "HBox(children=(FloatProgress(value=1.0, bar_style='info', max=1.0), HTML(value='')))"
      ]
     },
     "metadata": {},
     "output_type": "display_data"
    },
    {
     "name": "stdout",
     "output_type": "stream",
     "text": [
      "\n",
      "Epoch: 274 |train loss:1.4910 |train accuracy: 0.4399\n",
      "[0 0 0 1 1 0 0 1 0 1 2 1 1 0 0 0 3 1 0 2 0 0 1 2 1 1 3 1 1 1 0 2 1 0 1 0 0\n",
      " 0 3 1 0 0 0 2 3 0 0 1 1 0 1 0]\n"
     ]
    },
    {
     "data": {
      "application/vnd.jupyter.widget-view+json": {
       "model_id": "c83fa2e38bcb4d3fafb6ac35a764779c",
       "version_major": 2,
       "version_minor": 0
      },
      "text/plain": [
       "HBox(children=(FloatProgress(value=1.0, bar_style='info', max=1.0), HTML(value='')))"
      ]
     },
     "metadata": {},
     "output_type": "display_data"
    },
    {
     "name": "stdout",
     "output_type": "stream",
     "text": [
      "\n",
      "Epoch: 275 |train loss:1.4911 |train accuracy: 0.4394\n",
      "[2 3 1 1 3 1 1 0 0 0 3 3 0 3 1 2 1 1 2 0 0 0 1 0 3 1 1 1 2 1 1 3 0 1 0 1 0\n",
      " 1 1 1 1 0 0 1 0 0 1 1 0 0 1 2]\n"
     ]
    },
    {
     "data": {
      "application/vnd.jupyter.widget-view+json": {
       "model_id": "342b8c4c495a4ce5b9c078284b3d7b81",
       "version_major": 2,
       "version_minor": 0
      },
      "text/plain": [
       "HBox(children=(FloatProgress(value=1.0, bar_style='info', max=1.0), HTML(value='')))"
      ]
     },
     "metadata": {},
     "output_type": "display_data"
    },
    {
     "name": "stdout",
     "output_type": "stream",
     "text": [
      "\n",
      "Epoch: 276 |train loss:1.4862 |train accuracy: 0.4453\n",
      "[1 1 0 0 2 0 0 0 0 0 3 0 0 3 0 0 0 3 1 1 0 2 0 1 1 1 1 0 3 0 0 1 1 0 3 0 3\n",
      " 1 2 0 1 0 2 0 1 0 1 1 2 0 0 2]\n"
     ]
    },
    {
     "data": {
      "application/vnd.jupyter.widget-view+json": {
       "model_id": "a65fd50187bc4974bfa601de4d662b4a",
       "version_major": 2,
       "version_minor": 0
      },
      "text/plain": [
       "HBox(children=(FloatProgress(value=1.0, bar_style='info', max=1.0), HTML(value='')))"
      ]
     },
     "metadata": {},
     "output_type": "display_data"
    },
    {
     "name": "stdout",
     "output_type": "stream",
     "text": [
      "\n",
      "Epoch: 277 |train loss:1.4909 |train accuracy: 0.4406\n",
      "[0 2 3 1 0 0 0 1 1 1 2 0 1 0 3 0 0 2 1 0 0 0 0 0 0 0 3 0 2 2 1 0 1 3 1 0 1\n",
      " 1 0 0 0 0 2 0 1 0 0 1 1 1 0 0]\n"
     ]
    },
    {
     "data": {
      "application/vnd.jupyter.widget-view+json": {
       "model_id": "e1ee739917cd48c08fdf201c3b7fba59",
       "version_major": 2,
       "version_minor": 0
      },
      "text/plain": [
       "HBox(children=(FloatProgress(value=1.0, bar_style='info', max=1.0), HTML(value='')))"
      ]
     },
     "metadata": {},
     "output_type": "display_data"
    },
    {
     "name": "stdout",
     "output_type": "stream",
     "text": [
      "\n",
      "Epoch: 278 |train loss:1.4890 |train accuracy: 0.4440\n",
      "[0 0 0 3 1 0 0 0 1 0 1 1 0 0 2 1 0 0 0 1 0 0 1 1 1 0 1 0 1 1 0 2 0 0 2 0 0\n",
      " 0 1 1 1 0 0 2 0 0 0 0 3 1 1 3]\n"
     ]
    },
    {
     "data": {
      "application/vnd.jupyter.widget-view+json": {
       "model_id": "845722184bfd43ce8b501da7fa36dba0",
       "version_major": 2,
       "version_minor": 0
      },
      "text/plain": [
       "HBox(children=(FloatProgress(value=1.0, bar_style='info', max=1.0), HTML(value='')))"
      ]
     },
     "metadata": {},
     "output_type": "display_data"
    },
    {
     "name": "stdout",
     "output_type": "stream",
     "text": [
      "\n",
      "Epoch: 279 |train loss:1.4888 |train accuracy: 0.4434\n",
      "[1 1 1 2 3 0 1 0 1 3 2 1 0 2 0 0 0 0 0 1 3 1 1 2 0 0 0 1 0 1 0 0 0 0 0 0 0\n",
      " 1 0 1 1 0 0 0 0 1 0 0 2 1 0 0]\n"
     ]
    },
    {
     "data": {
      "application/vnd.jupyter.widget-view+json": {
       "model_id": "af5bbc368dcd4ad6a6e38bc52ee045fe",
       "version_major": 2,
       "version_minor": 0
      },
      "text/plain": [
       "HBox(children=(FloatProgress(value=1.0, bar_style='info', max=1.0), HTML(value='')))"
      ]
     },
     "metadata": {},
     "output_type": "display_data"
    },
    {
     "name": "stdout",
     "output_type": "stream",
     "text": [
      "\n",
      "Epoch: 280 |train loss:1.4919 |train accuracy: 0.4398\n",
      "[0 1 2 1 0 2 0 0 0 0 0 0 1 0 1 2 0 0 0 0 3 0 0 0 0 0 0 0 3 2 0 1 1 0 3 0 1\n",
      " 1 2 0 0 0 3 3 2 0 2 2 0 0 1 0]\n"
     ]
    },
    {
     "data": {
      "application/vnd.jupyter.widget-view+json": {
       "model_id": "a3199398b5e6408c81a03188aa258e3a",
       "version_major": 2,
       "version_minor": 0
      },
      "text/plain": [
       "HBox(children=(FloatProgress(value=1.0, bar_style='info', max=1.0), HTML(value='')))"
      ]
     },
     "metadata": {},
     "output_type": "display_data"
    },
    {
     "name": "stdout",
     "output_type": "stream",
     "text": [
      "\n",
      "Epoch: 281 |train loss:1.4889 |train accuracy: 0.4420\n",
      "[0 0 1 0 3 2 1 3 1 2 1 2 0 0 0 0 0 3 1 0 1 1 1 0 1 0 0 1 1 0 0 1 0 1 0 0 0\n",
      " 0 0 0 0 1 0 1 1 0 1 0 2 1 1 0]\n"
     ]
    },
    {
     "data": {
      "application/vnd.jupyter.widget-view+json": {
       "model_id": "5bdf6d92321b471888ae12a1e4f48fa3",
       "version_major": 2,
       "version_minor": 0
      },
      "text/plain": [
       "HBox(children=(FloatProgress(value=1.0, bar_style='info', max=1.0), HTML(value='')))"
      ]
     },
     "metadata": {},
     "output_type": "display_data"
    },
    {
     "name": "stdout",
     "output_type": "stream",
     "text": [
      "\n",
      "Epoch: 282 |train loss:1.4880 |train accuracy: 0.4449\n",
      "[1 0 0 0 0 0 0 3 1 0 0 2 1 0 0 0 1 0 1 0 1 2 2 0 2 0 0 2 1 1 0 0 3 0 2 2 0\n",
      " 0 0 0 3 1 0 2 0 3 1 0 0 0 0 1]\n"
     ]
    },
    {
     "data": {
      "application/vnd.jupyter.widget-view+json": {
       "model_id": "720cd5b2a4a14c8d8c3211eb7885103b",
       "version_major": 2,
       "version_minor": 0
      },
      "text/plain": [
       "HBox(children=(FloatProgress(value=1.0, bar_style='info', max=1.0), HTML(value='')))"
      ]
     },
     "metadata": {},
     "output_type": "display_data"
    },
    {
     "name": "stdout",
     "output_type": "stream",
     "text": [
      "\n",
      "Epoch: 283 |train loss:1.4942 |train accuracy: 0.4380\n",
      "[1 1 2 2 0 1 2 1 0 0 1 1 1 3 0 1 3 2 0 0 0 2 0 0 0 0 0 1 0 0 1 0 0 1 0 0 0\n",
      " 0 0 2 0 0 1 0 0 0 0 0 0 0 0 0]\n"
     ]
    },
    {
     "data": {
      "application/vnd.jupyter.widget-view+json": {
       "model_id": "ad094ce6393c411ea7beb32569d15c41",
       "version_major": 2,
       "version_minor": 0
      },
      "text/plain": [
       "HBox(children=(FloatProgress(value=1.0, bar_style='info', max=1.0), HTML(value='')))"
      ]
     },
     "metadata": {},
     "output_type": "display_data"
    },
    {
     "name": "stdout",
     "output_type": "stream",
     "text": [
      "\n",
      "Epoch: 284 |train loss:1.4888 |train accuracy: 0.4422\n",
      "[0 0 1 1 0 1 0 0 0 1 0 0 3 1 2 0 0 1 0 0 0 1 1 1 1 0 0 1 1 1 2 1 0 0 3 0 0\n",
      " 0 1 0 0 0 0 1 0 1 0 1 1 0 0 2]\n"
     ]
    },
    {
     "data": {
      "application/vnd.jupyter.widget-view+json": {
       "model_id": "f0b31e60a75042b3bd5fcab7c49e8b53",
       "version_major": 2,
       "version_minor": 0
      },
      "text/plain": [
       "HBox(children=(FloatProgress(value=1.0, bar_style='info', max=1.0), HTML(value='')))"
      ]
     },
     "metadata": {},
     "output_type": "display_data"
    },
    {
     "name": "stdout",
     "output_type": "stream",
     "text": [
      "\n",
      "Epoch: 285 |train loss:1.4906 |train accuracy: 0.4407\n",
      "[1 0 0 0 3 2 0 0 1 0 2 0 0 0 0 2 0 1 1 0 1 0 1 1 3 3 0 1 1 1 0 3 1 1 2 1 0\n",
      " 0 3 0 0 2 0 1 2 1 0 1 0 1 0 1]\n"
     ]
    },
    {
     "data": {
      "application/vnd.jupyter.widget-view+json": {
       "model_id": "d06d6a85ec894d5daf20b5bcc9ae8772",
       "version_major": 2,
       "version_minor": 0
      },
      "text/plain": [
       "HBox(children=(FloatProgress(value=1.0, bar_style='info', max=1.0), HTML(value='')))"
      ]
     },
     "metadata": {},
     "output_type": "display_data"
    },
    {
     "name": "stdout",
     "output_type": "stream",
     "text": [
      "\n",
      "Epoch: 286 |train loss:1.4939 |train accuracy: 0.4356\n",
      "[1 0 2 2 0 3 0 0 0 2 2 1 2 1 0 0 0 2 1 0 0 0 1 0 1 1 3 0 1 1 1 3 0 1 2 2 3\n",
      " 0 1 1 0 0 0 0 1 0 0 1 1 0 2 0]\n"
     ]
    },
    {
     "data": {
      "application/vnd.jupyter.widget-view+json": {
       "model_id": "fc10effc48484901a2c950c97c08b017",
       "version_major": 2,
       "version_minor": 0
      },
      "text/plain": [
       "HBox(children=(FloatProgress(value=1.0, bar_style='info', max=1.0), HTML(value='')))"
      ]
     },
     "metadata": {},
     "output_type": "display_data"
    },
    {
     "name": "stdout",
     "output_type": "stream",
     "text": [
      "\n",
      "Epoch: 287 |train loss:1.4894 |train accuracy: 0.4429\n",
      "[1 3 0 1 2 0 1 0 3 0 2 0 0 0 0 0 1 1 3 1 0 0 0 1 2 0 0 1 1 1 1 0 0 2 0 2 0\n",
      " 0 1 0 0 1 0 3 0 1 1 2 0 2 1 0]\n"
     ]
    },
    {
     "data": {
      "application/vnd.jupyter.widget-view+json": {
       "model_id": "3aa9ae171aee4544a9acd7805bf02420",
       "version_major": 2,
       "version_minor": 0
      },
      "text/plain": [
       "HBox(children=(FloatProgress(value=1.0, bar_style='info', max=1.0), HTML(value='')))"
      ]
     },
     "metadata": {},
     "output_type": "display_data"
    },
    {
     "name": "stdout",
     "output_type": "stream",
     "text": [
      "\n",
      "Epoch: 288 |train loss:1.4882 |train accuracy: 0.4416\n",
      "[1 0 1 0 0 1 1 2 1 0 0 0 2 0 0 1 3 0 3 0 1 1 0 1 1 1 1 0 0 0 1 2 1 0 0 3 1\n",
      " 0 0 3 0 1 0 0 0 0 2 1 1 0 0 1]\n"
     ]
    },
    {
     "data": {
      "application/vnd.jupyter.widget-view+json": {
       "model_id": "7b6b451cbbd8466e9ef41b40ff913f26",
       "version_major": 2,
       "version_minor": 0
      },
      "text/plain": [
       "HBox(children=(FloatProgress(value=1.0, bar_style='info', max=1.0), HTML(value='')))"
      ]
     },
     "metadata": {},
     "output_type": "display_data"
    },
    {
     "name": "stdout",
     "output_type": "stream",
     "text": [
      "\n",
      "Epoch: 289 |train loss:1.4895 |train accuracy: 0.4412\n",
      "[1 0 0 1 0 0 0 1 0 2 2 1 0 1 0 1 0 0 0 0 1 0 0 3 0 2 1 0 0 0 0 1 1 0 2 0 0\n",
      " 2 1 1 2 0 3 0 1 0 1 1 2 1 1 0]\n"
     ]
    },
    {
     "data": {
      "application/vnd.jupyter.widget-view+json": {
       "model_id": "a19a3a35d1c043bfb6108fcfd4e3a05a",
       "version_major": 2,
       "version_minor": 0
      },
      "text/plain": [
       "HBox(children=(FloatProgress(value=1.0, bar_style='info', max=1.0), HTML(value='')))"
      ]
     },
     "metadata": {},
     "output_type": "display_data"
    },
    {
     "name": "stdout",
     "output_type": "stream",
     "text": [
      "\n",
      "Epoch: 290 |train loss:1.4883 |train accuracy: 0.4433\n",
      "[2 2 2 0 0 3 0 3 0 1 0 0 3 1 0 2 0 1 1 0 0 0 0 1 2 0 0 2 3 0 0 1 0 0 1 0 0\n",
      " 3 0 0 0 1 1 0 0 1 0 1 0 0 0 0]\n"
     ]
    },
    {
     "data": {
      "application/vnd.jupyter.widget-view+json": {
       "model_id": "3de5894bdd5a4cb08505f5cbd611cbb0",
       "version_major": 2,
       "version_minor": 0
      },
      "text/plain": [
       "HBox(children=(FloatProgress(value=1.0, bar_style='info', max=1.0), HTML(value='')))"
      ]
     },
     "metadata": {},
     "output_type": "display_data"
    }
   ],
   "source": [
    "device = 'cuda' if torch.cuda.is_available() else 'cpu'\n",
    "Models = DCNN(embedding_matrix)\n",
    "LSTT = Main_model(Models,train_loader,_,0.005,500,1e-2,device)\n",
    "history_loss, history_train_acc = LSTT.forward()"
   ]
  },
  {
   "cell_type": "code",
   "execution_count": null,
   "metadata": {},
   "outputs": [],
   "source": [
    "np.argmax(LSTT.ans[500000],axis=1)"
   ]
  },
  {
   "cell_type": "code",
   "execution_count": null,
   "metadata": {},
   "outputs": [],
   "source": [
    "len(LSTT.ans)"
   ]
  },
  {
   "cell_type": "code",
   "execution_count": null,
   "metadata": {},
   "outputs": [],
   "source": []
  }
 ],
 "metadata": {
  "kernelspec": {
   "display_name": "Python 3",
   "language": "python",
   "name": "python3"
  },
  "language_info": {
   "codemirror_mode": {
    "name": "ipython",
    "version": 3
   },
   "file_extension": ".py",
   "mimetype": "text/x-python",
   "name": "python",
   "nbconvert_exporter": "python",
   "pygments_lexer": "ipython3",
   "version": "3.6.10"
  }
 },
 "nbformat": 4,
 "nbformat_minor": 4
}
